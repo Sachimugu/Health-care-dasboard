{
 "cells": [
  {
   "cell_type": "markdown",
   "id": "008579e3",
   "metadata": {},
   "source": [
    "# Nigerian Health Care DashBoard\n",
    "### Table of Contents\n",
    "<ul>\n",
    "<li><a href=\"#intro\">Introduction</a></li>\n",
    "<li><a href=\"#wrangling\">Data Wrangling</a></li>\n",
    "<li><a href=\"#eda\">Exploratory Data Analysis</a></li>\n",
    "<li><a href=\"#conclusions\">Conclusion</a></li>\n",
    "</ul>\n",
    "\n",
    "<a name = \"intro\"></a>\n",
    "## 1. Introduction\n",
    "\n",
    "### 1.1 Objective\n",
    "\n",
    "The objective of this project is to build a dashboard that represent the nigerian health care system ata a glance. In other to represent the health care system at a glance following feature has to be included in the dashboard along with a drop down menu to filter by state\n",
    "> - Number of doctors, dentists, nurse, other health personel\n",
    "> - Bubble map of number of facility, \n",
    "> - Bargraph of number of doctors, \n",
    "> - distriution of ownershipe \n",
    "> - level of facilities\n",
    "> - summary table\n",
    "\n",
    "### 1.2 Data Source\n",
    "> - The data set used in notebook was scraped from https://hfr.health.gov.ng/\n",
    "> - Scraping script can be found here\n",
    "\n",
    "Data will be wrangled using python and dashboard will be build and deployed using plotly-dash"
   ]
  },
  {
   "cell_type": "markdown",
   "id": "05527285",
   "metadata": {},
   "source": [
    "<a name = \"wrangling\"></a>\n",
    "## 2. Data Wrangling"
   ]
  },
  {
   "cell_type": "code",
   "execution_count": 97,
   "id": "59aa55d3",
   "metadata": {},
   "outputs": [],
   "source": [
    "#Import libraries\n",
    "import pandas as pd\n",
    "from matplotlib import pyplot as plt\n",
    "import numpy as np\n",
    "import warnings\n",
    "warnings.filterwarnings('ignore')"
   ]
  },
  {
   "cell_type": "code",
   "execution_count": 98,
   "id": "c4bdd6d3",
   "metadata": {
    "scrolled": false
   },
   "outputs": [
    {
     "data": {
      "text/html": [
       "<div>\n",
       "<style scoped>\n",
       "    .dataframe tbody tr th:only-of-type {\n",
       "        vertical-align: middle;\n",
       "    }\n",
       "\n",
       "    .dataframe tbody tr th {\n",
       "        vertical-align: top;\n",
       "    }\n",
       "\n",
       "    .dataframe thead th {\n",
       "        text-align: right;\n",
       "    }\n",
       "</style>\n",
       "<table border=\"1\" class=\"dataframe\">\n",
       "  <thead>\n",
       "    <tr style=\"text-align: right;\">\n",
       "      <th></th>\n",
       "      <th>ID</th>\n",
       "      <th>State</th>\n",
       "      <th>Facility_Name</th>\n",
       "      <th>Ward</th>\n",
       "      <th>LGA</th>\n",
       "      <th>Ownership</th>\n",
       "      <th>Ownership_Type</th>\n",
       "      <th>Facility_Level</th>\n",
       "      <th>Facility_Level_Option</th>\n",
       "      <th>Physical_Location</th>\n",
       "      <th>...</th>\n",
       "      <th>Number_of_Midwifes</th>\n",
       "      <th>Number_of_Nurses_Midwifes</th>\n",
       "      <th>Number_of_him_officers</th>\n",
       "      <th>Number_of_community_health_officer</th>\n",
       "      <th>Number_of_community_extension_workers</th>\n",
       "      <th>Number_of_jun_community_extension_worker</th>\n",
       "      <th>Number_of_dental_technicians</th>\n",
       "      <th>Number_of_env_health_officers</th>\n",
       "      <th>Inpatient_care</th>\n",
       "      <th>Outpatient_care</th>\n",
       "    </tr>\n",
       "  </thead>\n",
       "  <tbody>\n",
       "    <tr>\n",
       "      <th>0</th>\n",
       "      <td>48319756</td>\n",
       "      <td>Abia</td>\n",
       "      <td>Aba Holy Wounds Hospital</td>\n",
       "      <td>Ariaria</td>\n",
       "      <td>Aba North</td>\n",
       "      <td>Private</td>\n",
       "      <td>For Profit</td>\n",
       "      <td>Secondary</td>\n",
       "      <td>NaN</td>\n",
       "      <td>NaN</td>\n",
       "      <td>...</td>\n",
       "      <td>1.0</td>\n",
       "      <td>2.0</td>\n",
       "      <td>0.0</td>\n",
       "      <td>2.0</td>\n",
       "      <td>1.0</td>\n",
       "      <td>1.0</td>\n",
       "      <td>NaN</td>\n",
       "      <td>0.0</td>\n",
       "      <td>Yes</td>\n",
       "      <td>Yes</td>\n",
       "    </tr>\n",
       "    <tr>\n",
       "      <th>1</th>\n",
       "      <td>63964073</td>\n",
       "      <td>Abia</td>\n",
       "      <td>Chidima Hospital</td>\n",
       "      <td>Ariaria</td>\n",
       "      <td>Aba North</td>\n",
       "      <td>Private</td>\n",
       "      <td>NaN</td>\n",
       "      <td>Primary</td>\n",
       "      <td>NaN</td>\n",
       "      <td>NaN</td>\n",
       "      <td>...</td>\n",
       "      <td>NaN</td>\n",
       "      <td>NaN</td>\n",
       "      <td>NaN</td>\n",
       "      <td>NaN</td>\n",
       "      <td>NaN</td>\n",
       "      <td>NaN</td>\n",
       "      <td>NaN</td>\n",
       "      <td>NaN</td>\n",
       "      <td>NaN</td>\n",
       "      <td>NaN</td>\n",
       "    </tr>\n",
       "    <tr>\n",
       "      <th>2</th>\n",
       "      <td>26456575</td>\n",
       "      <td>Abia</td>\n",
       "      <td>Euna Hospital</td>\n",
       "      <td>Ariaria</td>\n",
       "      <td>Aba North</td>\n",
       "      <td>Private</td>\n",
       "      <td>For Profit</td>\n",
       "      <td>Secondary</td>\n",
       "      <td>NaN</td>\n",
       "      <td>NaN</td>\n",
       "      <td>...</td>\n",
       "      <td>1.0</td>\n",
       "      <td>1.0</td>\n",
       "      <td>0.0</td>\n",
       "      <td>0.0</td>\n",
       "      <td>0.0</td>\n",
       "      <td>0.0</td>\n",
       "      <td>0.0</td>\n",
       "      <td>0.0</td>\n",
       "      <td>Yes</td>\n",
       "      <td>Yes</td>\n",
       "    </tr>\n",
       "    <tr>\n",
       "      <th>3</th>\n",
       "      <td>73938255</td>\n",
       "      <td>Abia</td>\n",
       "      <td>Goodness &amp; Mercy hospital</td>\n",
       "      <td>Ariaria</td>\n",
       "      <td>Aba North</td>\n",
       "      <td>Private</td>\n",
       "      <td>For Profit</td>\n",
       "      <td>Secondary</td>\n",
       "      <td>NaN</td>\n",
       "      <td>NaN</td>\n",
       "      <td>...</td>\n",
       "      <td>1.0</td>\n",
       "      <td>1.0</td>\n",
       "      <td>0.0</td>\n",
       "      <td>3.0</td>\n",
       "      <td>5.0</td>\n",
       "      <td>0.0</td>\n",
       "      <td>0.0</td>\n",
       "      <td>NaN</td>\n",
       "      <td>Yes</td>\n",
       "      <td>Yes</td>\n",
       "    </tr>\n",
       "  </tbody>\n",
       "</table>\n",
       "<p>4 rows × 34 columns</p>\n",
       "</div>"
      ],
      "text/plain": [
       "         ID State              Facility_Name     Ward        LGA Ownership  \\\n",
       "0  48319756  Abia   Aba Holy Wounds Hospital  Ariaria  Aba North   Private   \n",
       "1  63964073  Abia           Chidima Hospital  Ariaria  Aba North   Private   \n",
       "2  26456575  Abia              Euna Hospital  Ariaria  Aba North   Private   \n",
       "3  73938255  Abia  Goodness & Mercy hospital  Ariaria  Aba North   Private   \n",
       "\n",
       "  Ownership_Type Facility_Level Facility_Level_Option Physical_Location  ...  \\\n",
       "0     For Profit      Secondary                   NaN               NaN  ...   \n",
       "1            NaN        Primary                   NaN               NaN  ...   \n",
       "2     For Profit      Secondary                   NaN               NaN  ...   \n",
       "3     For Profit      Secondary                   NaN               NaN  ...   \n",
       "\n",
       "  Number_of_Midwifes Number_of_Nurses_Midwifes Number_of_him_officers  \\\n",
       "0                1.0                       2.0                    0.0   \n",
       "1                NaN                       NaN                    NaN   \n",
       "2                1.0                       1.0                    0.0   \n",
       "3                1.0                       1.0                    0.0   \n",
       "\n",
       "  Number_of_community_health_officer Number_of_community_extension_workers  \\\n",
       "0                                2.0                                   1.0   \n",
       "1                                NaN                                   NaN   \n",
       "2                                0.0                                   0.0   \n",
       "3                                3.0                                   5.0   \n",
       "\n",
       "  Number_of_jun_community_extension_worker Number_of_dental_technicians   \\\n",
       "0                                      1.0                           NaN   \n",
       "1                                      NaN                           NaN   \n",
       "2                                      0.0                           0.0   \n",
       "3                                      0.0                           0.0   \n",
       "\n",
       "   Number_of_env_health_officers Inpatient_care Outpatient_care  \n",
       "0                            0.0            Yes             Yes  \n",
       "1                            NaN            NaN             NaN  \n",
       "2                            0.0            Yes             Yes  \n",
       "3                            NaN            Yes             Yes  \n",
       "\n",
       "[4 rows x 34 columns]"
      ]
     },
     "execution_count": 98,
     "metadata": {},
     "output_type": "execute_result"
    }
   ],
   "source": [
    "#loading data\n",
    "df=pd.read_csv('./Dataset/health1.csv')\n",
    "df.head(4)"
   ]
  },
  {
   "cell_type": "code",
   "execution_count": 99,
   "id": "7f7023a3",
   "metadata": {
    "scrolled": true
   },
   "outputs": [
    {
     "name": "stdout",
     "output_type": "stream",
     "text": [
      "number of rows are: 39960\n",
      "number of columns are: 34\n"
     ]
    }
   ],
   "source": [
    "#rows and columns\n",
    "print('number of rows are:', df.shape[0]) \n",
    "print('number of columns are:', df.shape[1])"
   ]
  },
  {
   "cell_type": "code",
   "execution_count": 100,
   "id": "07c34500",
   "metadata": {
    "scrolled": true
   },
   "outputs": [
    {
     "name": "stdout",
     "output_type": "stream",
     "text": [
      "<class 'pandas.core.frame.DataFrame'>\n",
      "RangeIndex: 39960 entries, 0 to 39959\n",
      "Data columns (total 34 columns):\n",
      " #   Column                                    Non-Null Count  Dtype  \n",
      "---  ------                                    --------------  -----  \n",
      " 0   ID                                        39960 non-null  int64  \n",
      " 1   State                                     39960 non-null  object \n",
      " 2   Facility_Name                             39960 non-null  object \n",
      " 3   Ward                                      39945 non-null  object \n",
      " 4   LGA                                       39960 non-null  object \n",
      " 5   Ownership                                 39960 non-null  object \n",
      " 6   Ownership_Type                            32934 non-null  object \n",
      " 7   Facility_Level                            39960 non-null  object \n",
      " 8   Facility_Level_Option                     25994 non-null  object \n",
      " 9   Physical_Location                         25486 non-null  object \n",
      " 10  Postal_Address                            2919 non-null   object \n",
      " 11  Longitude                                 35275 non-null  object \n",
      " 12  Latitude                                  35311 non-null  object \n",
      " 13  Phone_Number                              21448 non-null  object \n",
      " 14  Email_Address                             3126 non-null   object \n",
      " 15  Website                                   6 non-null      object \n",
      " 16  Operational_Status                        39960 non-null  object \n",
      " 17  Total_number_of_Beds                      28812 non-null  float64\n",
      " 18  Onsite_Laboratory                         12922 non-null  object \n",
      " 19  Mortuary_Services                         8565 non-null   object \n",
      " 20  Ambulance_Services                        39960 non-null  object \n",
      " 21  Number_of_Doctors                         16923 non-null  float64\n",
      " 22  Number_of_Dentists                        13664 non-null  float64\n",
      " 23  Number_of_Nurses                          15844 non-null  float64\n",
      " 24  Number_of_Midwifes                        14885 non-null  float64\n",
      " 25  Number_of_Nurses_Midwifes                 15844 non-null  float64\n",
      " 26  Number_of_him_officers                    15967 non-null  float64\n",
      " 27  Number_of_community_health_officer        15051 non-null  float64\n",
      " 28  Number_of_community_extension_workers     24850 non-null  float64\n",
      " 29  Number_of_jun_community_extension_worker  19930 non-null  float64\n",
      " 30  Number_of_dental_technicians              13514 non-null  float64\n",
      " 31  Number_of_env_health_officers             16272 non-null  float64\n",
      " 32  Inpatient_care                            14989 non-null  object \n",
      " 33  Outpatient_care                           29104 non-null  object \n",
      "dtypes: float64(12), int64(1), object(21)\n",
      "memory usage: 10.4+ MB\n"
     ]
    }
   ],
   "source": [
    "df.info()"
   ]
  },
  {
   "cell_type": "code",
   "execution_count": 101,
   "id": "64e7fee2",
   "metadata": {
    "scrolled": false
   },
   "outputs": [
    {
     "data": {
      "text/plain": [
       "Ward                                        0.000375\n",
       "Ownership_Type                              0.175826\n",
       "Facility_Level_Option                       0.349499\n",
       "Physical_Location                           0.362212\n",
       "Postal_Address                              0.926952\n",
       "Longitude                                   0.117242\n",
       "Latitude                                    0.116341\n",
       "Phone_Number                                0.463263\n",
       "Email_Address                               0.921772\n",
       "Website                                     0.999850\n",
       "Total_number_of_Beds                        0.278979\n",
       "Onsite_Laboratory                           0.676627\n",
       "Mortuary_Services                           0.785661\n",
       "Number_of_Doctors                           0.576502\n",
       "Number_of_Dentists                          0.658058\n",
       "Number_of_Nurses                            0.603504\n",
       "Number_of_Midwifes                          0.627503\n",
       "Number_of_Nurses_Midwifes                   0.603504\n",
       "Number_of_him_officers                      0.600425\n",
       "Number_of_community_health_officer          0.623348\n",
       "Number_of_community_extension_workers       0.378128\n",
       "Number_of_jun_community_extension_worker    0.501251\n",
       "Number_of_dental_technicians                0.661812\n",
       "Number_of_env_health_officers               0.592793\n",
       "Inpatient_care                              0.624900\n",
       "Outpatient_care                             0.271672\n",
       "dtype: float64"
      ]
     },
     "execution_count": 101,
     "metadata": {},
     "output_type": "execute_result"
    }
   ],
   "source": [
    "#sum of nan by columns\n",
    "(df.isnull().sum()[df.isnull().sum()> 0])/df.shape[0]"
   ]
  },
  {
   "cell_type": "markdown",
   "id": "169ff5e5",
   "metadata": {},
   "source": [
    "### 2.1 Handling Missing Values \n",
    "\n",
    "Missing values in the dataset does not neccessarly mean values are missing but rather mean zero or absent eg most rural health post are manned by communiite health extension worker CHEW with no doctors, dentist, onsit laboraratory etc values for these filed are left empty meaning zero. in the next cell, such values will be filled with zero "
   ]
  },
  {
   "cell_type": "code",
   "execution_count": 102,
   "id": "48ea1a0e",
   "metadata": {},
   "outputs": [],
   "source": [
    "df['Ownership_Type']=df['Ownership_Type'].fillna(value=df['Ownership_Type'].mode()[0])\n",
    "df['Facility_Level_Option']=df['Facility_Level_Option'].fillna(value=df['Facility_Level'])\n",
    "df['Postal_Address']=df['Postal_Address'].fillna(value='No Postal Address')\n",
    "df['Phone_Number']=df['Phone_Number'].fillna(value='No Phone Number')\n",
    "df['Email_Address']=df['Email_Address'].fillna(value='No Email')\n",
    "df['Ward']=df['Ward'].fillna(value='ffill')\n",
    "df['Website']=df['Website'].fillna(value='No Website')\n",
    "df['Total_number_of_Beds']=df['Total_number_of_Beds'].fillna(value=0.0)\n",
    "df['Onsite_Laboratory']=df['Onsite_Laboratory'].fillna(value='No')\n",
    "df['Mortuary_Services']=df['Mortuary_Services'].fillna(value='No')\n",
    "df['Number_of_Doctors']=df['Number_of_Doctors'].fillna(value=0.0)\n",
    "df['Number_of_Nurses_Midwifes']=(df['Number_of_Nurses'] + df['Number_of_Midwifes']).fillna(value=0.0)\n",
    "df['Number_of_Midwifes']=df['Number_of_Midwifes'].fillna(value=0.0)\n",
    "df['Number_of_him_officers']=df['Number_of_him_officers'].fillna(value=0.0)\n",
    "df['Number_of_community_health_officer']=df['Number_of_community_health_officer'].fillna(value=0.0)\n",
    "df['Number_of_community_extension_workers']=df['Number_of_community_extension_workers'].fillna(value=0.0)\n",
    "df['Number_of_jun_community_extension_worker']=df['Number_of_jun_community_extension_worker'].fillna(value=0.0)\n",
    "df['Number_of_Nurses']=df['Number_of_Nurses'].fillna(value=0.0)\n",
    "df['Number_of_env_health_officers']=df['Number_of_env_health_officers'].fillna(value=0.0)\n",
    "df['Number_of_env_health_officers']=df['Number_of_env_health_officers'].fillna(value=0.0)\n",
    "df['Number_of_dental_technicians ']=df['Number_of_dental_technicians '].fillna(value=0.0)\n",
    "df['Number_of_Dentists']=df['Number_of_Dentists'].fillna(value=0.0)\n",
    "df['Inpatient_care']=df['Inpatient_care'].fillna(value='No')\n",
    "df['Outpatient_care']=df['Outpatient_care'].fillna(value='No')\n",
    "df['Longitude']=df['Longitude'].fillna(method = 'ffill')\n",
    "df['Latitude']=df['Latitude'].fillna(method = 'ffill')"
   ]
  },
  {
   "cell_type": "code",
   "execution_count": 103,
   "id": "540322bd",
   "metadata": {
    "scrolled": true
   },
   "outputs": [
    {
     "data": {
      "text/plain": [
       "Total_number_of_Beds                        256818.0\n",
       "Number_of_Doctors                            25384.0\n",
       "Number_of_Dentists                            5866.0\n",
       "Number_of_Nurses                             20605.0\n",
       "Number_of_Midwifes                            9170.0\n",
       "Number_of_Nurses_Midwifes                    23812.0\n",
       "Number_of_him_officers                       12807.0\n",
       "Number_of_community_health_officer            6134.0\n",
       "Number_of_community_extension_workers        42207.0\n",
       "Number_of_jun_community_extension_worker     20724.0\n",
       "Number_of_dental_technicians                  3460.0\n",
       "Number_of_env_health_officers                12688.0\n",
       "dtype: float64"
      ]
     },
     "execution_count": 103,
     "metadata": {},
     "output_type": "execute_result"
    }
   ],
   "source": [
    "df[df.columns[df.dtypes == 'float64']].sum()"
   ]
  },
  {
   "cell_type": "markdown",
   "id": "3b611c38",
   "metadata": {},
   "source": [
    "### 2.2 Prepraing Data for DashBoard\n",
    "> - For easier visualisation  Number_of_him_officers, Number_of_community_health_officer, Number_of_community_extension_workers Number_of_jun_community_extension_worker, Number_of_dental_technicians, Number_of_env_health_officers are combined as Number_of_other_Health_personels\n",
    "> - Both rnNurse and Midwifes would be combined as nurse as both are generaly called nurse by the population\n",
    "> - Health Facilutues with no personnel will be dropped\n",
    "> - format cordinte to approriate datatype"
   ]
  },
  {
   "cell_type": "code",
   "execution_count": 104,
   "id": "08bd40b5",
   "metadata": {},
   "outputs": [],
   "source": [
    "#creating Number_of_other_Health_personels\n",
    "df['Number_of_other_Health_personels'] = df['Number_of_him_officers'] + df['Number_of_community_health_officer'] +df['Number_of_community_extension_workers'] + df['Number_of_jun_community_extension_worker'] + df['Number_of_env_health_officers'] + df['Number_of_dental_technicians ']"
   ]
  },
  {
   "cell_type": "code",
   "execution_count": 105,
   "id": "da1494e2",
   "metadata": {},
   "outputs": [],
   "source": [
    "# combining rnnurse and midwives\n",
    "df['Number_of_Nurses']=df['Number_of_Nurses_Midwifes']"
   ]
  },
  {
   "cell_type": "code",
   "execution_count": 106,
   "id": "061b40a1",
   "metadata": {},
   "outputs": [],
   "source": [
    "df=df.drop(columns=['Physical_Location','Number_of_Nurses_Midwifes','Number_of_Midwifes','Number_of_him_officers','Number_of_community_health_officer','Number_of_jun_community_extension_worker','Number_of_env_health_officers','Number_of_community_extension_workers','Number_of_dental_technicians '])\n",
    "No_Medical_personel=df[df['Number_of_other_Health_personels']== 0]\n",
    "df=df.drop(No_Medical_personel.index, axis=0)"
   ]
  },
  {
   "cell_type": "code",
   "execution_count": 107,
   "id": "be2b941a",
   "metadata": {},
   "outputs": [],
   "source": [
    "#Dropping facilities with no health personel\n",
    "No_Medical_personel=df[df['Number_of_other_Health_personels']== 0]\n",
    "df=df.drop(No_Medical_personel.index, axis=0)\n",
    "df = df.reset_index(drop=True)"
   ]
  },
  {
   "cell_type": "code",
   "execution_count": 108,
   "id": "818e1a4f",
   "metadata": {
    "scrolled": true
   },
   "outputs": [
    {
     "data": {
      "text/html": [
       "<div>\n",
       "<style scoped>\n",
       "    .dataframe tbody tr th:only-of-type {\n",
       "        vertical-align: middle;\n",
       "    }\n",
       "\n",
       "    .dataframe tbody tr th {\n",
       "        vertical-align: top;\n",
       "    }\n",
       "\n",
       "    .dataframe thead th {\n",
       "        text-align: right;\n",
       "    }\n",
       "</style>\n",
       "<table border=\"1\" class=\"dataframe\">\n",
       "  <thead>\n",
       "    <tr style=\"text-align: right;\">\n",
       "      <th></th>\n",
       "      <th>ID</th>\n",
       "      <th>Total_number_of_Beds</th>\n",
       "      <th>Number_of_Doctors</th>\n",
       "      <th>Number_of_Dentists</th>\n",
       "      <th>Number_of_Nurses</th>\n",
       "      <th>Number_of_other_Health_personels</th>\n",
       "    </tr>\n",
       "  </thead>\n",
       "  <tbody>\n",
       "    <tr>\n",
       "      <th>count</th>\n",
       "      <td>2.815100e+04</td>\n",
       "      <td>28151.000000</td>\n",
       "      <td>28151.000000</td>\n",
       "      <td>28151.000000</td>\n",
       "      <td>28151.000000</td>\n",
       "      <td>28151.000000</td>\n",
       "    </tr>\n",
       "    <tr>\n",
       "      <th>mean</th>\n",
       "      <td>5.025269e+07</td>\n",
       "      <td>8.222585</td>\n",
       "      <td>0.803701</td>\n",
       "      <td>0.187951</td>\n",
       "      <td>0.783027</td>\n",
       "      <td>3.481937</td>\n",
       "    </tr>\n",
       "    <tr>\n",
       "      <th>std</th>\n",
       "      <td>2.173461e+07</td>\n",
       "      <td>28.727313</td>\n",
       "      <td>10.081662</td>\n",
       "      <td>6.016669</td>\n",
       "      <td>6.712176</td>\n",
       "      <td>5.963091</td>\n",
       "    </tr>\n",
       "    <tr>\n",
       "      <th>min</th>\n",
       "      <td>1.234649e+07</td>\n",
       "      <td>0.000000</td>\n",
       "      <td>0.000000</td>\n",
       "      <td>0.000000</td>\n",
       "      <td>0.000000</td>\n",
       "      <td>1.000000</td>\n",
       "    </tr>\n",
       "    <tr>\n",
       "      <th>25%</th>\n",
       "      <td>3.144286e+07</td>\n",
       "      <td>2.000000</td>\n",
       "      <td>0.000000</td>\n",
       "      <td>0.000000</td>\n",
       "      <td>0.000000</td>\n",
       "      <td>1.000000</td>\n",
       "    </tr>\n",
       "    <tr>\n",
       "      <th>50%</th>\n",
       "      <td>5.044440e+07</td>\n",
       "      <td>4.000000</td>\n",
       "      <td>0.000000</td>\n",
       "      <td>0.000000</td>\n",
       "      <td>0.000000</td>\n",
       "      <td>2.000000</td>\n",
       "    </tr>\n",
       "    <tr>\n",
       "      <th>75%</th>\n",
       "      <td>6.908048e+07</td>\n",
       "      <td>8.000000</td>\n",
       "      <td>0.000000</td>\n",
       "      <td>0.000000</td>\n",
       "      <td>0.000000</td>\n",
       "      <td>4.000000</td>\n",
       "    </tr>\n",
       "    <tr>\n",
       "      <th>max</th>\n",
       "      <td>8.765400e+07</td>\n",
       "      <td>2011.000000</td>\n",
       "      <td>766.000000</td>\n",
       "      <td>766.000000</td>\n",
       "      <td>382.000000</td>\n",
       "      <td>436.000000</td>\n",
       "    </tr>\n",
       "  </tbody>\n",
       "</table>\n",
       "</div>"
      ],
      "text/plain": [
       "                 ID  Total_number_of_Beds  Number_of_Doctors  \\\n",
       "count  2.815100e+04          28151.000000       28151.000000   \n",
       "mean   5.025269e+07              8.222585           0.803701   \n",
       "std    2.173461e+07             28.727313          10.081662   \n",
       "min    1.234649e+07              0.000000           0.000000   \n",
       "25%    3.144286e+07              2.000000           0.000000   \n",
       "50%    5.044440e+07              4.000000           0.000000   \n",
       "75%    6.908048e+07              8.000000           0.000000   \n",
       "max    8.765400e+07           2011.000000         766.000000   \n",
       "\n",
       "       Number_of_Dentists  Number_of_Nurses  Number_of_other_Health_personels  \n",
       "count        28151.000000      28151.000000                      28151.000000  \n",
       "mean             0.187951          0.783027                          3.481937  \n",
       "std              6.016669          6.712176                          5.963091  \n",
       "min              0.000000          0.000000                          1.000000  \n",
       "25%              0.000000          0.000000                          1.000000  \n",
       "50%              0.000000          0.000000                          2.000000  \n",
       "75%              0.000000          0.000000                          4.000000  \n",
       "max            766.000000        382.000000                        436.000000  "
      ]
     },
     "execution_count": 108,
     "metadata": {},
     "output_type": "execute_result"
    }
   ],
   "source": [
    "df.describe()"
   ]
  },
  {
   "cell_type": "code",
   "execution_count": 109,
   "id": "79906fde",
   "metadata": {},
   "outputs": [],
   "source": [
    "# convert long and lat to approriate datatype\n",
    "df['Longitude']=df['Longitude'].astype(float)\n",
    "df['Latitude']=df['Latitude'].astype(float)\n",
    "df['Longitude']=df['Longitude'].round(2)\n",
    "df['Latitude']=df['Latitude'].round(2)"
   ]
  },
  {
   "cell_type": "markdown",
   "id": "10992997",
   "metadata": {},
   "source": [
    "<a name = \"eda\"></a>\n",
    "## 3. Exploratory Data Analysis"
   ]
  },
  {
   "cell_type": "markdown",
   "id": "4f77743f",
   "metadata": {},
   "source": [
    " ### 3.1 Facility_Level"
   ]
  },
  {
   "cell_type": "code",
   "execution_count": 110,
   "id": "e6f6826c",
   "metadata": {},
   "outputs": [],
   "source": [
    "#Facility_Level grouped by state\n",
    "Facility_Level=df.groupby(by=['State','Facility_Level' ],as_index=False)['ID'].count()\n",
    "Facility_Level.to_csv('./Dataset/Facility_Level.csv',index=False)"
   ]
  },
  {
   "cell_type": "code",
   "execution_count": 111,
   "id": "39918ce5",
   "metadata": {
    "scrolled": false
   },
   "outputs": [
    {
     "data": {
      "image/png": "[encoded data removed]",
      "text/plain": [
       "<Figure size 432x432 with 1 Axes>"
      ]
     },
     "metadata": {},
     "output_type": "display_data"
    }
   ],
   "source": [
    "# Pie plot of Facility_Level\n",
    "fl = df['Facility_Level'].value_counts().sort_values(ascending=False)\n",
    "plt.figure(figsize = (6,6))\n",
    "plt.title('Percentage Representation of Facility Level, in Pie_graph')\n",
    "plt.pie(fl, labels = list(fl.index), autopct = '%1.2f%%');"
   ]
  },
  {
   "cell_type": "markdown",
   "id": "fd6dc9bf",
   "metadata": {},
   "source": [
    "- **0.25%** are of tertary level\n",
    "- 88% of all facilities are of primary level\n",
    "- 11% are of secondary level\n"
   ]
  },
  {
   "cell_type": "markdown",
   "id": "9cb08e63",
   "metadata": {},
   "source": [
    "## 3.2 Ownership"
   ]
  },
  {
   "cell_type": "code",
   "execution_count": 112,
   "id": "8f037dee",
   "metadata": {
    "scrolled": true
   },
   "outputs": [],
   "source": [
    "#Ownership type grouped by state\n",
    "Ownership=df.groupby(by=['State', 'Ownership' ],as_index=False)['ID'].count()\n",
    "Ownership.to_csv('./Dataset/Ownership.csv',index=False)"
   ]
  },
  {
   "cell_type": "code",
   "execution_count": 113,
   "id": "9355ee6e",
   "metadata": {},
   "outputs": [
    {
     "data": {
      "image/png": "[encoded data removed]",
      "text/plain": [
       "<Figure size 432x432 with 1 Axes>"
      ]
     },
     "metadata": {},
     "output_type": "display_data"
    }
   ],
   "source": [
    "# Pie plot of Ownership type\n",
    "ot = df['Ownership'].value_counts().sort_values(ascending=False)\n",
    "plt.figure(figsize = (6,6))\n",
    "plt.title('Percentage Representation of Ownership Type, in Pie_graph')\n",
    "plt.pie(ot, labels = list(ot.index), autopct = '%1.2f%%');"
   ]
  },
  {
   "cell_type": "markdown",
   "id": "8f39ad71",
   "metadata": {},
   "source": [
    "- 82% are Goverment owned health care facilities\n",
    "- 18% are privately owned "
   ]
  },
  {
   "cell_type": "code",
   "execution_count": 114,
   "id": "74e8f65d",
   "metadata": {
    "scrolled": false
   },
   "outputs": [
    {
     "data": {
      "text/plain": [
       "Local Government                      21038\n",
       "For Profit                             4916\n",
       "State Government                       1766\n",
       "Not For Profit                          184\n",
       "Federal Government                      151\n",
       "Military & Paramilitary formations       96\n",
       "Name: Ownership_Type, dtype: int64"
      ]
     },
     "execution_count": 114,
     "metadata": {},
     "output_type": "execute_result"
    }
   ],
   "source": [
    "df['Ownership_Type'].value_counts()"
   ]
  },
  {
   "cell_type": "markdown",
   "id": "08e9e910",
   "metadata": {},
   "source": [
    "\n",
    "### 3.3 Summary Table"
   ]
  },
  {
   "cell_type": "code",
   "execution_count": 115,
   "id": "26b91727",
   "metadata": {
    "scrolled": true
   },
   "outputs": [
    {
     "data": {
      "text/html": [
       "<div>\n",
       "<style scoped>\n",
       "    .dataframe tbody tr th:only-of-type {\n",
       "        vertical-align: middle;\n",
       "    }\n",
       "\n",
       "    .dataframe tbody tr th {\n",
       "        vertical-align: top;\n",
       "    }\n",
       "\n",
       "    .dataframe thead th {\n",
       "        text-align: right;\n",
       "    }\n",
       "</style>\n",
       "<table border=\"1\" class=\"dataframe\">\n",
       "  <thead>\n",
       "    <tr style=\"text-align: right;\">\n",
       "      <th></th>\n",
       "      <th>State</th>\n",
       "      <th>Number_of_Doctors</th>\n",
       "      <th>Number_of_Dentists</th>\n",
       "      <th>Number_of_Nurses</th>\n",
       "      <th>Number_of_other_Health_personels</th>\n",
       "      <th>No_of_facility</th>\n",
       "    </tr>\n",
       "  </thead>\n",
       "  <tbody>\n",
       "    <tr>\n",
       "      <th>0</th>\n",
       "      <td>Abia</td>\n",
       "      <td>177.0</td>\n",
       "      <td>37.0</td>\n",
       "      <td>287.0</td>\n",
       "      <td>2165.0</td>\n",
       "      <td>706</td>\n",
       "    </tr>\n",
       "    <tr>\n",
       "      <th>1</th>\n",
       "      <td>Adamawa</td>\n",
       "      <td>402.0</td>\n",
       "      <td>260.0</td>\n",
       "      <td>698.0</td>\n",
       "      <td>3205.0</td>\n",
       "      <td>838</td>\n",
       "    </tr>\n",
       "    <tr>\n",
       "      <th>2</th>\n",
       "      <td>Akwa-Ibom</td>\n",
       "      <td>345.0</td>\n",
       "      <td>64.0</td>\n",
       "      <td>107.0</td>\n",
       "      <td>953.0</td>\n",
       "      <td>374</td>\n",
       "    </tr>\n",
       "    <tr>\n",
       "      <th>3</th>\n",
       "      <td>Anambra</td>\n",
       "      <td>628.0</td>\n",
       "      <td>204.0</td>\n",
       "      <td>317.0</td>\n",
       "      <td>1901.0</td>\n",
       "      <td>762</td>\n",
       "    </tr>\n",
       "  </tbody>\n",
       "</table>\n",
       "</div>"
      ],
      "text/plain": [
       "       State  Number_of_Doctors  Number_of_Dentists  Number_of_Nurses  \\\n",
       "0       Abia              177.0                37.0             287.0   \n",
       "1    Adamawa              402.0               260.0             698.0   \n",
       "2  Akwa-Ibom              345.0                64.0             107.0   \n",
       "3    Anambra              628.0               204.0             317.0   \n",
       "\n",
       "   Number_of_other_Health_personels  No_of_facility  \n",
       "0                            2165.0             706  \n",
       "1                            3205.0             838  \n",
       "2                             953.0             374  \n",
       "3                            1901.0             762  "
      ]
     },
     "execution_count": 115,
     "metadata": {},
     "output_type": "execute_result"
    }
   ],
   "source": [
    "#sumarrized table by state\n",
    "df1=df.groupby(by='State',as_index=False)[['Number_of_Doctors','Number_of_Dentists','Number_of_Nurses','Number_of_other_Health_personels']].sum()\n",
    "df1['No_of_facility']=df.groupby(by='State',as_index=False)[['ID']].count()['ID']\n",
    "df1.head(4)"
   ]
  },
  {
   "cell_type": "code",
   "execution_count": 117,
   "id": "0fad154e",
   "metadata": {
    "scrolled": false
   },
   "outputs": [
    {
     "data": {
      "text/html": [
       "<div>\n",
       "<style scoped>\n",
       "    .dataframe tbody tr th:only-of-type {\n",
       "        vertical-align: middle;\n",
       "    }\n",
       "\n",
       "    .dataframe tbody tr th {\n",
       "        vertical-align: top;\n",
       "    }\n",
       "\n",
       "    .dataframe thead th {\n",
       "        text-align: right;\n",
       "    }\n",
       "</style>\n",
       "<table border=\"1\" class=\"dataframe\">\n",
       "  <thead>\n",
       "    <tr style=\"text-align: right;\">\n",
       "      <th></th>\n",
       "      <th>State</th>\n",
       "      <th>Number_of_Doctors</th>\n",
       "      <th>Number_of_Dentists</th>\n",
       "      <th>Number_of_Nurses</th>\n",
       "      <th>Number_of_other_Health_personels</th>\n",
       "      <th>No_of_facility</th>\n",
       "      <th>lat</th>\n",
       "      <th>long</th>\n",
       "    </tr>\n",
       "  </thead>\n",
       "  <tbody>\n",
       "    <tr>\n",
       "      <th>0</th>\n",
       "      <td>Abia</td>\n",
       "      <td>177.0</td>\n",
       "      <td>37.0</td>\n",
       "      <td>287.0</td>\n",
       "      <td>2165.0</td>\n",
       "      <td>706</td>\n",
       "      <td>5.454095</td>\n",
       "      <td>7.515307</td>\n",
       "    </tr>\n",
       "    <tr>\n",
       "      <th>1</th>\n",
       "      <td>Adamawa</td>\n",
       "      <td>402.0</td>\n",
       "      <td>260.0</td>\n",
       "      <td>698.0</td>\n",
       "      <td>3205.0</td>\n",
       "      <td>838</td>\n",
       "      <td>9.512977</td>\n",
       "      <td>12.388189</td>\n",
       "    </tr>\n",
       "    <tr>\n",
       "      <th>2</th>\n",
       "      <td>Akwa-Ibom</td>\n",
       "      <td>345.0</td>\n",
       "      <td>64.0</td>\n",
       "      <td>107.0</td>\n",
       "      <td>953.0</td>\n",
       "      <td>374</td>\n",
       "      <td>4.988061</td>\n",
       "      <td>7.795178</td>\n",
       "    </tr>\n",
       "    <tr>\n",
       "      <th>3</th>\n",
       "      <td>Anambra</td>\n",
       "      <td>628.0</td>\n",
       "      <td>204.0</td>\n",
       "      <td>317.0</td>\n",
       "      <td>1901.0</td>\n",
       "      <td>762</td>\n",
       "      <td>6.218314</td>\n",
       "      <td>6.953184</td>\n",
       "    </tr>\n",
       "  </tbody>\n",
       "</table>\n",
       "</div>"
      ],
      "text/plain": [
       "       State  Number_of_Doctors  Number_of_Dentists  Number_of_Nurses  \\\n",
       "0       Abia              177.0                37.0             287.0   \n",
       "1    Adamawa              402.0               260.0             698.0   \n",
       "2  Akwa-Ibom              345.0                64.0             107.0   \n",
       "3    Anambra              628.0               204.0             317.0   \n",
       "\n",
       "   Number_of_other_Health_personels  No_of_facility       lat       long  \n",
       "0                            2165.0             706  5.454095   7.515307  \n",
       "1                            3205.0             838  9.512977  12.388189  \n",
       "2                             953.0             374  4.988061   7.795178  \n",
       "3                            1901.0             762  6.218314   6.953184  "
      ]
     },
     "execution_count": 117,
     "metadata": {},
     "output_type": "execute_result"
    }
   ],
   "source": [
    "#Getting state cordinate from state name\n",
    "df1['State'].replace('Niger','Minna',inplace= True,)\n",
    "from geopy.geocoders import Nominatim\n",
    "geolocator = Nominatim(user_agent=\"http\")\n",
    "\n",
    "df1[['lat', 'long']] = df1['State'].apply(\n",
    "    geolocator.geocode).apply(lambda x: pd.Series(\n",
    "        [x.latitude, x.longitude], index=['lat', 'long']))\n",
    "df1['State'].replace('Minna','Niger',inplace= True,)\n",
    "df1.to_csv('./Dataset/state.csv',index=False)\n",
    "df1.head(4)"
   ]
  },
  {
   "cell_type": "code",
   "execution_count": 120,
   "id": "55595cc7",
   "metadata": {
    "scrolled": false
   },
   "outputs": [
    {
     "data": {
      "text/html": [
       "<div>\n",
       "<style scoped>\n",
       "    .dataframe tbody tr th:only-of-type {\n",
       "        vertical-align: middle;\n",
       "    }\n",
       "\n",
       "    .dataframe tbody tr th {\n",
       "        vertical-align: top;\n",
       "    }\n",
       "\n",
       "    .dataframe thead th {\n",
       "        text-align: right;\n",
       "    }\n",
       "</style>\n",
       "<table border=\"1\" class=\"dataframe\">\n",
       "  <thead>\n",
       "    <tr style=\"text-align: right;\">\n",
       "      <th></th>\n",
       "      <th>State</th>\n",
       "      <th>Doctors</th>\n",
       "      <th>Dentists</th>\n",
       "      <th>Nurses</th>\n",
       "      <th>Allied</th>\n",
       "      <th>Facilities</th>\n",
       "    </tr>\n",
       "  </thead>\n",
       "  <tbody>\n",
       "    <tr>\n",
       "      <th>0</th>\n",
       "      <td>Abia</td>\n",
       "      <td>177.0</td>\n",
       "      <td>37.0</td>\n",
       "      <td>287.0</td>\n",
       "      <td>2165.0</td>\n",
       "      <td>706</td>\n",
       "    </tr>\n",
       "    <tr>\n",
       "      <th>1</th>\n",
       "      <td>Adamawa</td>\n",
       "      <td>402.0</td>\n",
       "      <td>260.0</td>\n",
       "      <td>698.0</td>\n",
       "      <td>3205.0</td>\n",
       "      <td>838</td>\n",
       "    </tr>\n",
       "    <tr>\n",
       "      <th>2</th>\n",
       "      <td>Akwa-Ibom</td>\n",
       "      <td>345.0</td>\n",
       "      <td>64.0</td>\n",
       "      <td>107.0</td>\n",
       "      <td>953.0</td>\n",
       "      <td>374</td>\n",
       "    </tr>\n",
       "    <tr>\n",
       "      <th>3</th>\n",
       "      <td>Anambra</td>\n",
       "      <td>628.0</td>\n",
       "      <td>204.0</td>\n",
       "      <td>317.0</td>\n",
       "      <td>1901.0</td>\n",
       "      <td>762</td>\n",
       "    </tr>\n",
       "  </tbody>\n",
       "</table>\n",
       "</div>"
      ],
      "text/plain": [
       "       State  Doctors  Dentists  Nurses  Allied  Facilities\n",
       "0       Abia    177.0      37.0   287.0  2165.0         706\n",
       "1    Adamawa    402.0     260.0   698.0  3205.0         838\n",
       "2  Akwa-Ibom    345.0      64.0   107.0   953.0         374\n",
       "3    Anambra    628.0     204.0   317.0  1901.0         762"
      ]
     },
     "execution_count": 120,
     "metadata": {},
     "output_type": "execute_result"
    }
   ],
   "source": [
    "#summerized table\n",
    "df1=pd.read_csv('./Dataset/state.csv')\n",
    "df1=df1.rename(columns={\n",
    "    'Number_of_Doctors':'Doctors',\n",
    "    'Number_of_Dentists':'Dentists',\n",
    "    'Number_of_Nurses':'Nurses',\n",
    "    'Number_of_other_Health_personels':'Allied',\n",
    "    'No_of_facility':'Facilities'\n",
    "})\n",
    "df1=df1[['State','Doctors','Dentists','Nurses','Allied','Facilities']]\n",
    "df1.to_csv('./Dataset/table.csv',index=False)\n",
    "df1.head(4)"
   ]
  },
  {
   "cell_type": "markdown",
   "id": "1a3e0018",
   "metadata": {},
   "source": [
    "### 3.4 Facilities by State"
   ]
  },
  {
   "cell_type": "code",
   "execution_count": 129,
   "id": "666747f8",
   "metadata": {},
   "outputs": [
    {
     "data": {
      "application/vnd.plotly.v1+json": {
       "config": {
        "plotlyServerURL": "https://plot.ly"
       },
       "data": [
        {
         "alignmentgroup": "True",
         "hovertemplate": "No_of_facility=%{text}<br>State=%{y}<extra></extra>",
         "legendgroup": "",
         "marker": {
          "color": [
           "#b3b3b3",
           "#b3b3b3",
           "#b3b3b3",
           "#b3b3b3",
           "#b3b3b3",
           "#b3b3b3",
           "#b3b3b3",
           "#b3b3b3",
           "#b3b3b3",
           "#b3b3b3",
           "#b3b3b3",
           "#b3b3b3",
           "#b3b3b3",
           "#b3b3b3",
           "#b3b3b3",
           "#b3b3b3",
           "#b3b3b3",
           "#b3b3b3",
           "#b3b3b3",
           "#b3b3b3",
           "#b3b3b3",
           "#b3b3b3",
           "#b3b3b3",
           "#b3b3b3",
           "#b3b3b3",
           "#b3b3b3",
           "#b3b3b3",
           "#b3b3b3",
           "#b3b3b3",
           "#b3b3b3",
           "#b3b3b3",
           "#b3b3b3",
           "#b3b3b3",
           "#b3b3b3",
           "#b3b3b3",
           "#b3b3b3",
           "#b3b3b3"
          ],
          "pattern": {
           "shape": ""
          }
         },
         "name": "",
         "offsetgroup": "",
         "orientation": "h",
         "showlegend": false,
         "text": [
          706,
          838,
          374,
          762,
          1122,
          283,
          1089,
          437,
          1022,
          546,
          646,
          428,
          450,
          691,
          351,
          624,
          674,
          729,
          1175,
          1375,
          1636,
          894,
          1059,
          757,
          757,
          851,
          1380,
          520,
          453,
          728,
          928,
          1232,
          386,
          352,
          736,
          444,
          716
         ],
         "textfont": {
          "color": "#fff",
          "size": 12
         },
         "textposition": "outside",
         "type": "bar",
         "x": [
          706,
          838,
          374,
          762,
          1122,
          283,
          1089,
          437,
          1022,
          546,
          646,
          428,
          450,
          691,
          351,
          624,
          674,
          729,
          1175,
          1375,
          1636,
          894,
          1059,
          757,
          757,
          851,
          1380,
          520,
          453,
          728,
          928,
          1232,
          386,
          352,
          736,
          444,
          716
         ],
         "xaxis": "x",
         "y": [
          "Abia",
          "Adamawa",
          "Akwa-Ibom",
          "Anambra",
          "Bauchi",
          "Bayelsa",
          "Benue",
          "Borno",
          "Cross River",
          "Delta",
          "Ebonyi",
          "Edo",
          "Ekiti",
          "Enugu",
          "FCT",
          "Gombe",
          "Imo",
          "Jigawa",
          "Kaduna",
          "Kano",
          "Katsina",
          "Kebbi",
          "Kogi",
          "Kwara",
          "Lagos",
          "Nasarawa",
          "Niger",
          "Ogun",
          "Ondo",
          "Osun",
          "Oyo",
          "Plateau",
          "Rivers",
          "Sokoto",
          "Taraba",
          "Yobe",
          "Zamfara"
         ],
         "yaxis": "y"
        }
       ],
       "layout": {
        "barmode": "relative",
        "height": 900,
        "legend": {
         "tracegroupgap": 0
        },
        "template": {
         "data": {
          "bar": [
           {
            "error_x": {
             "color": "#f2f5fa"
            },
            "error_y": {
             "color": "#f2f5fa"
            },
            "marker": {
             "line": {
              "color": "rgb(17,17,17)",
              "width": 0.5
             },
             "pattern": {
              "fillmode": "overlay",
              "size": 10,
              "solidity": 0.2
             }
            },
            "type": "bar"
           }
          ],
          "barpolar": [
           {
            "marker": {
             "line": {
              "color": "rgb(17,17,17)",
              "width": 0.5
             },
             "pattern": {
              "fillmode": "overlay",
              "size": 10,
              "solidity": 0.2
             }
            },
            "type": "barpolar"
           }
          ],
          "carpet": [
           {
            "aaxis": {
             "endlinecolor": "#A2B1C6",
             "gridcolor": "#506784",
             "linecolor": "#506784",
             "minorgridcolor": "#506784",
             "startlinecolor": "#A2B1C6"
            },
            "baxis": {
             "endlinecolor": "#A2B1C6",
             "gridcolor": "#506784",
             "linecolor": "#506784",
             "minorgridcolor": "#506784",
             "startlinecolor": "#A2B1C6"
            },
            "type": "carpet"
           }
          ],
          "choropleth": [
           {
            "colorbar": {
             "outlinewidth": 0,
             "ticks": ""
            },
            "type": "choropleth"
           }
          ],
          "contour": [
           {
            "colorbar": {
             "outlinewidth": 0,
             "ticks": ""
            },
            "colorscale": [
             [
              0,
              "#0d0887"
             ],
             [
              0.1111111111111111,
              "#46039f"
             ],
             [
              0.2222222222222222,
              "#7201a8"
             ],
             [
              0.3333333333333333,
              "#9c179e"
             ],
             [
              0.4444444444444444,
              "#bd3786"
             ],
             [
              0.5555555555555556,
              "#d8576b"
             ],
             [
              0.6666666666666666,
              "#ed7953"
             ],
             [
              0.7777777777777778,
              "#fb9f3a"
             ],
             [
              0.8888888888888888,
              "#fdca26"
             ],
             [
              1,
              "#f0f921"
             ]
            ],
            "type": "contour"
           }
          ],
          "contourcarpet": [
           {
            "colorbar": {
             "outlinewidth": 0,
             "ticks": ""
            },
            "type": "contourcarpet"
           }
          ],
          "heatmap": [
           {
            "colorbar": {
             "outlinewidth": 0,
             "ticks": ""
            },
            "colorscale": [
             [
              0,
              "#0d0887"
             ],
             [
              0.1111111111111111,
              "#46039f"
             ],
             [
              0.2222222222222222,
              "#7201a8"
             ],
             [
              0.3333333333333333,
              "#9c179e"
             ],
             [
              0.4444444444444444,
              "#bd3786"
             ],
             [
              0.5555555555555556,
              "#d8576b"
             ],
             [
              0.6666666666666666,
              "#ed7953"
             ],
             [
              0.7777777777777778,
              "#fb9f3a"
             ],
             [
              0.8888888888888888,
              "#fdca26"
             ],
             [
              1,
              "#f0f921"
             ]
            ],
            "type": "heatmap"
           }
          ],
          "heatmapgl": [
           {
            "colorbar": {
             "outlinewidth": 0,
             "ticks": ""
            },
            "colorscale": [
             [
              0,
              "#0d0887"
             ],
             [
              0.1111111111111111,
              "#46039f"
             ],
             [
              0.2222222222222222,
              "#7201a8"
             ],
             [
              0.3333333333333333,
              "#9c179e"
             ],
             [
              0.4444444444444444,
              "#bd3786"
             ],
             [
              0.5555555555555556,
              "#d8576b"
             ],
             [
              0.6666666666666666,
              "#ed7953"
             ],
             [
              0.7777777777777778,
              "#fb9f3a"
             ],
             [
              0.8888888888888888,
              "#fdca26"
             ],
             [
              1,
              "#f0f921"
             ]
            ],
            "type": "heatmapgl"
           }
          ],
          "histogram": [
           {
            "marker": {
             "pattern": {
              "fillmode": "overlay",
              "size": 10,
              "solidity": 0.2
             }
            },
            "type": "histogram"
           }
          ],
          "histogram2d": [
           {
            "colorbar": {
             "outlinewidth": 0,
             "ticks": ""
            },
            "colorscale": [
             [
              0,
              "#0d0887"
             ],
             [
              0.1111111111111111,
              "#46039f"
             ],
             [
              0.2222222222222222,
              "#7201a8"
             ],
             [
              0.3333333333333333,
              "#9c179e"
             ],
             [
              0.4444444444444444,
              "#bd3786"
             ],
             [
              0.5555555555555556,
              "#d8576b"
             ],
             [
              0.6666666666666666,
              "#ed7953"
             ],
             [
              0.7777777777777778,
              "#fb9f3a"
             ],
             [
              0.8888888888888888,
              "#fdca26"
             ],
             [
              1,
              "#f0f921"
             ]
            ],
            "type": "histogram2d"
           }
          ],
          "histogram2dcontour": [
           {
            "colorbar": {
             "outlinewidth": 0,
             "ticks": ""
            },
            "colorscale": [
             [
              0,
              "#0d0887"
             ],
             [
              0.1111111111111111,
              "#46039f"
             ],
             [
              0.2222222222222222,
              "#7201a8"
             ],
             [
              0.3333333333333333,
              "#9c179e"
             ],
             [
              0.4444444444444444,
              "#bd3786"
             ],
             [
              0.5555555555555556,
              "#d8576b"
             ],
             [
              0.6666666666666666,
              "#ed7953"
             ],
             [
              0.7777777777777778,
              "#fb9f3a"
             ],
             [
              0.8888888888888888,
              "#fdca26"
             ],
             [
              1,
              "#f0f921"
             ]
            ],
            "type": "histogram2dcontour"
           }
          ],
          "mesh3d": [
           {
            "colorbar": {
             "outlinewidth": 0,
             "ticks": ""
            },
            "type": "mesh3d"
           }
          ],
          "parcoords": [
           {
            "line": {
             "colorbar": {
              "outlinewidth": 0,
              "ticks": ""
             }
            },
            "type": "parcoords"
           }
          ],
          "pie": [
           {
            "automargin": true,
            "type": "pie"
           }
          ],
          "scatter": [
           {
            "marker": {
             "line": {
              "color": "#283442"
             }
            },
            "type": "scatter"
           }
          ],
          "scatter3d": [
           {
            "line": {
             "colorbar": {
              "outlinewidth": 0,
              "ticks": ""
             }
            },
            "marker": {
             "colorbar": {
              "outlinewidth": 0,
              "ticks": ""
             }
            },
            "type": "scatter3d"
           }
          ],
          "scattercarpet": [
           {
            "marker": {
             "colorbar": {
              "outlinewidth": 0,
              "ticks": ""
             }
            },
            "type": "scattercarpet"
           }
          ],
          "scattergeo": [
           {
            "marker": {
             "colorbar": {
              "outlinewidth": 0,
              "ticks": ""
             }
            },
            "type": "scattergeo"
           }
          ],
          "scattergl": [
           {
            "marker": {
             "line": {
              "color": "#283442"
             }
            },
            "type": "scattergl"
           }
          ],
          "scattermapbox": [
           {
            "marker": {
             "colorbar": {
              "outlinewidth": 0,
              "ticks": ""
             }
            },
            "type": "scattermapbox"
           }
          ],
          "scatterpolar": [
           {
            "marker": {
             "colorbar": {
              "outlinewidth": 0,
              "ticks": ""
             }
            },
            "type": "scatterpolar"
           }
          ],
          "scatterpolargl": [
           {
            "marker": {
             "colorbar": {
              "outlinewidth": 0,
              "ticks": ""
             }
            },
            "type": "scatterpolargl"
           }
          ],
          "scatterternary": [
           {
            "marker": {
             "colorbar": {
              "outlinewidth": 0,
              "ticks": ""
             }
            },
            "type": "scatterternary"
           }
          ],
          "surface": [
           {
            "colorbar": {
             "outlinewidth": 0,
             "ticks": ""
            },
            "colorscale": [
             [
              0,
              "#0d0887"
             ],
             [
              0.1111111111111111,
              "#46039f"
             ],
             [
              0.2222222222222222,
              "#7201a8"
             ],
             [
              0.3333333333333333,
              "#9c179e"
             ],
             [
              0.4444444444444444,
              "#bd3786"
             ],
             [
              0.5555555555555556,
              "#d8576b"
             ],
             [
              0.6666666666666666,
              "#ed7953"
             ],
             [
              0.7777777777777778,
              "#fb9f3a"
             ],
             [
              0.8888888888888888,
              "#fdca26"
             ],
             [
              1,
              "#f0f921"
             ]
            ],
            "type": "surface"
           }
          ],
          "table": [
           {
            "cells": {
             "fill": {
              "color": "#506784"
             },
             "line": {
              "color": "rgb(17,17,17)"
             }
            },
            "header": {
             "fill": {
              "color": "#2a3f5f"
             },
             "line": {
              "color": "rgb(17,17,17)"
             }
            },
            "type": "table"
           }
          ]
         },
         "layout": {
          "annotationdefaults": {
           "arrowcolor": "#f2f5fa",
           "arrowhead": 0,
           "arrowwidth": 1
          },
          "autotypenumbers": "strict",
          "coloraxis": {
           "colorbar": {
            "outlinewidth": 0,
            "ticks": ""
           }
          },
          "colorscale": {
           "diverging": [
            [
             0,
             "#8e0152"
            ],
            [
             0.1,
             "#c51b7d"
            ],
            [
             0.2,
             "#de77ae"
            ],
            [
             0.3,
             "#f1b6da"
            ],
            [
             0.4,
             "#fde0ef"
            ],
            [
             0.5,
             "#f7f7f7"
            ],
            [
             0.6,
             "#e6f5d0"
            ],
            [
             0.7,
             "#b8e186"
            ],
            [
             0.8,
             "#7fbc41"
            ],
            [
             0.9,
             "#4d9221"
            ],
            [
             1,
             "#276419"
            ]
           ],
           "sequential": [
            [
             0,
             "#0d0887"
            ],
            [
             0.1111111111111111,
             "#46039f"
            ],
            [
             0.2222222222222222,
             "#7201a8"
            ],
            [
             0.3333333333333333,
             "#9c179e"
            ],
            [
             0.4444444444444444,
             "#bd3786"
            ],
            [
             0.5555555555555556,
             "#d8576b"
            ],
            [
             0.6666666666666666,
             "#ed7953"
            ],
            [
             0.7777777777777778,
             "#fb9f3a"
            ],
            [
             0.8888888888888888,
             "#fdca26"
            ],
            [
             1,
             "#f0f921"
            ]
           ],
           "sequentialminus": [
            [
             0,
             "#0d0887"
            ],
            [
             0.1111111111111111,
             "#46039f"
            ],
            [
             0.2222222222222222,
             "#7201a8"
            ],
            [
             0.3333333333333333,
             "#9c179e"
            ],
            [
             0.4444444444444444,
             "#bd3786"
            ],
            [
             0.5555555555555556,
             "#d8576b"
            ],
            [
             0.6666666666666666,
             "#ed7953"
            ],
            [
             0.7777777777777778,
             "#fb9f3a"
            ],
            [
             0.8888888888888888,
             "#fdca26"
            ],
            [
             1,
             "#f0f921"
            ]
           ]
          },
          "colorway": [
           "#636efa",
           "#EF553B",
           "#00cc96",
           "#ab63fa",
           "#FFA15A",
           "#19d3f3",
           "#FF6692",
           "#B6E880",
           "#FF97FF",
           "#FECB52"
          ],
          "font": {
           "color": "#f2f5fa"
          },
          "geo": {
           "bgcolor": "rgb(17,17,17)",
           "lakecolor": "rgb(17,17,17)",
           "landcolor": "rgb(17,17,17)",
           "showlakes": true,
           "showland": true,
           "subunitcolor": "#506784"
          },
          "hoverlabel": {
           "align": "left"
          },
          "hovermode": "closest",
          "mapbox": {
           "style": "dark"
          },
          "paper_bgcolor": "rgb(17,17,17)",
          "plot_bgcolor": "rgb(17,17,17)",
          "polar": {
           "angularaxis": {
            "gridcolor": "#506784",
            "linecolor": "#506784",
            "ticks": ""
           },
           "bgcolor": "rgb(17,17,17)",
           "radialaxis": {
            "gridcolor": "#506784",
            "linecolor": "#506784",
            "ticks": ""
           }
          },
          "scene": {
           "xaxis": {
            "backgroundcolor": "rgb(17,17,17)",
            "gridcolor": "#506784",
            "gridwidth": 2,
            "linecolor": "#506784",
            "showbackground": true,
            "ticks": "",
            "zerolinecolor": "#C8D4E3"
           },
           "yaxis": {
            "backgroundcolor": "rgb(17,17,17)",
            "gridcolor": "#506784",
            "gridwidth": 2,
            "linecolor": "#506784",
            "showbackground": true,
            "ticks": "",
            "zerolinecolor": "#C8D4E3"
           },
           "zaxis": {
            "backgroundcolor": "rgb(17,17,17)",
            "gridcolor": "#506784",
            "gridwidth": 2,
            "linecolor": "#506784",
            "showbackground": true,
            "ticks": "",
            "zerolinecolor": "#C8D4E3"
           }
          },
          "shapedefaults": {
           "line": {
            "color": "#f2f5fa"
           }
          },
          "sliderdefaults": {
           "bgcolor": "#C8D4E3",
           "bordercolor": "rgb(17,17,17)",
           "borderwidth": 1,
           "tickwidth": 0
          },
          "ternary": {
           "aaxis": {
            "gridcolor": "#506784",
            "linecolor": "#506784",
            "ticks": ""
           },
           "baxis": {
            "gridcolor": "#506784",
            "linecolor": "#506784",
            "ticks": ""
           },
           "bgcolor": "rgb(17,17,17)",
           "caxis": {
            "gridcolor": "#506784",
            "linecolor": "#506784",
            "ticks": ""
           }
          },
          "title": {
           "x": 0.05
          },
          "updatemenudefaults": {
           "bgcolor": "#506784",
           "borderwidth": 0
          },
          "xaxis": {
           "automargin": true,
           "gridcolor": "#283442",
           "linecolor": "#506784",
           "ticks": "",
           "title": {
            "standoff": 15
           },
           "zerolinecolor": "#283442",
           "zerolinewidth": 2
          },
          "yaxis": {
           "automargin": true,
           "gridcolor": "#283442",
           "linecolor": "#506784",
           "ticks": "",
           "title": {
            "standoff": 15
           },
           "zerolinecolor": "#283442",
           "zerolinewidth": 2
          }
         }
        },
        "title": {
         "font": {
          "color": "#fff",
          "family": "Sherif",
          "size": 11
         },
         "text": "Facilities By State"
        },
        "xaxis": {
         "anchor": "y",
         "domain": [
          0,
          1
         ],
         "title": {
          "text": "No_of_facility"
         },
         "visible": false
        },
        "yaxis": {
         "anchor": "x",
         "categoryorder": "category descending",
         "color": "#fff",
         "domain": [
          0,
          1
         ],
         "tickfont": {
          "family": "Sherif",
          "size": 12
         },
         "title": {}
        }
       }
      },
      "text/html": [
       "<div>                            <div id=\"bbdc528b-2fa3-4bc9-9a81-113554df9c3c\" class=\"plotly-graph-div\" style=\"height:900px; width:100%;\"></div>            <script type=\"text/javascript\">                require([\"plotly\"], function(Plotly) {                    window.PLOTLYENV=window.PLOTLYENV || {};                                    if (document.getElementById(\"bbdc528b-2fa3-4bc9-9a81-113554df9c3c\")) {                    Plotly.newPlot(                        \"bbdc528b-2fa3-4bc9-9a81-113554df9c3c\",                        [{\"alignmentgroup\":\"True\",\"hovertemplate\":\"No_of_facility=%{text}<br>State=%{y}<extra></extra>\",\"legendgroup\":\"\",\"marker\":{\"color\":[\"#b3b3b3\",\"#b3b3b3\",\"#b3b3b3\",\"#b3b3b3\",\"#b3b3b3\",\"#b3b3b3\",\"#b3b3b3\",\"#b3b3b3\",\"#b3b3b3\",\"#b3b3b3\",\"#b3b3b3\",\"#b3b3b3\",\"#b3b3b3\",\"#b3b3b3\",\"#b3b3b3\",\"#b3b3b3\",\"#b3b3b3\",\"#b3b3b3\",\"#b3b3b3\",\"#b3b3b3\",\"#b3b3b3\",\"#b3b3b3\",\"#b3b3b3\",\"#b3b3b3\",\"#b3b3b3\",\"#b3b3b3\",\"#b3b3b3\",\"#b3b3b3\",\"#b3b3b3\",\"#b3b3b3\",\"#b3b3b3\",\"#b3b3b3\",\"#b3b3b3\",\"#b3b3b3\",\"#b3b3b3\",\"#b3b3b3\",\"#b3b3b3\"],\"pattern\":{\"shape\":\"\"}},\"name\":\"\",\"offsetgroup\":\"\",\"orientation\":\"h\",\"showlegend\":false,\"text\":[706.0,838.0,374.0,762.0,1122.0,283.0,1089.0,437.0,1022.0,546.0,646.0,428.0,450.0,691.0,351.0,624.0,674.0,729.0,1175.0,1375.0,1636.0,894.0,1059.0,757.0,757.0,851.0,1380.0,520.0,453.0,728.0,928.0,1232.0,386.0,352.0,736.0,444.0,716.0],\"textposition\":\"outside\",\"x\":[706,838,374,762,1122,283,1089,437,1022,546,646,428,450,691,351,624,674,729,1175,1375,1636,894,1059,757,757,851,1380,520,453,728,928,1232,386,352,736,444,716],\"xaxis\":\"x\",\"y\":[\"Abia\",\"Adamawa\",\"Akwa-Ibom\",\"Anambra\",\"Bauchi\",\"Bayelsa\",\"Benue\",\"Borno\",\"Cross River\",\"Delta\",\"Ebonyi\",\"Edo\",\"Ekiti\",\"Enugu\",\"FCT\",\"Gombe\",\"Imo\",\"Jigawa\",\"Kaduna\",\"Kano\",\"Katsina\",\"Kebbi\",\"Kogi\",\"Kwara\",\"Lagos\",\"Nasarawa\",\"Niger\",\"Ogun\",\"Ondo\",\"Osun\",\"Oyo\",\"Plateau\",\"Rivers\",\"Sokoto\",\"Taraba\",\"Yobe\",\"Zamfara\"],\"yaxis\":\"y\",\"type\":\"bar\",\"textfont\":{\"color\":\"#fff\",\"size\":12}}],                        {\"template\":{\"data\":{\"barpolar\":[{\"marker\":{\"line\":{\"color\":\"rgb(17,17,17)\",\"width\":0.5},\"pattern\":{\"fillmode\":\"overlay\",\"size\":10,\"solidity\":0.2}},\"type\":\"barpolar\"}],\"bar\":[{\"error_x\":{\"color\":\"#f2f5fa\"},\"error_y\":{\"color\":\"#f2f5fa\"},\"marker\":{\"line\":{\"color\":\"rgb(17,17,17)\",\"width\":0.5},\"pattern\":{\"fillmode\":\"overlay\",\"size\":10,\"solidity\":0.2}},\"type\":\"bar\"}],\"carpet\":[{\"aaxis\":{\"endlinecolor\":\"#A2B1C6\",\"gridcolor\":\"#506784\",\"linecolor\":\"#506784\",\"minorgridcolor\":\"#506784\",\"startlinecolor\":\"#A2B1C6\"},\"baxis\":{\"endlinecolor\":\"#A2B1C6\",\"gridcolor\":\"#506784\",\"linecolor\":\"#506784\",\"minorgridcolor\":\"#506784\",\"startlinecolor\":\"#A2B1C6\"},\"type\":\"carpet\"}],\"choropleth\":[{\"colorbar\":{\"outlinewidth\":0,\"ticks\":\"\"},\"type\":\"choropleth\"}],\"contourcarpet\":[{\"colorbar\":{\"outlinewidth\":0,\"ticks\":\"\"},\"type\":\"contourcarpet\"}],\"contour\":[{\"colorbar\":{\"outlinewidth\":0,\"ticks\":\"\"},\"colorscale\":[[0.0,\"#0d0887\"],[0.1111111111111111,\"#46039f\"],[0.2222222222222222,\"#7201a8\"],[0.3333333333333333,\"#9c179e\"],[0.4444444444444444,\"#bd3786\"],[0.5555555555555556,\"#d8576b\"],[0.6666666666666666,\"#ed7953\"],[0.7777777777777778,\"#fb9f3a\"],[0.8888888888888888,\"#fdca26\"],[1.0,\"#f0f921\"]],\"type\":\"contour\"}],\"heatmapgl\":[{\"colorbar\":{\"outlinewidth\":0,\"ticks\":\"\"},\"colorscale\":[[0.0,\"#0d0887\"],[0.1111111111111111,\"#46039f\"],[0.2222222222222222,\"#7201a8\"],[0.3333333333333333,\"#9c179e\"],[0.4444444444444444,\"#bd3786\"],[0.5555555555555556,\"#d8576b\"],[0.6666666666666666,\"#ed7953\"],[0.7777777777777778,\"#fb9f3a\"],[0.8888888888888888,\"#fdca26\"],[1.0,\"#f0f921\"]],\"type\":\"heatmapgl\"}],\"heatmap\":[{\"colorbar\":{\"outlinewidth\":0,\"ticks\":\"\"},\"colorscale\":[[0.0,\"#0d0887\"],[0.1111111111111111,\"#46039f\"],[0.2222222222222222,\"#7201a8\"],[0.3333333333333333,\"#9c179e\"],[0.4444444444444444,\"#bd3786\"],[0.5555555555555556,\"#d8576b\"],[0.6666666666666666,\"#ed7953\"],[0.7777777777777778,\"#fb9f3a\"],[0.8888888888888888,\"#fdca26\"],[1.0,\"#f0f921\"]],\"type\":\"heatmap\"}],\"histogram2dcontour\":[{\"colorbar\":{\"outlinewidth\":0,\"ticks\":\"\"},\"colorscale\":[[0.0,\"#0d0887\"],[0.1111111111111111,\"#46039f\"],[0.2222222222222222,\"#7201a8\"],[0.3333333333333333,\"#9c179e\"],[0.4444444444444444,\"#bd3786\"],[0.5555555555555556,\"#d8576b\"],[0.6666666666666666,\"#ed7953\"],[0.7777777777777778,\"#fb9f3a\"],[0.8888888888888888,\"#fdca26\"],[1.0,\"#f0f921\"]],\"type\":\"histogram2dcontour\"}],\"histogram2d\":[{\"colorbar\":{\"outlinewidth\":0,\"ticks\":\"\"},\"colorscale\":[[0.0,\"#0d0887\"],[0.1111111111111111,\"#46039f\"],[0.2222222222222222,\"#7201a8\"],[0.3333333333333333,\"#9c179e\"],[0.4444444444444444,\"#bd3786\"],[0.5555555555555556,\"#d8576b\"],[0.6666666666666666,\"#ed7953\"],[0.7777777777777778,\"#fb9f3a\"],[0.8888888888888888,\"#fdca26\"],[1.0,\"#f0f921\"]],\"type\":\"histogram2d\"}],\"histogram\":[{\"marker\":{\"pattern\":{\"fillmode\":\"overlay\",\"size\":10,\"solidity\":0.2}},\"type\":\"histogram\"}],\"mesh3d\":[{\"colorbar\":{\"outlinewidth\":0,\"ticks\":\"\"},\"type\":\"mesh3d\"}],\"parcoords\":[{\"line\":{\"colorbar\":{\"outlinewidth\":0,\"ticks\":\"\"}},\"type\":\"parcoords\"}],\"pie\":[{\"automargin\":true,\"type\":\"pie\"}],\"scatter3d\":[{\"line\":{\"colorbar\":{\"outlinewidth\":0,\"ticks\":\"\"}},\"marker\":{\"colorbar\":{\"outlinewidth\":0,\"ticks\":\"\"}},\"type\":\"scatter3d\"}],\"scattercarpet\":[{\"marker\":{\"colorbar\":{\"outlinewidth\":0,\"ticks\":\"\"}},\"type\":\"scattercarpet\"}],\"scattergeo\":[{\"marker\":{\"colorbar\":{\"outlinewidth\":0,\"ticks\":\"\"}},\"type\":\"scattergeo\"}],\"scattergl\":[{\"marker\":{\"line\":{\"color\":\"#283442\"}},\"type\":\"scattergl\"}],\"scattermapbox\":[{\"marker\":{\"colorbar\":{\"outlinewidth\":0,\"ticks\":\"\"}},\"type\":\"scattermapbox\"}],\"scatterpolargl\":[{\"marker\":{\"colorbar\":{\"outlinewidth\":0,\"ticks\":\"\"}},\"type\":\"scatterpolargl\"}],\"scatterpolar\":[{\"marker\":{\"colorbar\":{\"outlinewidth\":0,\"ticks\":\"\"}},\"type\":\"scatterpolar\"}],\"scatter\":[{\"marker\":{\"line\":{\"color\":\"#283442\"}},\"type\":\"scatter\"}],\"scatterternary\":[{\"marker\":{\"colorbar\":{\"outlinewidth\":0,\"ticks\":\"\"}},\"type\":\"scatterternary\"}],\"surface\":[{\"colorbar\":{\"outlinewidth\":0,\"ticks\":\"\"},\"colorscale\":[[0.0,\"#0d0887\"],[0.1111111111111111,\"#46039f\"],[0.2222222222222222,\"#7201a8\"],[0.3333333333333333,\"#9c179e\"],[0.4444444444444444,\"#bd3786\"],[0.5555555555555556,\"#d8576b\"],[0.6666666666666666,\"#ed7953\"],[0.7777777777777778,\"#fb9f3a\"],[0.8888888888888888,\"#fdca26\"],[1.0,\"#f0f921\"]],\"type\":\"surface\"}],\"table\":[{\"cells\":{\"fill\":{\"color\":\"#506784\"},\"line\":{\"color\":\"rgb(17,17,17)\"}},\"header\":{\"fill\":{\"color\":\"#2a3f5f\"},\"line\":{\"color\":\"rgb(17,17,17)\"}},\"type\":\"table\"}]},\"layout\":{\"annotationdefaults\":{\"arrowcolor\":\"#f2f5fa\",\"arrowhead\":0,\"arrowwidth\":1},\"autotypenumbers\":\"strict\",\"coloraxis\":{\"colorbar\":{\"outlinewidth\":0,\"ticks\":\"\"}},\"colorscale\":{\"diverging\":[[0,\"#8e0152\"],[0.1,\"#c51b7d\"],[0.2,\"#de77ae\"],[0.3,\"#f1b6da\"],[0.4,\"#fde0ef\"],[0.5,\"#f7f7f7\"],[0.6,\"#e6f5d0\"],[0.7,\"#b8e186\"],[0.8,\"#7fbc41\"],[0.9,\"#4d9221\"],[1,\"#276419\"]],\"sequential\":[[0.0,\"#0d0887\"],[0.1111111111111111,\"#46039f\"],[0.2222222222222222,\"#7201a8\"],[0.3333333333333333,\"#9c179e\"],[0.4444444444444444,\"#bd3786\"],[0.5555555555555556,\"#d8576b\"],[0.6666666666666666,\"#ed7953\"],[0.7777777777777778,\"#fb9f3a\"],[0.8888888888888888,\"#fdca26\"],[1.0,\"#f0f921\"]],\"sequentialminus\":[[0.0,\"#0d0887\"],[0.1111111111111111,\"#46039f\"],[0.2222222222222222,\"#7201a8\"],[0.3333333333333333,\"#9c179e\"],[0.4444444444444444,\"#bd3786\"],[0.5555555555555556,\"#d8576b\"],[0.6666666666666666,\"#ed7953\"],[0.7777777777777778,\"#fb9f3a\"],[0.8888888888888888,\"#fdca26\"],[1.0,\"#f0f921\"]]},\"colorway\":[\"#636efa\",\"#EF553B\",\"#00cc96\",\"#ab63fa\",\"#FFA15A\",\"#19d3f3\",\"#FF6692\",\"#B6E880\",\"#FF97FF\",\"#FECB52\"],\"font\":{\"color\":\"#f2f5fa\"},\"geo\":{\"bgcolor\":\"rgb(17,17,17)\",\"lakecolor\":\"rgb(17,17,17)\",\"landcolor\":\"rgb(17,17,17)\",\"showlakes\":true,\"showland\":true,\"subunitcolor\":\"#506784\"},\"hoverlabel\":{\"align\":\"left\"},\"hovermode\":\"closest\",\"mapbox\":{\"style\":\"dark\"},\"paper_bgcolor\":\"rgb(17,17,17)\",\"plot_bgcolor\":\"rgb(17,17,17)\",\"polar\":{\"angularaxis\":{\"gridcolor\":\"#506784\",\"linecolor\":\"#506784\",\"ticks\":\"\"},\"bgcolor\":\"rgb(17,17,17)\",\"radialaxis\":{\"gridcolor\":\"#506784\",\"linecolor\":\"#506784\",\"ticks\":\"\"}},\"scene\":{\"xaxis\":{\"backgroundcolor\":\"rgb(17,17,17)\",\"gridcolor\":\"#506784\",\"gridwidth\":2,\"linecolor\":\"#506784\",\"showbackground\":true,\"ticks\":\"\",\"zerolinecolor\":\"#C8D4E3\"},\"yaxis\":{\"backgroundcolor\":\"rgb(17,17,17)\",\"gridcolor\":\"#506784\",\"gridwidth\":2,\"linecolor\":\"#506784\",\"showbackground\":true,\"ticks\":\"\",\"zerolinecolor\":\"#C8D4E3\"},\"zaxis\":{\"backgroundcolor\":\"rgb(17,17,17)\",\"gridcolor\":\"#506784\",\"gridwidth\":2,\"linecolor\":\"#506784\",\"showbackground\":true,\"ticks\":\"\",\"zerolinecolor\":\"#C8D4E3\"}},\"shapedefaults\":{\"line\":{\"color\":\"#f2f5fa\"}},\"sliderdefaults\":{\"bgcolor\":\"#C8D4E3\",\"bordercolor\":\"rgb(17,17,17)\",\"borderwidth\":1,\"tickwidth\":0},\"ternary\":{\"aaxis\":{\"gridcolor\":\"#506784\",\"linecolor\":\"#506784\",\"ticks\":\"\"},\"baxis\":{\"gridcolor\":\"#506784\",\"linecolor\":\"#506784\",\"ticks\":\"\"},\"bgcolor\":\"rgb(17,17,17)\",\"caxis\":{\"gridcolor\":\"#506784\",\"linecolor\":\"#506784\",\"ticks\":\"\"}},\"title\":{\"x\":0.05},\"updatemenudefaults\":{\"bgcolor\":\"#506784\",\"borderwidth\":0},\"xaxis\":{\"automargin\":true,\"gridcolor\":\"#283442\",\"linecolor\":\"#506784\",\"ticks\":\"\",\"title\":{\"standoff\":15},\"zerolinecolor\":\"#283442\",\"zerolinewidth\":2},\"yaxis\":{\"automargin\":true,\"gridcolor\":\"#283442\",\"linecolor\":\"#506784\",\"ticks\":\"\",\"title\":{\"standoff\":15},\"zerolinecolor\":\"#283442\",\"zerolinewidth\":2}}},\"xaxis\":{\"anchor\":\"y\",\"domain\":[0.0,1.0],\"title\":{\"text\":\"No_of_facility\"},\"visible\":false},\"yaxis\":{\"anchor\":\"x\",\"domain\":[0.0,1.0],\"title\":{},\"tickfont\":{\"family\":\"Sherif\",\"size\":12},\"categoryorder\":\"category descending\",\"color\":\"#fff\"},\"legend\":{\"tracegroupgap\":0},\"title\":{\"text\":\"Facilities By State\",\"font\":{\"family\":\"Sherif\",\"size\":11,\"color\":\"#fff\"}},\"barmode\":\"relative\",\"height\":900},                        {\"responsive\": true}                    ).then(function(){\n",
       "                            \n",
       "var gd = document.getElementById('bbdc528b-2fa3-4bc9-9a81-113554df9c3c');\n",
       "var x = new MutationObserver(function (mutations, observer) {{\n",
       "        var display = window.getComputedStyle(gd).display;\n",
       "        if (!display || display === 'none') {{\n",
       "            console.log([gd, 'removed!']);\n",
       "            Plotly.purge(gd);\n",
       "            observer.disconnect();\n",
       "        }}\n",
       "}});\n",
       "\n",
       "// Listen for the removal of the full notebook cells\n",
       "var notebookContainer = gd.closest('#notebook-container');\n",
       "if (notebookContainer) {{\n",
       "    x.observe(notebookContainer, {childList: true});\n",
       "}}\n",
       "\n",
       "// Listen for the clearing of the current output cell\n",
       "var outputEl = gd.closest('.output');\n",
       "if (outputEl) {{\n",
       "    x.observe(outputEl, {childList: true});\n",
       "}}\n",
       "\n",
       "                        })                };                });            </script>        </div>"
      ]
     },
     "metadata": {},
     "output_type": "display_data"
    }
   ],
   "source": [
    "import plotly.express as px\n",
    "#kolor=[ '#b3b3b3']*len(df1)\n",
    "bar1 =px.bar(\n",
    "    data_frame=df2,\n",
    "    x='No_of_facility',\n",
    "    y='State',\n",
    "    orientation='h',\n",
    "    title='Total by States',\n",
    "    height=900,\n",
    "    text='No_of_facility',\n",
    "    template='plotly_dark',\n",
    ")\n",
    "bar1.update_layout(\n",
    "    #xaxis={'categoryorder':'total descending'},\n",
    "    xaxis_visible=False,\n",
    "    yaxis_title=None,\n",
    "    yaxis=dict(\n",
    "        categoryorder='category descending',\n",
    "        color=\"#fff\",\n",
    "        tickfont=dict(family='Sherif',size=12,)),\n",
    "    title =  dict(\n",
    "        text ='Facilities By State',\n",
    "        font =dict(family='Sherif',size=11,color = '#fff'),\n",
    "))\n",
    "bar1.update_traces(\n",
    "    marker_color=kolor,\n",
    "    textposition='outside',\n",
    "    textfont=dict(size=12, color='#fff' )\n",
    "    )"
   ]
  },
  {
   "cell_type": "markdown",
   "id": "32aea58c",
   "metadata": {},
   "source": [
    "### 3.5 Number of Doctors"
   ]
  },
  {
   "cell_type": "code",
   "execution_count": 134,
   "id": "d49b7744",
   "metadata": {},
   "outputs": [
    {
     "data": {
      "application/vnd.plotly.v1+json": {
       "config": {
        "plotlyServerURL": "https://plot.ly"
       },
       "data": [
        {
         "hovertemplate": "State=Abia<br>Number_of_Doctors=%{marker.size}<br>lat=%{lat}<br>long=%{lon}<extra></extra>",
         "lat": [
          5.4540953
         ],
         "legendgroup": "Abia",
         "lon": [
          7.5153071
         ],
         "marker": {
          "color": "#636efa",
          "opacity": 1,
          "size": [
           177
          ],
          "sizemode": "area",
          "sizeref": 5.9925
         },
         "mode": "lines+markers+text",
         "name": "Abia",
         "showlegend": false,
         "subplot": "mapbox",
         "text": [
          "177.0",
          "402.0",
          "345.0",
          "628.0",
          "299.0",
          "241.0",
          "340.0",
          "474.0",
          "441.0",
          "1158.0",
          "1069.0",
          "285.0",
          "857.0",
          "748.0",
          "1474.0",
          "462.0",
          "488.0",
          "214.0",
          "957.0",
          "1506.0",
          "345.0",
          "265.0",
          "368.0",
          "1143.0",
          "2397.0",
          "325.0",
          "264.0",
          "391.0",
          "167.0",
          "938.0",
          "1089.0",
          "1188.0",
          "519.0",
          "71.0",
          "180.0",
          "199.0",
          "211.0"
         ],
         "textfont": {
          "color": "#fff"
         },
         "type": "scattermapbox"
        },
        {
         "hovertemplate": "State=Adamawa<br>Number_of_Doctors=%{marker.size}<br>lat=%{lat}<br>long=%{lon}<extra></extra>",
         "lat": [
          9.5129772
         ],
         "legendgroup": "Adamawa",
         "lon": [
          12.3881887
         ],
         "marker": {
          "color": "#EF553B",
          "opacity": 1,
          "size": [
           402
          ],
          "sizemode": "area",
          "sizeref": 5.9925
         },
         "mode": "lines+markers+text",
         "name": "Adamawa",
         "showlegend": false,
         "subplot": "mapbox",
         "text": [
          "177.0",
          "402.0",
          "345.0",
          "628.0",
          "299.0",
          "241.0",
          "340.0",
          "474.0",
          "441.0",
          "1158.0",
          "1069.0",
          "285.0",
          "857.0",
          "748.0",
          "1474.0",
          "462.0",
          "488.0",
          "214.0",
          "957.0",
          "1506.0",
          "345.0",
          "265.0",
          "368.0",
          "1143.0",
          "2397.0",
          "325.0",
          "264.0",
          "391.0",
          "167.0",
          "938.0",
          "1089.0",
          "1188.0",
          "519.0",
          "71.0",
          "180.0",
          "199.0",
          "211.0"
         ],
         "textfont": {
          "color": "#fff"
         },
         "type": "scattermapbox"
        },
        {
         "hovertemplate": "State=Akwa-Ibom<br>Number_of_Doctors=%{marker.size}<br>lat=%{lat}<br>long=%{lon}<extra></extra>",
         "lat": [
          4.9880607
         ],
         "legendgroup": "Akwa-Ibom",
         "lon": [
          7.795178277855076
         ],
         "marker": {
          "color": "#00cc96",
          "opacity": 1,
          "size": [
           345
          ],
          "sizemode": "area",
          "sizeref": 5.9925
         },
         "mode": "lines+markers+text",
         "name": "Akwa-Ibom",
         "showlegend": false,
         "subplot": "mapbox",
         "text": [
          "177.0",
          "402.0",
          "345.0",
          "628.0",
          "299.0",
          "241.0",
          "340.0",
          "474.0",
          "441.0",
          "1158.0",
          "1069.0",
          "285.0",
          "857.0",
          "748.0",
          "1474.0",
          "462.0",
          "488.0",
          "214.0",
          "957.0",
          "1506.0",
          "345.0",
          "265.0",
          "368.0",
          "1143.0",
          "2397.0",
          "325.0",
          "264.0",
          "391.0",
          "167.0",
          "938.0",
          "1089.0",
          "1188.0",
          "519.0",
          "71.0",
          "180.0",
          "199.0",
          "211.0"
         ],
         "textfont": {
          "color": "#fff"
         },
         "type": "scattermapbox"
        },
        {
         "hovertemplate": "State=Anambra<br>Number_of_Doctors=%{marker.size}<br>lat=%{lat}<br>long=%{lon}<extra></extra>",
         "lat": [
          6.2183136
         ],
         "legendgroup": "Anambra",
         "lon": [
          6.9531842
         ],
         "marker": {
          "color": "#ab63fa",
          "opacity": 1,
          "size": [
           628
          ],
          "sizemode": "area",
          "sizeref": 5.9925
         },
         "mode": "lines+markers+text",
         "name": "Anambra",
         "showlegend": false,
         "subplot": "mapbox",
         "text": [
          "177.0",
          "402.0",
          "345.0",
          "628.0",
          "299.0",
          "241.0",
          "340.0",
          "474.0",
          "441.0",
          "1158.0",
          "1069.0",
          "285.0",
          "857.0",
          "748.0",
          "1474.0",
          "462.0",
          "488.0",
          "214.0",
          "957.0",
          "1506.0",
          "345.0",
          "265.0",
          "368.0",
          "1143.0",
          "2397.0",
          "325.0",
          "264.0",
          "391.0",
          "167.0",
          "938.0",
          "1089.0",
          "1188.0",
          "519.0",
          "71.0",
          "180.0",
          "199.0",
          "211.0"
         ],
         "textfont": {
          "color": "#fff"
         },
         "type": "scattermapbox"
        },
        {
         "hovertemplate": "State=Bauchi<br>Number_of_Doctors=%{marker.size}<br>lat=%{lat}<br>long=%{lon}<extra></extra>",
         "lat": [
          10.6228284
         ],
         "legendgroup": "Bauchi",
         "lon": [
          10.0287754
         ],
         "marker": {
          "color": "#FFA15A",
          "opacity": 1,
          "size": [
           299
          ],
          "sizemode": "area",
          "sizeref": 5.9925
         },
         "mode": "lines+markers+text",
         "name": "Bauchi",
         "showlegend": false,
         "subplot": "mapbox",
         "text": [
          "177.0",
          "402.0",
          "345.0",
          "628.0",
          "299.0",
          "241.0",
          "340.0",
          "474.0",
          "441.0",
          "1158.0",
          "1069.0",
          "285.0",
          "857.0",
          "748.0",
          "1474.0",
          "462.0",
          "488.0",
          "214.0",
          "957.0",
          "1506.0",
          "345.0",
          "265.0",
          "368.0",
          "1143.0",
          "2397.0",
          "325.0",
          "264.0",
          "391.0",
          "167.0",
          "938.0",
          "1089.0",
          "1188.0",
          "519.0",
          "71.0",
          "180.0",
          "199.0",
          "211.0"
         ],
         "textfont": {
          "color": "#fff"
         },
         "type": "scattermapbox"
        },
        {
         "hovertemplate": "State=Bayelsa<br>Number_of_Doctors=%{marker.size}<br>lat=%{lat}<br>long=%{lon}<extra></extra>",
         "lat": [
          4.7629786
         ],
         "legendgroup": "Bayelsa",
         "lon": [
          6.028898
         ],
         "marker": {
          "color": "#19d3f3",
          "opacity": 1,
          "size": [
           241
          ],
          "sizemode": "area",
          "sizeref": 5.9925
         },
         "mode": "lines+markers+text",
         "name": "Bayelsa",
         "showlegend": false,
         "subplot": "mapbox",
         "text": [
          "177.0",
          "402.0",
          "345.0",
          "628.0",
          "299.0",
          "241.0",
          "340.0",
          "474.0",
          "441.0",
          "1158.0",
          "1069.0",
          "285.0",
          "857.0",
          "748.0",
          "1474.0",
          "462.0",
          "488.0",
          "214.0",
          "957.0",
          "1506.0",
          "345.0",
          "265.0",
          "368.0",
          "1143.0",
          "2397.0",
          "325.0",
          "264.0",
          "391.0",
          "167.0",
          "938.0",
          "1089.0",
          "1188.0",
          "519.0",
          "71.0",
          "180.0",
          "199.0",
          "211.0"
         ],
         "textfont": {
          "color": "#fff"
         },
         "type": "scattermapbox"
        },
        {
         "hovertemplate": "State=Benue<br>Number_of_Doctors=%{marker.size}<br>lat=%{lat}<br>long=%{lon}<extra></extra>",
         "lat": [
          7.3505747
         ],
         "legendgroup": "Benue",
         "lon": [
          8.7772877
         ],
         "marker": {
          "color": "#FF6692",
          "opacity": 1,
          "size": [
           340
          ],
          "sizemode": "area",
          "sizeref": 5.9925
         },
         "mode": "lines+markers+text",
         "name": "Benue",
         "showlegend": false,
         "subplot": "mapbox",
         "text": [
          "177.0",
          "402.0",
          "345.0",
          "628.0",
          "299.0",
          "241.0",
          "340.0",
          "474.0",
          "441.0",
          "1158.0",
          "1069.0",
          "285.0",
          "857.0",
          "748.0",
          "1474.0",
          "462.0",
          "488.0",
          "214.0",
          "957.0",
          "1506.0",
          "345.0",
          "265.0",
          "368.0",
          "1143.0",
          "2397.0",
          "325.0",
          "264.0",
          "391.0",
          "167.0",
          "938.0",
          "1089.0",
          "1188.0",
          "519.0",
          "71.0",
          "180.0",
          "199.0",
          "211.0"
         ],
         "textfont": {
          "color": "#fff"
         },
         "type": "scattermapbox"
        },
        {
         "hovertemplate": "State=Borno<br>Number_of_Doctors=%{marker.size}<br>lat=%{lat}<br>long=%{lon}<extra></extra>",
         "lat": [
          45.9566651
         ],
         "legendgroup": "Borno",
         "lon": [
          10.174282153040512
         ],
         "marker": {
          "color": "#B6E880",
          "opacity": 1,
          "size": [
           474
          ],
          "sizemode": "area",
          "sizeref": 5.9925
         },
         "mode": "lines+markers+text",
         "name": "Borno",
         "showlegend": false,
         "subplot": "mapbox",
         "text": [
          "177.0",
          "402.0",
          "345.0",
          "628.0",
          "299.0",
          "241.0",
          "340.0",
          "474.0",
          "441.0",
          "1158.0",
          "1069.0",
          "285.0",
          "857.0",
          "748.0",
          "1474.0",
          "462.0",
          "488.0",
          "214.0",
          "957.0",
          "1506.0",
          "345.0",
          "265.0",
          "368.0",
          "1143.0",
          "2397.0",
          "325.0",
          "264.0",
          "391.0",
          "167.0",
          "938.0",
          "1089.0",
          "1188.0",
          "519.0",
          "71.0",
          "180.0",
          "199.0",
          "211.0"
         ],
         "textfont": {
          "color": "#fff"
         },
         "type": "scattermapbox"
        },
        {
         "hovertemplate": "State=Cross River<br>Number_of_Doctors=%{marker.size}<br>lat=%{lat}<br>long=%{lon}<extra></extra>",
         "lat": [
          5.8671966
         ],
         "legendgroup": "Cross River",
         "lon": [
          8.5204774
         ],
         "marker": {
          "color": "#FF97FF",
          "opacity": 1,
          "size": [
           441
          ],
          "sizemode": "area",
          "sizeref": 5.9925
         },
         "mode": "lines+markers+text",
         "name": "Cross River",
         "showlegend": false,
         "subplot": "mapbox",
         "text": [
          "177.0",
          "402.0",
          "345.0",
          "628.0",
          "299.0",
          "241.0",
          "340.0",
          "474.0",
          "441.0",
          "1158.0",
          "1069.0",
          "285.0",
          "857.0",
          "748.0",
          "1474.0",
          "462.0",
          "488.0",
          "214.0",
          "957.0",
          "1506.0",
          "345.0",
          "265.0",
          "368.0",
          "1143.0",
          "2397.0",
          "325.0",
          "264.0",
          "391.0",
          "167.0",
          "938.0",
          "1089.0",
          "1188.0",
          "519.0",
          "71.0",
          "180.0",
          "199.0",
          "211.0"
         ],
         "textfont": {
          "color": "#fff"
         },
         "type": "scattermapbox"
        },
        {
         "hovertemplate": "State=Delta<br>Number_of_Doctors=%{marker.size}<br>lat=%{lat}<br>long=%{lon}<extra></extra>",
         "lat": [
          33.3926893
         ],
         "legendgroup": "Delta",
         "lon": [
          -95.6749486
         ],
         "marker": {
          "color": "#FECB52",
          "opacity": 1,
          "size": [
           1158
          ],
          "sizemode": "area",
          "sizeref": 5.9925
         },
         "mode": "lines+markers+text",
         "name": "Delta",
         "showlegend": false,
         "subplot": "mapbox",
         "text": [
          "177.0",
          "402.0",
          "345.0",
          "628.0",
          "299.0",
          "241.0",
          "340.0",
          "474.0",
          "441.0",
          "1158.0",
          "1069.0",
          "285.0",
          "857.0",
          "748.0",
          "1474.0",
          "462.0",
          "488.0",
          "214.0",
          "957.0",
          "1506.0",
          "345.0",
          "265.0",
          "368.0",
          "1143.0",
          "2397.0",
          "325.0",
          "264.0",
          "391.0",
          "167.0",
          "938.0",
          "1089.0",
          "1188.0",
          "519.0",
          "71.0",
          "180.0",
          "199.0",
          "211.0"
         ],
         "textfont": {
          "color": "#fff"
         },
         "type": "scattermapbox"
        },
        {
         "hovertemplate": "State=Ebonyi<br>Number_of_Doctors=%{marker.size}<br>lat=%{lat}<br>long=%{lon}<extra></extra>",
         "lat": [
          6.1996918
         ],
         "legendgroup": "Ebonyi",
         "lon": [
          8.0348906
         ],
         "marker": {
          "color": "#636efa",
          "opacity": 1,
          "size": [
           1069
          ],
          "sizemode": "area",
          "sizeref": 5.9925
         },
         "mode": "lines+markers+text",
         "name": "Ebonyi",
         "showlegend": false,
         "subplot": "mapbox",
         "text": [
          "177.0",
          "402.0",
          "345.0",
          "628.0",
          "299.0",
          "241.0",
          "340.0",
          "474.0",
          "441.0",
          "1158.0",
          "1069.0",
          "285.0",
          "857.0",
          "748.0",
          "1474.0",
          "462.0",
          "488.0",
          "214.0",
          "957.0",
          "1506.0",
          "345.0",
          "265.0",
          "368.0",
          "1143.0",
          "2397.0",
          "325.0",
          "264.0",
          "391.0",
          "167.0",
          "938.0",
          "1089.0",
          "1188.0",
          "519.0",
          "71.0",
          "180.0",
          "199.0",
          "211.0"
         ],
         "textfont": {
          "color": "#fff"
         },
         "type": "scattermapbox"
        },
        {
         "hovertemplate": "State=Edo<br>Number_of_Doctors=%{marker.size}<br>lat=%{lat}<br>long=%{lon}<extra></extra>",
         "lat": [
          6.6076575
         ],
         "legendgroup": "Edo",
         "lon": [
          5.9722713
         ],
         "marker": {
          "color": "#EF553B",
          "opacity": 1,
          "size": [
           285
          ],
          "sizemode": "area",
          "sizeref": 5.9925
         },
         "mode": "lines+markers+text",
         "name": "Edo",
         "showlegend": false,
         "subplot": "mapbox",
         "text": [
          "177.0",
          "402.0",
          "345.0",
          "628.0",
          "299.0",
          "241.0",
          "340.0",
          "474.0",
          "441.0",
          "1158.0",
          "1069.0",
          "285.0",
          "857.0",
          "748.0",
          "1474.0",
          "462.0",
          "488.0",
          "214.0",
          "957.0",
          "1506.0",
          "345.0",
          "265.0",
          "368.0",
          "1143.0",
          "2397.0",
          "325.0",
          "264.0",
          "391.0",
          "167.0",
          "938.0",
          "1089.0",
          "1188.0",
          "519.0",
          "71.0",
          "180.0",
          "199.0",
          "211.0"
         ],
         "textfont": {
          "color": "#fff"
         },
         "type": "scattermapbox"
        },
        {
         "hovertemplate": "State=Ekiti<br>Number_of_Doctors=%{marker.size}<br>lat=%{lat}<br>long=%{lon}<extra></extra>",
         "lat": [
          7.736891
         ],
         "legendgroup": "Ekiti",
         "lon": [
          5.2738326
         ],
         "marker": {
          "color": "#00cc96",
          "opacity": 1,
          "size": [
           857
          ],
          "sizemode": "area",
          "sizeref": 5.9925
         },
         "mode": "lines+markers+text",
         "name": "Ekiti",
         "showlegend": false,
         "subplot": "mapbox",
         "text": [
          "177.0",
          "402.0",
          "345.0",
          "628.0",
          "299.0",
          "241.0",
          "340.0",
          "474.0",
          "441.0",
          "1158.0",
          "1069.0",
          "285.0",
          "857.0",
          "748.0",
          "1474.0",
          "462.0",
          "488.0",
          "214.0",
          "957.0",
          "1506.0",
          "345.0",
          "265.0",
          "368.0",
          "1143.0",
          "2397.0",
          "325.0",
          "264.0",
          "391.0",
          "167.0",
          "938.0",
          "1089.0",
          "1188.0",
          "519.0",
          "71.0",
          "180.0",
          "199.0",
          "211.0"
         ],
         "textfont": {
          "color": "#fff"
         },
         "type": "scattermapbox"
        },
        {
         "hovertemplate": "State=Enugu<br>Number_of_Doctors=%{marker.size}<br>lat=%{lat}<br>long=%{lon}<extra></extra>",
         "lat": [
          6.5536094
         ],
         "legendgroup": "Enugu",
         "lon": [
          7.4143061
         ],
         "marker": {
          "color": "#ab63fa",
          "opacity": 1,
          "size": [
           748
          ],
          "sizemode": "area",
          "sizeref": 5.9925
         },
         "mode": "lines+markers+text",
         "name": "Enugu",
         "showlegend": false,
         "subplot": "mapbox",
         "text": [
          "177.0",
          "402.0",
          "345.0",
          "628.0",
          "299.0",
          "241.0",
          "340.0",
          "474.0",
          "441.0",
          "1158.0",
          "1069.0",
          "285.0",
          "857.0",
          "748.0",
          "1474.0",
          "462.0",
          "488.0",
          "214.0",
          "957.0",
          "1506.0",
          "345.0",
          "265.0",
          "368.0",
          "1143.0",
          "2397.0",
          "325.0",
          "264.0",
          "391.0",
          "167.0",
          "938.0",
          "1089.0",
          "1188.0",
          "519.0",
          "71.0",
          "180.0",
          "199.0",
          "211.0"
         ],
         "textfont": {
          "color": "#fff"
         },
         "type": "scattermapbox"
        },
        {
         "hovertemplate": "State=FCT<br>Number_of_Doctors=%{marker.size}<br>lat=%{lat}<br>long=%{lon}<extra></extra>",
         "lat": [
          8.8311228
         ],
         "legendgroup": "FCT",
         "lon": [
          7.1724673
         ],
         "marker": {
          "color": "#FFA15A",
          "opacity": 1,
          "size": [
           1474
          ],
          "sizemode": "area",
          "sizeref": 5.9925
         },
         "mode": "lines+markers+text",
         "name": "FCT",
         "showlegend": false,
         "subplot": "mapbox",
         "text": [
          "177.0",
          "402.0",
          "345.0",
          "628.0",
          "299.0",
          "241.0",
          "340.0",
          "474.0",
          "441.0",
          "1158.0",
          "1069.0",
          "285.0",
          "857.0",
          "748.0",
          "1474.0",
          "462.0",
          "488.0",
          "214.0",
          "957.0",
          "1506.0",
          "345.0",
          "265.0",
          "368.0",
          "1143.0",
          "2397.0",
          "325.0",
          "264.0",
          "391.0",
          "167.0",
          "938.0",
          "1089.0",
          "1188.0",
          "519.0",
          "71.0",
          "180.0",
          "199.0",
          "211.0"
         ],
         "textfont": {
          "color": "#fff"
         },
         "type": "scattermapbox"
        },
        {
         "hovertemplate": "State=Gombe<br>Number_of_Doctors=%{marker.size}<br>lat=%{lat}<br>long=%{lon}<extra></extra>",
         "lat": [
          10.38301
         ],
         "legendgroup": "Gombe",
         "lon": [
          11.206567
         ],
         "marker": {
          "color": "#19d3f3",
          "opacity": 1,
          "size": [
           462
          ],
          "sizemode": "area",
          "sizeref": 5.9925
         },
         "mode": "lines+markers+text",
         "name": "Gombe",
         "showlegend": false,
         "subplot": "mapbox",
         "text": [
          "177.0",
          "402.0",
          "345.0",
          "628.0",
          "299.0",
          "241.0",
          "340.0",
          "474.0",
          "441.0",
          "1158.0",
          "1069.0",
          "285.0",
          "857.0",
          "748.0",
          "1474.0",
          "462.0",
          "488.0",
          "214.0",
          "957.0",
          "1506.0",
          "345.0",
          "265.0",
          "368.0",
          "1143.0",
          "2397.0",
          "325.0",
          "264.0",
          "391.0",
          "167.0",
          "938.0",
          "1089.0",
          "1188.0",
          "519.0",
          "71.0",
          "180.0",
          "199.0",
          "211.0"
         ],
         "textfont": {
          "color": "#fff"
         },
         "type": "scattermapbox"
        },
        {
         "hovertemplate": "State=Imo<br>Number_of_Doctors=%{marker.size}<br>lat=%{lat}<br>long=%{lon}<extra></extra>",
         "lat": [
          5.5859456
         ],
         "legendgroup": "Imo",
         "lon": [
          7.0669651
         ],
         "marker": {
          "color": "#FF6692",
          "opacity": 1,
          "size": [
           488
          ],
          "sizemode": "area",
          "sizeref": 5.9925
         },
         "mode": "lines+markers+text",
         "name": "Imo",
         "showlegend": false,
         "subplot": "mapbox",
         "text": [
          "177.0",
          "402.0",
          "345.0",
          "628.0",
          "299.0",
          "241.0",
          "340.0",
          "474.0",
          "441.0",
          "1158.0",
          "1069.0",
          "285.0",
          "857.0",
          "748.0",
          "1474.0",
          "462.0",
          "488.0",
          "214.0",
          "957.0",
          "1506.0",
          "345.0",
          "265.0",
          "368.0",
          "1143.0",
          "2397.0",
          "325.0",
          "264.0",
          "391.0",
          "167.0",
          "938.0",
          "1089.0",
          "1188.0",
          "519.0",
          "71.0",
          "180.0",
          "199.0",
          "211.0"
         ],
         "textfont": {
          "color": "#fff"
         },
         "type": "scattermapbox"
        },
        {
         "hovertemplate": "State=Jigawa<br>Number_of_Doctors=%{marker.size}<br>lat=%{lat}<br>long=%{lon}<extra></extra>",
         "lat": [
          12.3252362
         ],
         "legendgroup": "Jigawa",
         "lon": [
          9.5103296
         ],
         "marker": {
          "color": "#B6E880",
          "opacity": 1,
          "size": [
           214
          ],
          "sizemode": "area",
          "sizeref": 5.9925
         },
         "mode": "lines+markers+text",
         "name": "Jigawa",
         "showlegend": false,
         "subplot": "mapbox",
         "text": [
          "177.0",
          "402.0",
          "345.0",
          "628.0",
          "299.0",
          "241.0",
          "340.0",
          "474.0",
          "441.0",
          "1158.0",
          "1069.0",
          "285.0",
          "857.0",
          "748.0",
          "1474.0",
          "462.0",
          "488.0",
          "214.0",
          "957.0",
          "1506.0",
          "345.0",
          "265.0",
          "368.0",
          "1143.0",
          "2397.0",
          "325.0",
          "264.0",
          "391.0",
          "167.0",
          "938.0",
          "1089.0",
          "1188.0",
          "519.0",
          "71.0",
          "180.0",
          "199.0",
          "211.0"
         ],
         "textfont": {
          "color": "#fff"
         },
         "type": "scattermapbox"
        },
        {
         "hovertemplate": "State=Kaduna<br>Number_of_Doctors=%{marker.size}<br>lat=%{lat}<br>long=%{lon}<extra></extra>",
         "lat": [
          10.3825318
         ],
         "legendgroup": "Kaduna",
         "lon": [
          7.8533226
         ],
         "marker": {
          "color": "#FF97FF",
          "opacity": 1,
          "size": [
           957
          ],
          "sizemode": "area",
          "sizeref": 5.9925
         },
         "mode": "lines+markers+text",
         "name": "Kaduna",
         "showlegend": false,
         "subplot": "mapbox",
         "text": [
          "177.0",
          "402.0",
          "345.0",
          "628.0",
          "299.0",
          "241.0",
          "340.0",
          "474.0",
          "441.0",
          "1158.0",
          "1069.0",
          "285.0",
          "857.0",
          "748.0",
          "1474.0",
          "462.0",
          "488.0",
          "214.0",
          "957.0",
          "1506.0",
          "345.0",
          "265.0",
          "368.0",
          "1143.0",
          "2397.0",
          "325.0",
          "264.0",
          "391.0",
          "167.0",
          "938.0",
          "1089.0",
          "1188.0",
          "519.0",
          "71.0",
          "180.0",
          "199.0",
          "211.0"
         ],
         "textfont": {
          "color": "#fff"
         },
         "type": "scattermapbox"
        },
        {
         "hovertemplate": "State=Kano<br>Number_of_Doctors=%{marker.size}<br>lat=%{lat}<br>long=%{lon}<extra></extra>",
         "lat": [
          11.8948389
         ],
         "legendgroup": "Kano",
         "lon": [
          8.5364136
         ],
         "marker": {
          "color": "#FECB52",
          "opacity": 1,
          "size": [
           1506
          ],
          "sizemode": "area",
          "sizeref": 5.9925
         },
         "mode": "lines+markers+text",
         "name": "Kano",
         "showlegend": false,
         "subplot": "mapbox",
         "text": [
          "177.0",
          "402.0",
          "345.0",
          "628.0",
          "299.0",
          "241.0",
          "340.0",
          "474.0",
          "441.0",
          "1158.0",
          "1069.0",
          "285.0",
          "857.0",
          "748.0",
          "1474.0",
          "462.0",
          "488.0",
          "214.0",
          "957.0",
          "1506.0",
          "345.0",
          "265.0",
          "368.0",
          "1143.0",
          "2397.0",
          "325.0",
          "264.0",
          "391.0",
          "167.0",
          "938.0",
          "1089.0",
          "1188.0",
          "519.0",
          "71.0",
          "180.0",
          "199.0",
          "211.0"
         ],
         "textfont": {
          "color": "#fff"
         },
         "type": "scattermapbox"
        },
        {
         "hovertemplate": "State=Katsina<br>Number_of_Doctors=%{marker.size}<br>lat=%{lat}<br>long=%{lon}<extra></extra>",
         "lat": [
          12.5630825
         ],
         "legendgroup": "Katsina",
         "lon": [
          7.6207063
         ],
         "marker": {
          "color": "#636efa",
          "opacity": 1,
          "size": [
           345
          ],
          "sizemode": "area",
          "sizeref": 5.9925
         },
         "mode": "lines+markers+text",
         "name": "Katsina",
         "showlegend": false,
         "subplot": "mapbox",
         "text": [
          "177.0",
          "402.0",
          "345.0",
          "628.0",
          "299.0",
          "241.0",
          "340.0",
          "474.0",
          "441.0",
          "1158.0",
          "1069.0",
          "285.0",
          "857.0",
          "748.0",
          "1474.0",
          "462.0",
          "488.0",
          "214.0",
          "957.0",
          "1506.0",
          "345.0",
          "265.0",
          "368.0",
          "1143.0",
          "2397.0",
          "325.0",
          "264.0",
          "391.0",
          "167.0",
          "938.0",
          "1089.0",
          "1188.0",
          "519.0",
          "71.0",
          "180.0",
          "199.0",
          "211.0"
         ],
         "textfont": {
          "color": "#fff"
         },
         "type": "scattermapbox"
        },
        {
         "hovertemplate": "State=Kebbi<br>Number_of_Doctors=%{marker.size}<br>lat=%{lat}<br>long=%{lon}<extra></extra>",
         "lat": [
          11.4167574
         ],
         "legendgroup": "Kebbi",
         "lon": [
          4.1074545
         ],
         "marker": {
          "color": "#EF553B",
          "opacity": 1,
          "size": [
           265
          ],
          "sizemode": "area",
          "sizeref": 5.9925
         },
         "mode": "lines+markers+text",
         "name": "Kebbi",
         "showlegend": false,
         "subplot": "mapbox",
         "text": [
          "177.0",
          "402.0",
          "345.0",
          "628.0",
          "299.0",
          "241.0",
          "340.0",
          "474.0",
          "441.0",
          "1158.0",
          "1069.0",
          "285.0",
          "857.0",
          "748.0",
          "1474.0",
          "462.0",
          "488.0",
          "214.0",
          "957.0",
          "1506.0",
          "345.0",
          "265.0",
          "368.0",
          "1143.0",
          "2397.0",
          "325.0",
          "264.0",
          "391.0",
          "167.0",
          "938.0",
          "1089.0",
          "1188.0",
          "519.0",
          "71.0",
          "180.0",
          "199.0",
          "211.0"
         ],
         "textfont": {
          "color": "#fff"
         },
         "type": "scattermapbox"
        },
        {
         "hovertemplate": "State=Kogi<br>Number_of_Doctors=%{marker.size}<br>lat=%{lat}<br>long=%{lon}<extra></extra>",
         "lat": [
          7.7949602
         ],
         "legendgroup": "Kogi",
         "lon": [
          6.6868669
         ],
         "marker": {
          "color": "#00cc96",
          "opacity": 1,
          "size": [
           368
          ],
          "sizemode": "area",
          "sizeref": 5.9925
         },
         "mode": "lines+markers+text",
         "name": "Kogi",
         "showlegend": false,
         "subplot": "mapbox",
         "text": [
          "177.0",
          "402.0",
          "345.0",
          "628.0",
          "299.0",
          "241.0",
          "340.0",
          "474.0",
          "441.0",
          "1158.0",
          "1069.0",
          "285.0",
          "857.0",
          "748.0",
          "1474.0",
          "462.0",
          "488.0",
          "214.0",
          "957.0",
          "1506.0",
          "345.0",
          "265.0",
          "368.0",
          "1143.0",
          "2397.0",
          "325.0",
          "264.0",
          "391.0",
          "167.0",
          "938.0",
          "1089.0",
          "1188.0",
          "519.0",
          "71.0",
          "180.0",
          "199.0",
          "211.0"
         ],
         "textfont": {
          "color": "#fff"
         },
         "type": "scattermapbox"
        },
        {
         "hovertemplate": "State=Kwara<br>Number_of_Doctors=%{marker.size}<br>lat=%{lat}<br>long=%{lon}<extra></extra>",
         "lat": [
          8.8367891
         ],
         "legendgroup": "Kwara",
         "lon": [
          4.6688487
         ],
         "marker": {
          "color": "#ab63fa",
          "opacity": 1,
          "size": [
           1143
          ],
          "sizemode": "area",
          "sizeref": 5.9925
         },
         "mode": "lines+markers+text",
         "name": "Kwara",
         "showlegend": false,
         "subplot": "mapbox",
         "text": [
          "177.0",
          "402.0",
          "345.0",
          "628.0",
          "299.0",
          "241.0",
          "340.0",
          "474.0",
          "441.0",
          "1158.0",
          "1069.0",
          "285.0",
          "857.0",
          "748.0",
          "1474.0",
          "462.0",
          "488.0",
          "214.0",
          "957.0",
          "1506.0",
          "345.0",
          "265.0",
          "368.0",
          "1143.0",
          "2397.0",
          "325.0",
          "264.0",
          "391.0",
          "167.0",
          "938.0",
          "1089.0",
          "1188.0",
          "519.0",
          "71.0",
          "180.0",
          "199.0",
          "211.0"
         ],
         "textfont": {
          "color": "#fff"
         },
         "type": "scattermapbox"
        },
        {
         "hovertemplate": "State=Lagos<br>Number_of_Doctors=%{marker.size}<br>lat=%{lat}<br>long=%{lon}<extra></extra>",
         "lat": [
          6.4550575
         ],
         "legendgroup": "Lagos",
         "lon": [
          3.3941795
         ],
         "marker": {
          "color": "#FFA15A",
          "opacity": 1,
          "size": [
           2397
          ],
          "sizemode": "area",
          "sizeref": 5.9925
         },
         "mode": "lines+markers+text",
         "name": "Lagos",
         "showlegend": false,
         "subplot": "mapbox",
         "text": [
          "177.0",
          "402.0",
          "345.0",
          "628.0",
          "299.0",
          "241.0",
          "340.0",
          "474.0",
          "441.0",
          "1158.0",
          "1069.0",
          "285.0",
          "857.0",
          "748.0",
          "1474.0",
          "462.0",
          "488.0",
          "214.0",
          "957.0",
          "1506.0",
          "345.0",
          "265.0",
          "368.0",
          "1143.0",
          "2397.0",
          "325.0",
          "264.0",
          "391.0",
          "167.0",
          "938.0",
          "1089.0",
          "1188.0",
          "519.0",
          "71.0",
          "180.0",
          "199.0",
          "211.0"
         ],
         "textfont": {
          "color": "#fff"
         },
         "type": "scattermapbox"
        },
        {
         "hovertemplate": "State=Nasarawa<br>Number_of_Doctors=%{marker.size}<br>lat=%{lat}<br>long=%{lon}<extra></extra>",
         "lat": [
          8.4387868
         ],
         "legendgroup": "Nasarawa",
         "lon": [
          8.2382849
         ],
         "marker": {
          "color": "#19d3f3",
          "opacity": 1,
          "size": [
           325
          ],
          "sizemode": "area",
          "sizeref": 5.9925
         },
         "mode": "lines+markers+text",
         "name": "Nasarawa",
         "showlegend": false,
         "subplot": "mapbox",
         "text": [
          "177.0",
          "402.0",
          "345.0",
          "628.0",
          "299.0",
          "241.0",
          "340.0",
          "474.0",
          "441.0",
          "1158.0",
          "1069.0",
          "285.0",
          "857.0",
          "748.0",
          "1474.0",
          "462.0",
          "488.0",
          "214.0",
          "957.0",
          "1506.0",
          "345.0",
          "265.0",
          "368.0",
          "1143.0",
          "2397.0",
          "325.0",
          "264.0",
          "391.0",
          "167.0",
          "938.0",
          "1089.0",
          "1188.0",
          "519.0",
          "71.0",
          "180.0",
          "199.0",
          "211.0"
         ],
         "textfont": {
          "color": "#fff"
         },
         "type": "scattermapbox"
        },
        {
         "hovertemplate": "State=Niger<br>Number_of_Doctors=%{marker.size}<br>lat=%{lat}<br>long=%{lon}<extra></extra>",
         "lat": [
          9.6187093
         ],
         "legendgroup": "Niger",
         "lon": [
          6.5475752
         ],
         "marker": {
          "color": "#FF6692",
          "opacity": 1,
          "size": [
           264
          ],
          "sizemode": "area",
          "sizeref": 5.9925
         },
         "mode": "lines+markers+text",
         "name": "Niger",
         "showlegend": false,
         "subplot": "mapbox",
         "text": [
          "177.0",
          "402.0",
          "345.0",
          "628.0",
          "299.0",
          "241.0",
          "340.0",
          "474.0",
          "441.0",
          "1158.0",
          "1069.0",
          "285.0",
          "857.0",
          "748.0",
          "1474.0",
          "462.0",
          "488.0",
          "214.0",
          "957.0",
          "1506.0",
          "345.0",
          "265.0",
          "368.0",
          "1143.0",
          "2397.0",
          "325.0",
          "264.0",
          "391.0",
          "167.0",
          "938.0",
          "1089.0",
          "1188.0",
          "519.0",
          "71.0",
          "180.0",
          "199.0",
          "211.0"
         ],
         "textfont": {
          "color": "#fff"
         },
         "type": "scattermapbox"
        },
        {
         "hovertemplate": "State=Ogun<br>Number_of_Doctors=%{marker.size}<br>lat=%{lat}<br>long=%{lon}<extra></extra>",
         "lat": [
          6.9788582
         ],
         "legendgroup": "Ogun",
         "lon": [
          3.4389293
         ],
         "marker": {
          "color": "#B6E880",
          "opacity": 1,
          "size": [
           391
          ],
          "sizemode": "area",
          "sizeref": 5.9925
         },
         "mode": "lines+markers+text",
         "name": "Ogun",
         "showlegend": false,
         "subplot": "mapbox",
         "text": [
          "177.0",
          "402.0",
          "345.0",
          "628.0",
          "299.0",
          "241.0",
          "340.0",
          "474.0",
          "441.0",
          "1158.0",
          "1069.0",
          "285.0",
          "857.0",
          "748.0",
          "1474.0",
          "462.0",
          "488.0",
          "214.0",
          "957.0",
          "1506.0",
          "345.0",
          "265.0",
          "368.0",
          "1143.0",
          "2397.0",
          "325.0",
          "264.0",
          "391.0",
          "167.0",
          "938.0",
          "1089.0",
          "1188.0",
          "519.0",
          "71.0",
          "180.0",
          "199.0",
          "211.0"
         ],
         "textfont": {
          "color": "#fff"
         },
         "type": "scattermapbox"
        },
        {
         "hovertemplate": "State=Ondo<br>Number_of_Doctors=%{marker.size}<br>lat=%{lat}<br>long=%{lon}<extra></extra>",
         "lat": [
          7.0209686
         ],
         "legendgroup": "Ondo",
         "lon": [
          5.0567477
         ],
         "marker": {
          "color": "#FF97FF",
          "opacity": 1,
          "size": [
           167
          ],
          "sizemode": "area",
          "sizeref": 5.9925
         },
         "mode": "lines+markers+text",
         "name": "Ondo",
         "showlegend": false,
         "subplot": "mapbox",
         "text": [
          "177.0",
          "402.0",
          "345.0",
          "628.0",
          "299.0",
          "241.0",
          "340.0",
          "474.0",
          "441.0",
          "1158.0",
          "1069.0",
          "285.0",
          "857.0",
          "748.0",
          "1474.0",
          "462.0",
          "488.0",
          "214.0",
          "957.0",
          "1506.0",
          "345.0",
          "265.0",
          "368.0",
          "1143.0",
          "2397.0",
          "325.0",
          "264.0",
          "391.0",
          "167.0",
          "938.0",
          "1089.0",
          "1188.0",
          "519.0",
          "71.0",
          "180.0",
          "199.0",
          "211.0"
         ],
         "textfont": {
          "color": "#fff"
         },
         "type": "scattermapbox"
        },
        {
         "hovertemplate": "State=Osun<br>Number_of_Doctors=%{marker.size}<br>lat=%{lat}<br>long=%{lon}<extra></extra>",
         "lat": [
          7.5484047
         ],
         "legendgroup": "Osun",
         "lon": [
          4.4978307
         ],
         "marker": {
          "color": "#FECB52",
          "opacity": 1,
          "size": [
           938
          ],
          "sizemode": "area",
          "sizeref": 5.9925
         },
         "mode": "lines+markers+text",
         "name": "Osun",
         "showlegend": false,
         "subplot": "mapbox",
         "text": [
          "177.0",
          "402.0",
          "345.0",
          "628.0",
          "299.0",
          "241.0",
          "340.0",
          "474.0",
          "441.0",
          "1158.0",
          "1069.0",
          "285.0",
          "857.0",
          "748.0",
          "1474.0",
          "462.0",
          "488.0",
          "214.0",
          "957.0",
          "1506.0",
          "345.0",
          "265.0",
          "368.0",
          "1143.0",
          "2397.0",
          "325.0",
          "264.0",
          "391.0",
          "167.0",
          "938.0",
          "1089.0",
          "1188.0",
          "519.0",
          "71.0",
          "180.0",
          "199.0",
          "211.0"
         ],
         "textfont": {
          "color": "#fff"
         },
         "type": "scattermapbox"
        },
        {
         "hovertemplate": "State=Oyo<br>Number_of_Doctors=%{marker.size}<br>lat=%{lat}<br>long=%{lon}<extra></extra>",
         "lat": [
          8.2151249
         ],
         "legendgroup": "Oyo",
         "lon": [
          3.5642897
         ],
         "marker": {
          "color": "#636efa",
          "opacity": 1,
          "size": [
           1089
          ],
          "sizemode": "area",
          "sizeref": 5.9925
         },
         "mode": "lines+markers+text",
         "name": "Oyo",
         "showlegend": false,
         "subplot": "mapbox",
         "text": [
          "177.0",
          "402.0",
          "345.0",
          "628.0",
          "299.0",
          "241.0",
          "340.0",
          "474.0",
          "441.0",
          "1158.0",
          "1069.0",
          "285.0",
          "857.0",
          "748.0",
          "1474.0",
          "462.0",
          "488.0",
          "214.0",
          "957.0",
          "1506.0",
          "345.0",
          "265.0",
          "368.0",
          "1143.0",
          "2397.0",
          "325.0",
          "264.0",
          "391.0",
          "167.0",
          "938.0",
          "1089.0",
          "1188.0",
          "519.0",
          "71.0",
          "180.0",
          "199.0",
          "211.0"
         ],
         "textfont": {
          "color": "#fff"
         },
         "type": "scattermapbox"
        },
        {
         "hovertemplate": "State=Plateau<br>Number_of_Doctors=%{marker.size}<br>lat=%{lat}<br>long=%{lon}<extra></extra>",
         "lat": [
          9.0583446
         ],
         "legendgroup": "Plateau",
         "lon": [
          9.6826289
         ],
         "marker": {
          "color": "#EF553B",
          "opacity": 1,
          "size": [
           1188
          ],
          "sizemode": "area",
          "sizeref": 5.9925
         },
         "mode": "lines+markers+text",
         "name": "Plateau",
         "showlegend": false,
         "subplot": "mapbox",
         "text": [
          "177.0",
          "402.0",
          "345.0",
          "628.0",
          "299.0",
          "241.0",
          "340.0",
          "474.0",
          "441.0",
          "1158.0",
          "1069.0",
          "285.0",
          "857.0",
          "748.0",
          "1474.0",
          "462.0",
          "488.0",
          "214.0",
          "957.0",
          "1506.0",
          "345.0",
          "265.0",
          "368.0",
          "1143.0",
          "2397.0",
          "325.0",
          "264.0",
          "391.0",
          "167.0",
          "938.0",
          "1089.0",
          "1188.0",
          "519.0",
          "71.0",
          "180.0",
          "199.0",
          "211.0"
         ],
         "textfont": {
          "color": "#fff"
         },
         "type": "scattermapbox"
        },
        {
         "hovertemplate": "State=Rivers<br>Number_of_Doctors=%{marker.size}<br>lat=%{lat}<br>long=%{lon}<extra></extra>",
         "lat": [
          4.8416028
         ],
         "legendgroup": "Rivers",
         "lon": [
          6.8604088
         ],
         "marker": {
          "color": "#00cc96",
          "opacity": 1,
          "size": [
           519
          ],
          "sizemode": "area",
          "sizeref": 5.9925
         },
         "mode": "lines+markers+text",
         "name": "Rivers",
         "showlegend": false,
         "subplot": "mapbox",
         "text": [
          "177.0",
          "402.0",
          "345.0",
          "628.0",
          "299.0",
          "241.0",
          "340.0",
          "474.0",
          "441.0",
          "1158.0",
          "1069.0",
          "285.0",
          "857.0",
          "748.0",
          "1474.0",
          "462.0",
          "488.0",
          "214.0",
          "957.0",
          "1506.0",
          "345.0",
          "265.0",
          "368.0",
          "1143.0",
          "2397.0",
          "325.0",
          "264.0",
          "391.0",
          "167.0",
          "938.0",
          "1089.0",
          "1188.0",
          "519.0",
          "71.0",
          "180.0",
          "199.0",
          "211.0"
         ],
         "textfont": {
          "color": "#fff"
         },
         "type": "scattermapbox"
        },
        {
         "hovertemplate": "State=Sokoto<br>Number_of_Doctors=%{marker.size}<br>lat=%{lat}<br>long=%{lon}<extra></extra>",
         "lat": [
          13.0611195
         ],
         "legendgroup": "Sokoto",
         "lon": [
          5.3152203
         ],
         "marker": {
          "color": "#ab63fa",
          "opacity": 1,
          "size": [
           71
          ],
          "sizemode": "area",
          "sizeref": 5.9925
         },
         "mode": "lines+markers+text",
         "name": "Sokoto",
         "showlegend": false,
         "subplot": "mapbox",
         "text": [
          "177.0",
          "402.0",
          "345.0",
          "628.0",
          "299.0",
          "241.0",
          "340.0",
          "474.0",
          "441.0",
          "1158.0",
          "1069.0",
          "285.0",
          "857.0",
          "748.0",
          "1474.0",
          "462.0",
          "488.0",
          "214.0",
          "957.0",
          "1506.0",
          "345.0",
          "265.0",
          "368.0",
          "1143.0",
          "2397.0",
          "325.0",
          "264.0",
          "391.0",
          "167.0",
          "938.0",
          "1089.0",
          "1188.0",
          "519.0",
          "71.0",
          "180.0",
          "199.0",
          "211.0"
         ],
         "textfont": {
          "color": "#fff"
         },
         "type": "scattermapbox"
        },
        {
         "hovertemplate": "State=Taraba<br>Number_of_Doctors=%{marker.size}<br>lat=%{lat}<br>long=%{lon}<extra></extra>",
         "lat": [
          8.0141334
         ],
         "legendgroup": "Taraba",
         "lon": [
          10.7376336
         ],
         "marker": {
          "color": "#FFA15A",
          "opacity": 1,
          "size": [
           180
          ],
          "sizemode": "area",
          "sizeref": 5.9925
         },
         "mode": "lines+markers+text",
         "name": "Taraba",
         "showlegend": false,
         "subplot": "mapbox",
         "text": [
          "177.0",
          "402.0",
          "345.0",
          "628.0",
          "299.0",
          "241.0",
          "340.0",
          "474.0",
          "441.0",
          "1158.0",
          "1069.0",
          "285.0",
          "857.0",
          "748.0",
          "1474.0",
          "462.0",
          "488.0",
          "214.0",
          "957.0",
          "1506.0",
          "345.0",
          "265.0",
          "368.0",
          "1143.0",
          "2397.0",
          "325.0",
          "264.0",
          "391.0",
          "167.0",
          "938.0",
          "1089.0",
          "1188.0",
          "519.0",
          "71.0",
          "180.0",
          "199.0",
          "211.0"
         ],
         "textfont": {
          "color": "#fff"
         },
         "type": "scattermapbox"
        },
        {
         "hovertemplate": "State=Yobe<br>Number_of_Doctors=%{marker.size}<br>lat=%{lat}<br>long=%{lon}<extra></extra>",
         "lat": [
          12.1233242
         ],
         "legendgroup": "Yobe",
         "lon": [
          11.5065937
         ],
         "marker": {
          "color": "#19d3f3",
          "opacity": 1,
          "size": [
           199
          ],
          "sizemode": "area",
          "sizeref": 5.9925
         },
         "mode": "lines+markers+text",
         "name": "Yobe",
         "showlegend": false,
         "subplot": "mapbox",
         "text": [
          "177.0",
          "402.0",
          "345.0",
          "628.0",
          "299.0",
          "241.0",
          "340.0",
          "474.0",
          "441.0",
          "1158.0",
          "1069.0",
          "285.0",
          "857.0",
          "748.0",
          "1474.0",
          "462.0",
          "488.0",
          "214.0",
          "957.0",
          "1506.0",
          "345.0",
          "265.0",
          "368.0",
          "1143.0",
          "2397.0",
          "325.0",
          "264.0",
          "391.0",
          "167.0",
          "938.0",
          "1089.0",
          "1188.0",
          "519.0",
          "71.0",
          "180.0",
          "199.0",
          "211.0"
         ],
         "textfont": {
          "color": "#fff"
         },
         "type": "scattermapbox"
        },
        {
         "hovertemplate": "State=Zamfara<br>Number_of_Doctors=%{marker.size}<br>lat=%{lat}<br>long=%{lon}<extra></extra>",
         "lat": [
          12.0078998
         ],
         "legendgroup": "Zamfara",
         "lon": [
          6.4191432
         ],
         "marker": {
          "color": "#FF6692",
          "opacity": 1,
          "size": [
           211
          ],
          "sizemode": "area",
          "sizeref": 5.9925
         },
         "mode": "lines+markers+text",
         "name": "Zamfara",
         "showlegend": false,
         "subplot": "mapbox",
         "text": [
          "177.0",
          "402.0",
          "345.0",
          "628.0",
          "299.0",
          "241.0",
          "340.0",
          "474.0",
          "441.0",
          "1158.0",
          "1069.0",
          "285.0",
          "857.0",
          "748.0",
          "1474.0",
          "462.0",
          "488.0",
          "214.0",
          "957.0",
          "1506.0",
          "345.0",
          "265.0",
          "368.0",
          "1143.0",
          "2397.0",
          "325.0",
          "264.0",
          "391.0",
          "167.0",
          "938.0",
          "1089.0",
          "1188.0",
          "519.0",
          "71.0",
          "180.0",
          "199.0",
          "211.0"
         ],
         "textfont": {
          "color": "#fff"
         },
         "type": "scattermapbox"
        }
       ],
       "layout": {
        "legend": {
         "itemsizing": "constant",
         "title": {
          "text": "State"
         },
         "tracegroupgap": 0
        },
        "mapbox": {
         "center": {
          "lat": 9.082,
          "lon": 8.6753
         },
         "domain": {
          "x": [
           0,
           1
          ],
          "y": [
           0,
           1
          ]
         },
         "style": "carto-darkmatter",
         "zoom": 5
        },
        "margin": {
         "b": 0,
         "l": 0,
         "r": 0,
         "t": 0
        },
        "template": {
         "data": {
          "bar": [
           {
            "error_x": {
             "color": "#f2f5fa"
            },
            "error_y": {
             "color": "#f2f5fa"
            },
            "marker": {
             "line": {
              "color": "rgb(17,17,17)",
              "width": 0.5
             },
             "pattern": {
              "fillmode": "overlay",
              "size": 10,
              "solidity": 0.2
             }
            },
            "type": "bar"
           }
          ],
          "barpolar": [
           {
            "marker": {
             "line": {
              "color": "rgb(17,17,17)",
              "width": 0.5
             },
             "pattern": {
              "fillmode": "overlay",
              "size": 10,
              "solidity": 0.2
             }
            },
            "type": "barpolar"
           }
          ],
          "carpet": [
           {
            "aaxis": {
             "endlinecolor": "#A2B1C6",
             "gridcolor": "#506784",
             "linecolor": "#506784",
             "minorgridcolor": "#506784",
             "startlinecolor": "#A2B1C6"
            },
            "baxis": {
             "endlinecolor": "#A2B1C6",
             "gridcolor": "#506784",
             "linecolor": "#506784",
             "minorgridcolor": "#506784",
             "startlinecolor": "#A2B1C6"
            },
            "type": "carpet"
           }
          ],
          "choropleth": [
           {
            "colorbar": {
             "outlinewidth": 0,
             "ticks": ""
            },
            "type": "choropleth"
           }
          ],
          "contour": [
           {
            "colorbar": {
             "outlinewidth": 0,
             "ticks": ""
            },
            "colorscale": [
             [
              0,
              "#0d0887"
             ],
             [
              0.1111111111111111,
              "#46039f"
             ],
             [
              0.2222222222222222,
              "#7201a8"
             ],
             [
              0.3333333333333333,
              "#9c179e"
             ],
             [
              0.4444444444444444,
              "#bd3786"
             ],
             [
              0.5555555555555556,
              "#d8576b"
             ],
             [
              0.6666666666666666,
              "#ed7953"
             ],
             [
              0.7777777777777778,
              "#fb9f3a"
             ],
             [
              0.8888888888888888,
              "#fdca26"
             ],
             [
              1,
              "#f0f921"
             ]
            ],
            "type": "contour"
           }
          ],
          "contourcarpet": [
           {
            "colorbar": {
             "outlinewidth": 0,
             "ticks": ""
            },
            "type": "contourcarpet"
           }
          ],
          "heatmap": [
           {
            "colorbar": {
             "outlinewidth": 0,
             "ticks": ""
            },
            "colorscale": [
             [
              0,
              "#0d0887"
             ],
             [
              0.1111111111111111,
              "#46039f"
             ],
             [
              0.2222222222222222,
              "#7201a8"
             ],
             [
              0.3333333333333333,
              "#9c179e"
             ],
             [
              0.4444444444444444,
              "#bd3786"
             ],
             [
              0.5555555555555556,
              "#d8576b"
             ],
             [
              0.6666666666666666,
              "#ed7953"
             ],
             [
              0.7777777777777778,
              "#fb9f3a"
             ],
             [
              0.8888888888888888,
              "#fdca26"
             ],
             [
              1,
              "#f0f921"
             ]
            ],
            "type": "heatmap"
           }
          ],
          "heatmapgl": [
           {
            "colorbar": {
             "outlinewidth": 0,
             "ticks": ""
            },
            "colorscale": [
             [
              0,
              "#0d0887"
             ],
             [
              0.1111111111111111,
              "#46039f"
             ],
             [
              0.2222222222222222,
              "#7201a8"
             ],
             [
              0.3333333333333333,
              "#9c179e"
             ],
             [
              0.4444444444444444,
              "#bd3786"
             ],
             [
              0.5555555555555556,
              "#d8576b"
             ],
             [
              0.6666666666666666,
              "#ed7953"
             ],
             [
              0.7777777777777778,
              "#fb9f3a"
             ],
             [
              0.8888888888888888,
              "#fdca26"
             ],
             [
              1,
              "#f0f921"
             ]
            ],
            "type": "heatmapgl"
           }
          ],
          "histogram": [
           {
            "marker": {
             "pattern": {
              "fillmode": "overlay",
              "size": 10,
              "solidity": 0.2
             }
            },
            "type": "histogram"
           }
          ],
          "histogram2d": [
           {
            "colorbar": {
             "outlinewidth": 0,
             "ticks": ""
            },
            "colorscale": [
             [
              0,
              "#0d0887"
             ],
             [
              0.1111111111111111,
              "#46039f"
             ],
             [
              0.2222222222222222,
              "#7201a8"
             ],
             [
              0.3333333333333333,
              "#9c179e"
             ],
             [
              0.4444444444444444,
              "#bd3786"
             ],
             [
              0.5555555555555556,
              "#d8576b"
             ],
             [
              0.6666666666666666,
              "#ed7953"
             ],
             [
              0.7777777777777778,
              "#fb9f3a"
             ],
             [
              0.8888888888888888,
              "#fdca26"
             ],
             [
              1,
              "#f0f921"
             ]
            ],
            "type": "histogram2d"
           }
          ],
          "histogram2dcontour": [
           {
            "colorbar": {
             "outlinewidth": 0,
             "ticks": ""
            },
            "colorscale": [
             [
              0,
              "#0d0887"
             ],
             [
              0.1111111111111111,
              "#46039f"
             ],
             [
              0.2222222222222222,
              "#7201a8"
             ],
             [
              0.3333333333333333,
              "#9c179e"
             ],
             [
              0.4444444444444444,
              "#bd3786"
             ],
             [
              0.5555555555555556,
              "#d8576b"
             ],
             [
              0.6666666666666666,
              "#ed7953"
             ],
             [
              0.7777777777777778,
              "#fb9f3a"
             ],
             [
              0.8888888888888888,
              "#fdca26"
             ],
             [
              1,
              "#f0f921"
             ]
            ],
            "type": "histogram2dcontour"
           }
          ],
          "mesh3d": [
           {
            "colorbar": {
             "outlinewidth": 0,
             "ticks": ""
            },
            "type": "mesh3d"
           }
          ],
          "parcoords": [
           {
            "line": {
             "colorbar": {
              "outlinewidth": 0,
              "ticks": ""
             }
            },
            "type": "parcoords"
           }
          ],
          "pie": [
           {
            "automargin": true,
            "type": "pie"
           }
          ],
          "scatter": [
           {
            "marker": {
             "line": {
              "color": "#283442"
             }
            },
            "type": "scatter"
           }
          ],
          "scatter3d": [
           {
            "line": {
             "colorbar": {
              "outlinewidth": 0,
              "ticks": ""
             }
            },
            "marker": {
             "colorbar": {
              "outlinewidth": 0,
              "ticks": ""
             }
            },
            "type": "scatter3d"
           }
          ],
          "scattercarpet": [
           {
            "marker": {
             "colorbar": {
              "outlinewidth": 0,
              "ticks": ""
             }
            },
            "type": "scattercarpet"
           }
          ],
          "scattergeo": [
           {
            "marker": {
             "colorbar": {
              "outlinewidth": 0,
              "ticks": ""
             }
            },
            "type": "scattergeo"
           }
          ],
          "scattergl": [
           {
            "marker": {
             "line": {
              "color": "#283442"
             }
            },
            "type": "scattergl"
           }
          ],
          "scattermapbox": [
           {
            "marker": {
             "colorbar": {
              "outlinewidth": 0,
              "ticks": ""
             }
            },
            "type": "scattermapbox"
           }
          ],
          "scatterpolar": [
           {
            "marker": {
             "colorbar": {
              "outlinewidth": 0,
              "ticks": ""
             }
            },
            "type": "scatterpolar"
           }
          ],
          "scatterpolargl": [
           {
            "marker": {
             "colorbar": {
              "outlinewidth": 0,
              "ticks": ""
             }
            },
            "type": "scatterpolargl"
           }
          ],
          "scatterternary": [
           {
            "marker": {
             "colorbar": {
              "outlinewidth": 0,
              "ticks": ""
             }
            },
            "type": "scatterternary"
           }
          ],
          "surface": [
           {
            "colorbar": {
             "outlinewidth": 0,
             "ticks": ""
            },
            "colorscale": [
             [
              0,
              "#0d0887"
             ],
             [
              0.1111111111111111,
              "#46039f"
             ],
             [
              0.2222222222222222,
              "#7201a8"
             ],
             [
              0.3333333333333333,
              "#9c179e"
             ],
             [
              0.4444444444444444,
              "#bd3786"
             ],
             [
              0.5555555555555556,
              "#d8576b"
             ],
             [
              0.6666666666666666,
              "#ed7953"
             ],
             [
              0.7777777777777778,
              "#fb9f3a"
             ],
             [
              0.8888888888888888,
              "#fdca26"
             ],
             [
              1,
              "#f0f921"
             ]
            ],
            "type": "surface"
           }
          ],
          "table": [
           {
            "cells": {
             "fill": {
              "color": "#506784"
             },
             "line": {
              "color": "rgb(17,17,17)"
             }
            },
            "header": {
             "fill": {
              "color": "#2a3f5f"
             },
             "line": {
              "color": "rgb(17,17,17)"
             }
            },
            "type": "table"
           }
          ]
         },
         "layout": {
          "annotationdefaults": {
           "arrowcolor": "#f2f5fa",
           "arrowhead": 0,
           "arrowwidth": 1
          },
          "autotypenumbers": "strict",
          "coloraxis": {
           "colorbar": {
            "outlinewidth": 0,
            "ticks": ""
           }
          },
          "colorscale": {
           "diverging": [
            [
             0,
             "#8e0152"
            ],
            [
             0.1,
             "#c51b7d"
            ],
            [
             0.2,
             "#de77ae"
            ],
            [
             0.3,
             "#f1b6da"
            ],
            [
             0.4,
             "#fde0ef"
            ],
            [
             0.5,
             "#f7f7f7"
            ],
            [
             0.6,
             "#e6f5d0"
            ],
            [
             0.7,
             "#b8e186"
            ],
            [
             0.8,
             "#7fbc41"
            ],
            [
             0.9,
             "#4d9221"
            ],
            [
             1,
             "#276419"
            ]
           ],
           "sequential": [
            [
             0,
             "#0d0887"
            ],
            [
             0.1111111111111111,
             "#46039f"
            ],
            [
             0.2222222222222222,
             "#7201a8"
            ],
            [
             0.3333333333333333,
             "#9c179e"
            ],
            [
             0.4444444444444444,
             "#bd3786"
            ],
            [
             0.5555555555555556,
             "#d8576b"
            ],
            [
             0.6666666666666666,
             "#ed7953"
            ],
            [
             0.7777777777777778,
             "#fb9f3a"
            ],
            [
             0.8888888888888888,
             "#fdca26"
            ],
            [
             1,
             "#f0f921"
            ]
           ],
           "sequentialminus": [
            [
             0,
             "#0d0887"
            ],
            [
             0.1111111111111111,
             "#46039f"
            ],
            [
             0.2222222222222222,
             "#7201a8"
            ],
            [
             0.3333333333333333,
             "#9c179e"
            ],
            [
             0.4444444444444444,
             "#bd3786"
            ],
            [
             0.5555555555555556,
             "#d8576b"
            ],
            [
             0.6666666666666666,
             "#ed7953"
            ],
            [
             0.7777777777777778,
             "#fb9f3a"
            ],
            [
             0.8888888888888888,
             "#fdca26"
            ],
            [
             1,
             "#f0f921"
            ]
           ]
          },
          "colorway": [
           "#636efa",
           "#EF553B",
           "#00cc96",
           "#ab63fa",
           "#FFA15A",
           "#19d3f3",
           "#FF6692",
           "#B6E880",
           "#FF97FF",
           "#FECB52"
          ],
          "font": {
           "color": "#f2f5fa"
          },
          "geo": {
           "bgcolor": "rgb(17,17,17)",
           "lakecolor": "rgb(17,17,17)",
           "landcolor": "rgb(17,17,17)",
           "showlakes": true,
           "showland": true,
           "subunitcolor": "#506784"
          },
          "hoverlabel": {
           "align": "left"
          },
          "hovermode": "closest",
          "mapbox": {
           "style": "dark"
          },
          "paper_bgcolor": "rgb(17,17,17)",
          "plot_bgcolor": "rgb(17,17,17)",
          "polar": {
           "angularaxis": {
            "gridcolor": "#506784",
            "linecolor": "#506784",
            "ticks": ""
           },
           "bgcolor": "rgb(17,17,17)",
           "radialaxis": {
            "gridcolor": "#506784",
            "linecolor": "#506784",
            "ticks": ""
           }
          },
          "scene": {
           "xaxis": {
            "backgroundcolor": "rgb(17,17,17)",
            "gridcolor": "#506784",
            "gridwidth": 2,
            "linecolor": "#506784",
            "showbackground": true,
            "ticks": "",
            "zerolinecolor": "#C8D4E3"
           },
           "yaxis": {
            "backgroundcolor": "rgb(17,17,17)",
            "gridcolor": "#506784",
            "gridwidth": 2,
            "linecolor": "#506784",
            "showbackground": true,
            "ticks": "",
            "zerolinecolor": "#C8D4E3"
           },
           "zaxis": {
            "backgroundcolor": "rgb(17,17,17)",
            "gridcolor": "#506784",
            "gridwidth": 2,
            "linecolor": "#506784",
            "showbackground": true,
            "ticks": "",
            "zerolinecolor": "#C8D4E3"
           }
          },
          "shapedefaults": {
           "line": {
            "color": "#f2f5fa"
           }
          },
          "sliderdefaults": {
           "bgcolor": "#C8D4E3",
           "bordercolor": "rgb(17,17,17)",
           "borderwidth": 1,
           "tickwidth": 0
          },
          "ternary": {
           "aaxis": {
            "gridcolor": "#506784",
            "linecolor": "#506784",
            "ticks": ""
           },
           "baxis": {
            "gridcolor": "#506784",
            "linecolor": "#506784",
            "ticks": ""
           },
           "bgcolor": "rgb(17,17,17)",
           "caxis": {
            "gridcolor": "#506784",
            "linecolor": "#506784",
            "ticks": ""
           }
          },
          "title": {
           "x": 0.05
          },
          "updatemenudefaults": {
           "bgcolor": "#506784",
           "borderwidth": 0
          },
          "xaxis": {
           "automargin": true,
           "gridcolor": "#283442",
           "linecolor": "#506784",
           "ticks": "",
           "title": {
            "standoff": 15
           },
           "zerolinecolor": "#283442",
           "zerolinewidth": 2
          },
          "yaxis": {
           "automargin": true,
           "gridcolor": "#283442",
           "linecolor": "#506784",
           "ticks": "",
           "title": {
            "standoff": 15
           },
           "zerolinecolor": "#283442",
           "zerolinewidth": 2
          }
         }
        },
        "title": {
         "text": "Doctors by States"
        },
        "width": 900
       }
      },
      "text/html": [
       "<div>                            <div id=\"9f218400-d5f9-4f59-9843-c40ba93f65ec\" class=\"plotly-graph-div\" style=\"height:525px; width:900px;\"></div>            <script type=\"text/javascript\">                require([\"plotly\"], function(Plotly) {                    window.PLOTLYENV=window.PLOTLYENV || {};                                    if (document.getElementById(\"9f218400-d5f9-4f59-9843-c40ba93f65ec\")) {                    Plotly.newPlot(                        \"9f218400-d5f9-4f59-9843-c40ba93f65ec\",                        [{\"hovertemplate\":\"State=Abia<br>Number_of_Doctors=%{marker.size}<br>lat=%{lat}<br>long=%{lon}<extra></extra>\",\"lat\":[5.4540953],\"legendgroup\":\"Abia\",\"lon\":[7.5153071],\"marker\":{\"color\":\"#636efa\",\"opacity\":1,\"size\":[177.0],\"sizemode\":\"area\",\"sizeref\":5.9925},\"mode\":\"lines+markers+text\",\"name\":\"Abia\",\"showlegend\":false,\"subplot\":\"mapbox\",\"type\":\"scattermapbox\",\"textfont\":{\"color\":\"#fff\"},\"text\":[\"177.0\",\"402.0\",\"345.0\",\"628.0\",\"299.0\",\"241.0\",\"340.0\",\"474.0\",\"441.0\",\"1158.0\",\"1069.0\",\"285.0\",\"857.0\",\"748.0\",\"1474.0\",\"462.0\",\"488.0\",\"214.0\",\"957.0\",\"1506.0\",\"345.0\",\"265.0\",\"368.0\",\"1143.0\",\"2397.0\",\"325.0\",\"264.0\",\"391.0\",\"167.0\",\"938.0\",\"1089.0\",\"1188.0\",\"519.0\",\"71.0\",\"180.0\",\"199.0\",\"211.0\"]},{\"hovertemplate\":\"State=Adamawa<br>Number_of_Doctors=%{marker.size}<br>lat=%{lat}<br>long=%{lon}<extra></extra>\",\"lat\":[9.5129772],\"legendgroup\":\"Adamawa\",\"lon\":[12.3881887],\"marker\":{\"color\":\"#EF553B\",\"opacity\":1,\"size\":[402.0],\"sizemode\":\"area\",\"sizeref\":5.9925},\"mode\":\"lines+markers+text\",\"name\":\"Adamawa\",\"showlegend\":false,\"subplot\":\"mapbox\",\"type\":\"scattermapbox\",\"textfont\":{\"color\":\"#fff\"},\"text\":[\"177.0\",\"402.0\",\"345.0\",\"628.0\",\"299.0\",\"241.0\",\"340.0\",\"474.0\",\"441.0\",\"1158.0\",\"1069.0\",\"285.0\",\"857.0\",\"748.0\",\"1474.0\",\"462.0\",\"488.0\",\"214.0\",\"957.0\",\"1506.0\",\"345.0\",\"265.0\",\"368.0\",\"1143.0\",\"2397.0\",\"325.0\",\"264.0\",\"391.0\",\"167.0\",\"938.0\",\"1089.0\",\"1188.0\",\"519.0\",\"71.0\",\"180.0\",\"199.0\",\"211.0\"]},{\"hovertemplate\":\"State=Akwa-Ibom<br>Number_of_Doctors=%{marker.size}<br>lat=%{lat}<br>long=%{lon}<extra></extra>\",\"lat\":[4.9880607],\"legendgroup\":\"Akwa-Ibom\",\"lon\":[7.795178277855076],\"marker\":{\"color\":\"#00cc96\",\"opacity\":1,\"size\":[345.0],\"sizemode\":\"area\",\"sizeref\":5.9925},\"mode\":\"lines+markers+text\",\"name\":\"Akwa-Ibom\",\"showlegend\":false,\"subplot\":\"mapbox\",\"type\":\"scattermapbox\",\"textfont\":{\"color\":\"#fff\"},\"text\":[\"177.0\",\"402.0\",\"345.0\",\"628.0\",\"299.0\",\"241.0\",\"340.0\",\"474.0\",\"441.0\",\"1158.0\",\"1069.0\",\"285.0\",\"857.0\",\"748.0\",\"1474.0\",\"462.0\",\"488.0\",\"214.0\",\"957.0\",\"1506.0\",\"345.0\",\"265.0\",\"368.0\",\"1143.0\",\"2397.0\",\"325.0\",\"264.0\",\"391.0\",\"167.0\",\"938.0\",\"1089.0\",\"1188.0\",\"519.0\",\"71.0\",\"180.0\",\"199.0\",\"211.0\"]},{\"hovertemplate\":\"State=Anambra<br>Number_of_Doctors=%{marker.size}<br>lat=%{lat}<br>long=%{lon}<extra></extra>\",\"lat\":[6.2183136],\"legendgroup\":\"Anambra\",\"lon\":[6.9531842],\"marker\":{\"color\":\"#ab63fa\",\"opacity\":1,\"size\":[628.0],\"sizemode\":\"area\",\"sizeref\":5.9925},\"mode\":\"lines+markers+text\",\"name\":\"Anambra\",\"showlegend\":false,\"subplot\":\"mapbox\",\"type\":\"scattermapbox\",\"textfont\":{\"color\":\"#fff\"},\"text\":[\"177.0\",\"402.0\",\"345.0\",\"628.0\",\"299.0\",\"241.0\",\"340.0\",\"474.0\",\"441.0\",\"1158.0\",\"1069.0\",\"285.0\",\"857.0\",\"748.0\",\"1474.0\",\"462.0\",\"488.0\",\"214.0\",\"957.0\",\"1506.0\",\"345.0\",\"265.0\",\"368.0\",\"1143.0\",\"2397.0\",\"325.0\",\"264.0\",\"391.0\",\"167.0\",\"938.0\",\"1089.0\",\"1188.0\",\"519.0\",\"71.0\",\"180.0\",\"199.0\",\"211.0\"]},{\"hovertemplate\":\"State=Bauchi<br>Number_of_Doctors=%{marker.size}<br>lat=%{lat}<br>long=%{lon}<extra></extra>\",\"lat\":[10.6228284],\"legendgroup\":\"Bauchi\",\"lon\":[10.0287754],\"marker\":{\"color\":\"#FFA15A\",\"opacity\":1,\"size\":[299.0],\"sizemode\":\"area\",\"sizeref\":5.9925},\"mode\":\"lines+markers+text\",\"name\":\"Bauchi\",\"showlegend\":false,\"subplot\":\"mapbox\",\"type\":\"scattermapbox\",\"textfont\":{\"color\":\"#fff\"},\"text\":[\"177.0\",\"402.0\",\"345.0\",\"628.0\",\"299.0\",\"241.0\",\"340.0\",\"474.0\",\"441.0\",\"1158.0\",\"1069.0\",\"285.0\",\"857.0\",\"748.0\",\"1474.0\",\"462.0\",\"488.0\",\"214.0\",\"957.0\",\"1506.0\",\"345.0\",\"265.0\",\"368.0\",\"1143.0\",\"2397.0\",\"325.0\",\"264.0\",\"391.0\",\"167.0\",\"938.0\",\"1089.0\",\"1188.0\",\"519.0\",\"71.0\",\"180.0\",\"199.0\",\"211.0\"]},{\"hovertemplate\":\"State=Bayelsa<br>Number_of_Doctors=%{marker.size}<br>lat=%{lat}<br>long=%{lon}<extra></extra>\",\"lat\":[4.7629786],\"legendgroup\":\"Bayelsa\",\"lon\":[6.028898],\"marker\":{\"color\":\"#19d3f3\",\"opacity\":1,\"size\":[241.0],\"sizemode\":\"area\",\"sizeref\":5.9925},\"mode\":\"lines+markers+text\",\"name\":\"Bayelsa\",\"showlegend\":false,\"subplot\":\"mapbox\",\"type\":\"scattermapbox\",\"textfont\":{\"color\":\"#fff\"},\"text\":[\"177.0\",\"402.0\",\"345.0\",\"628.0\",\"299.0\",\"241.0\",\"340.0\",\"474.0\",\"441.0\",\"1158.0\",\"1069.0\",\"285.0\",\"857.0\",\"748.0\",\"1474.0\",\"462.0\",\"488.0\",\"214.0\",\"957.0\",\"1506.0\",\"345.0\",\"265.0\",\"368.0\",\"1143.0\",\"2397.0\",\"325.0\",\"264.0\",\"391.0\",\"167.0\",\"938.0\",\"1089.0\",\"1188.0\",\"519.0\",\"71.0\",\"180.0\",\"199.0\",\"211.0\"]},{\"hovertemplate\":\"State=Benue<br>Number_of_Doctors=%{marker.size}<br>lat=%{lat}<br>long=%{lon}<extra></extra>\",\"lat\":[7.3505747],\"legendgroup\":\"Benue\",\"lon\":[8.7772877],\"marker\":{\"color\":\"#FF6692\",\"opacity\":1,\"size\":[340.0],\"sizemode\":\"area\",\"sizeref\":5.9925},\"mode\":\"lines+markers+text\",\"name\":\"Benue\",\"showlegend\":false,\"subplot\":\"mapbox\",\"type\":\"scattermapbox\",\"textfont\":{\"color\":\"#fff\"},\"text\":[\"177.0\",\"402.0\",\"345.0\",\"628.0\",\"299.0\",\"241.0\",\"340.0\",\"474.0\",\"441.0\",\"1158.0\",\"1069.0\",\"285.0\",\"857.0\",\"748.0\",\"1474.0\",\"462.0\",\"488.0\",\"214.0\",\"957.0\",\"1506.0\",\"345.0\",\"265.0\",\"368.0\",\"1143.0\",\"2397.0\",\"325.0\",\"264.0\",\"391.0\",\"167.0\",\"938.0\",\"1089.0\",\"1188.0\",\"519.0\",\"71.0\",\"180.0\",\"199.0\",\"211.0\"]},{\"hovertemplate\":\"State=Borno<br>Number_of_Doctors=%{marker.size}<br>lat=%{lat}<br>long=%{lon}<extra></extra>\",\"lat\":[45.9566651],\"legendgroup\":\"Borno\",\"lon\":[10.174282153040512],\"marker\":{\"color\":\"#B6E880\",\"opacity\":1,\"size\":[474.0],\"sizemode\":\"area\",\"sizeref\":5.9925},\"mode\":\"lines+markers+text\",\"name\":\"Borno\",\"showlegend\":false,\"subplot\":\"mapbox\",\"type\":\"scattermapbox\",\"textfont\":{\"color\":\"#fff\"},\"text\":[\"177.0\",\"402.0\",\"345.0\",\"628.0\",\"299.0\",\"241.0\",\"340.0\",\"474.0\",\"441.0\",\"1158.0\",\"1069.0\",\"285.0\",\"857.0\",\"748.0\",\"1474.0\",\"462.0\",\"488.0\",\"214.0\",\"957.0\",\"1506.0\",\"345.0\",\"265.0\",\"368.0\",\"1143.0\",\"2397.0\",\"325.0\",\"264.0\",\"391.0\",\"167.0\",\"938.0\",\"1089.0\",\"1188.0\",\"519.0\",\"71.0\",\"180.0\",\"199.0\",\"211.0\"]},{\"hovertemplate\":\"State=Cross River<br>Number_of_Doctors=%{marker.size}<br>lat=%{lat}<br>long=%{lon}<extra></extra>\",\"lat\":[5.8671966],\"legendgroup\":\"Cross River\",\"lon\":[8.5204774],\"marker\":{\"color\":\"#FF97FF\",\"opacity\":1,\"size\":[441.0],\"sizemode\":\"area\",\"sizeref\":5.9925},\"mode\":\"lines+markers+text\",\"name\":\"Cross River\",\"showlegend\":false,\"subplot\":\"mapbox\",\"type\":\"scattermapbox\",\"textfont\":{\"color\":\"#fff\"},\"text\":[\"177.0\",\"402.0\",\"345.0\",\"628.0\",\"299.0\",\"241.0\",\"340.0\",\"474.0\",\"441.0\",\"1158.0\",\"1069.0\",\"285.0\",\"857.0\",\"748.0\",\"1474.0\",\"462.0\",\"488.0\",\"214.0\",\"957.0\",\"1506.0\",\"345.0\",\"265.0\",\"368.0\",\"1143.0\",\"2397.0\",\"325.0\",\"264.0\",\"391.0\",\"167.0\",\"938.0\",\"1089.0\",\"1188.0\",\"519.0\",\"71.0\",\"180.0\",\"199.0\",\"211.0\"]},{\"hovertemplate\":\"State=Delta<br>Number_of_Doctors=%{marker.size}<br>lat=%{lat}<br>long=%{lon}<extra></extra>\",\"lat\":[33.3926893],\"legendgroup\":\"Delta\",\"lon\":[-95.6749486],\"marker\":{\"color\":\"#FECB52\",\"opacity\":1,\"size\":[1158.0],\"sizemode\":\"area\",\"sizeref\":5.9925},\"mode\":\"lines+markers+text\",\"name\":\"Delta\",\"showlegend\":false,\"subplot\":\"mapbox\",\"type\":\"scattermapbox\",\"textfont\":{\"color\":\"#fff\"},\"text\":[\"177.0\",\"402.0\",\"345.0\",\"628.0\",\"299.0\",\"241.0\",\"340.0\",\"474.0\",\"441.0\",\"1158.0\",\"1069.0\",\"285.0\",\"857.0\",\"748.0\",\"1474.0\",\"462.0\",\"488.0\",\"214.0\",\"957.0\",\"1506.0\",\"345.0\",\"265.0\",\"368.0\",\"1143.0\",\"2397.0\",\"325.0\",\"264.0\",\"391.0\",\"167.0\",\"938.0\",\"1089.0\",\"1188.0\",\"519.0\",\"71.0\",\"180.0\",\"199.0\",\"211.0\"]},{\"hovertemplate\":\"State=Ebonyi<br>Number_of_Doctors=%{marker.size}<br>lat=%{lat}<br>long=%{lon}<extra></extra>\",\"lat\":[6.1996918],\"legendgroup\":\"Ebonyi\",\"lon\":[8.0348906],\"marker\":{\"color\":\"#636efa\",\"opacity\":1,\"size\":[1069.0],\"sizemode\":\"area\",\"sizeref\":5.9925},\"mode\":\"lines+markers+text\",\"name\":\"Ebonyi\",\"showlegend\":false,\"subplot\":\"mapbox\",\"type\":\"scattermapbox\",\"textfont\":{\"color\":\"#fff\"},\"text\":[\"177.0\",\"402.0\",\"345.0\",\"628.0\",\"299.0\",\"241.0\",\"340.0\",\"474.0\",\"441.0\",\"1158.0\",\"1069.0\",\"285.0\",\"857.0\",\"748.0\",\"1474.0\",\"462.0\",\"488.0\",\"214.0\",\"957.0\",\"1506.0\",\"345.0\",\"265.0\",\"368.0\",\"1143.0\",\"2397.0\",\"325.0\",\"264.0\",\"391.0\",\"167.0\",\"938.0\",\"1089.0\",\"1188.0\",\"519.0\",\"71.0\",\"180.0\",\"199.0\",\"211.0\"]},{\"hovertemplate\":\"State=Edo<br>Number_of_Doctors=%{marker.size}<br>lat=%{lat}<br>long=%{lon}<extra></extra>\",\"lat\":[6.6076575],\"legendgroup\":\"Edo\",\"lon\":[5.9722713],\"marker\":{\"color\":\"#EF553B\",\"opacity\":1,\"size\":[285.0],\"sizemode\":\"area\",\"sizeref\":5.9925},\"mode\":\"lines+markers+text\",\"name\":\"Edo\",\"showlegend\":false,\"subplot\":\"mapbox\",\"type\":\"scattermapbox\",\"textfont\":{\"color\":\"#fff\"},\"text\":[\"177.0\",\"402.0\",\"345.0\",\"628.0\",\"299.0\",\"241.0\",\"340.0\",\"474.0\",\"441.0\",\"1158.0\",\"1069.0\",\"285.0\",\"857.0\",\"748.0\",\"1474.0\",\"462.0\",\"488.0\",\"214.0\",\"957.0\",\"1506.0\",\"345.0\",\"265.0\",\"368.0\",\"1143.0\",\"2397.0\",\"325.0\",\"264.0\",\"391.0\",\"167.0\",\"938.0\",\"1089.0\",\"1188.0\",\"519.0\",\"71.0\",\"180.0\",\"199.0\",\"211.0\"]},{\"hovertemplate\":\"State=Ekiti<br>Number_of_Doctors=%{marker.size}<br>lat=%{lat}<br>long=%{lon}<extra></extra>\",\"lat\":[7.736891],\"legendgroup\":\"Ekiti\",\"lon\":[5.2738326],\"marker\":{\"color\":\"#00cc96\",\"opacity\":1,\"size\":[857.0],\"sizemode\":\"area\",\"sizeref\":5.9925},\"mode\":\"lines+markers+text\",\"name\":\"Ekiti\",\"showlegend\":false,\"subplot\":\"mapbox\",\"type\":\"scattermapbox\",\"textfont\":{\"color\":\"#fff\"},\"text\":[\"177.0\",\"402.0\",\"345.0\",\"628.0\",\"299.0\",\"241.0\",\"340.0\",\"474.0\",\"441.0\",\"1158.0\",\"1069.0\",\"285.0\",\"857.0\",\"748.0\",\"1474.0\",\"462.0\",\"488.0\",\"214.0\",\"957.0\",\"1506.0\",\"345.0\",\"265.0\",\"368.0\",\"1143.0\",\"2397.0\",\"325.0\",\"264.0\",\"391.0\",\"167.0\",\"938.0\",\"1089.0\",\"1188.0\",\"519.0\",\"71.0\",\"180.0\",\"199.0\",\"211.0\"]},{\"hovertemplate\":\"State=Enugu<br>Number_of_Doctors=%{marker.size}<br>lat=%{lat}<br>long=%{lon}<extra></extra>\",\"lat\":[6.5536094],\"legendgroup\":\"Enugu\",\"lon\":[7.4143061],\"marker\":{\"color\":\"#ab63fa\",\"opacity\":1,\"size\":[748.0],\"sizemode\":\"area\",\"sizeref\":5.9925},\"mode\":\"lines+markers+text\",\"name\":\"Enugu\",\"showlegend\":false,\"subplot\":\"mapbox\",\"type\":\"scattermapbox\",\"textfont\":{\"color\":\"#fff\"},\"text\":[\"177.0\",\"402.0\",\"345.0\",\"628.0\",\"299.0\",\"241.0\",\"340.0\",\"474.0\",\"441.0\",\"1158.0\",\"1069.0\",\"285.0\",\"857.0\",\"748.0\",\"1474.0\",\"462.0\",\"488.0\",\"214.0\",\"957.0\",\"1506.0\",\"345.0\",\"265.0\",\"368.0\",\"1143.0\",\"2397.0\",\"325.0\",\"264.0\",\"391.0\",\"167.0\",\"938.0\",\"1089.0\",\"1188.0\",\"519.0\",\"71.0\",\"180.0\",\"199.0\",\"211.0\"]},{\"hovertemplate\":\"State=FCT<br>Number_of_Doctors=%{marker.size}<br>lat=%{lat}<br>long=%{lon}<extra></extra>\",\"lat\":[8.8311228],\"legendgroup\":\"FCT\",\"lon\":[7.1724673],\"marker\":{\"color\":\"#FFA15A\",\"opacity\":1,\"size\":[1474.0],\"sizemode\":\"area\",\"sizeref\":5.9925},\"mode\":\"lines+markers+text\",\"name\":\"FCT\",\"showlegend\":false,\"subplot\":\"mapbox\",\"type\":\"scattermapbox\",\"textfont\":{\"color\":\"#fff\"},\"text\":[\"177.0\",\"402.0\",\"345.0\",\"628.0\",\"299.0\",\"241.0\",\"340.0\",\"474.0\",\"441.0\",\"1158.0\",\"1069.0\",\"285.0\",\"857.0\",\"748.0\",\"1474.0\",\"462.0\",\"488.0\",\"214.0\",\"957.0\",\"1506.0\",\"345.0\",\"265.0\",\"368.0\",\"1143.0\",\"2397.0\",\"325.0\",\"264.0\",\"391.0\",\"167.0\",\"938.0\",\"1089.0\",\"1188.0\",\"519.0\",\"71.0\",\"180.0\",\"199.0\",\"211.0\"]},{\"hovertemplate\":\"State=Gombe<br>Number_of_Doctors=%{marker.size}<br>lat=%{lat}<br>long=%{lon}<extra></extra>\",\"lat\":[10.38301],\"legendgroup\":\"Gombe\",\"lon\":[11.206567],\"marker\":{\"color\":\"#19d3f3\",\"opacity\":1,\"size\":[462.0],\"sizemode\":\"area\",\"sizeref\":5.9925},\"mode\":\"lines+markers+text\",\"name\":\"Gombe\",\"showlegend\":false,\"subplot\":\"mapbox\",\"type\":\"scattermapbox\",\"textfont\":{\"color\":\"#fff\"},\"text\":[\"177.0\",\"402.0\",\"345.0\",\"628.0\",\"299.0\",\"241.0\",\"340.0\",\"474.0\",\"441.0\",\"1158.0\",\"1069.0\",\"285.0\",\"857.0\",\"748.0\",\"1474.0\",\"462.0\",\"488.0\",\"214.0\",\"957.0\",\"1506.0\",\"345.0\",\"265.0\",\"368.0\",\"1143.0\",\"2397.0\",\"325.0\",\"264.0\",\"391.0\",\"167.0\",\"938.0\",\"1089.0\",\"1188.0\",\"519.0\",\"71.0\",\"180.0\",\"199.0\",\"211.0\"]},{\"hovertemplate\":\"State=Imo<br>Number_of_Doctors=%{marker.size}<br>lat=%{lat}<br>long=%{lon}<extra></extra>\",\"lat\":[5.5859456],\"legendgroup\":\"Imo\",\"lon\":[7.0669651],\"marker\":{\"color\":\"#FF6692\",\"opacity\":1,\"size\":[488.0],\"sizemode\":\"area\",\"sizeref\":5.9925},\"mode\":\"lines+markers+text\",\"name\":\"Imo\",\"showlegend\":false,\"subplot\":\"mapbox\",\"type\":\"scattermapbox\",\"textfont\":{\"color\":\"#fff\"},\"text\":[\"177.0\",\"402.0\",\"345.0\",\"628.0\",\"299.0\",\"241.0\",\"340.0\",\"474.0\",\"441.0\",\"1158.0\",\"1069.0\",\"285.0\",\"857.0\",\"748.0\",\"1474.0\",\"462.0\",\"488.0\",\"214.0\",\"957.0\",\"1506.0\",\"345.0\",\"265.0\",\"368.0\",\"1143.0\",\"2397.0\",\"325.0\",\"264.0\",\"391.0\",\"167.0\",\"938.0\",\"1089.0\",\"1188.0\",\"519.0\",\"71.0\",\"180.0\",\"199.0\",\"211.0\"]},{\"hovertemplate\":\"State=Jigawa<br>Number_of_Doctors=%{marker.size}<br>lat=%{lat}<br>long=%{lon}<extra></extra>\",\"lat\":[12.3252362],\"legendgroup\":\"Jigawa\",\"lon\":[9.5103296],\"marker\":{\"color\":\"#B6E880\",\"opacity\":1,\"size\":[214.0],\"sizemode\":\"area\",\"sizeref\":5.9925},\"mode\":\"lines+markers+text\",\"name\":\"Jigawa\",\"showlegend\":false,\"subplot\":\"mapbox\",\"type\":\"scattermapbox\",\"textfont\":{\"color\":\"#fff\"},\"text\":[\"177.0\",\"402.0\",\"345.0\",\"628.0\",\"299.0\",\"241.0\",\"340.0\",\"474.0\",\"441.0\",\"1158.0\",\"1069.0\",\"285.0\",\"857.0\",\"748.0\",\"1474.0\",\"462.0\",\"488.0\",\"214.0\",\"957.0\",\"1506.0\",\"345.0\",\"265.0\",\"368.0\",\"1143.0\",\"2397.0\",\"325.0\",\"264.0\",\"391.0\",\"167.0\",\"938.0\",\"1089.0\",\"1188.0\",\"519.0\",\"71.0\",\"180.0\",\"199.0\",\"211.0\"]},{\"hovertemplate\":\"State=Kaduna<br>Number_of_Doctors=%{marker.size}<br>lat=%{lat}<br>long=%{lon}<extra></extra>\",\"lat\":[10.3825318],\"legendgroup\":\"Kaduna\",\"lon\":[7.8533226],\"marker\":{\"color\":\"#FF97FF\",\"opacity\":1,\"size\":[957.0],\"sizemode\":\"area\",\"sizeref\":5.9925},\"mode\":\"lines+markers+text\",\"name\":\"Kaduna\",\"showlegend\":false,\"subplot\":\"mapbox\",\"type\":\"scattermapbox\",\"textfont\":{\"color\":\"#fff\"},\"text\":[\"177.0\",\"402.0\",\"345.0\",\"628.0\",\"299.0\",\"241.0\",\"340.0\",\"474.0\",\"441.0\",\"1158.0\",\"1069.0\",\"285.0\",\"857.0\",\"748.0\",\"1474.0\",\"462.0\",\"488.0\",\"214.0\",\"957.0\",\"1506.0\",\"345.0\",\"265.0\",\"368.0\",\"1143.0\",\"2397.0\",\"325.0\",\"264.0\",\"391.0\",\"167.0\",\"938.0\",\"1089.0\",\"1188.0\",\"519.0\",\"71.0\",\"180.0\",\"199.0\",\"211.0\"]},{\"hovertemplate\":\"State=Kano<br>Number_of_Doctors=%{marker.size}<br>lat=%{lat}<br>long=%{lon}<extra></extra>\",\"lat\":[11.8948389],\"legendgroup\":\"Kano\",\"lon\":[8.5364136],\"marker\":{\"color\":\"#FECB52\",\"opacity\":1,\"size\":[1506.0],\"sizemode\":\"area\",\"sizeref\":5.9925},\"mode\":\"lines+markers+text\",\"name\":\"Kano\",\"showlegend\":false,\"subplot\":\"mapbox\",\"type\":\"scattermapbox\",\"textfont\":{\"color\":\"#fff\"},\"text\":[\"177.0\",\"402.0\",\"345.0\",\"628.0\",\"299.0\",\"241.0\",\"340.0\",\"474.0\",\"441.0\",\"1158.0\",\"1069.0\",\"285.0\",\"857.0\",\"748.0\",\"1474.0\",\"462.0\",\"488.0\",\"214.0\",\"957.0\",\"1506.0\",\"345.0\",\"265.0\",\"368.0\",\"1143.0\",\"2397.0\",\"325.0\",\"264.0\",\"391.0\",\"167.0\",\"938.0\",\"1089.0\",\"1188.0\",\"519.0\",\"71.0\",\"180.0\",\"199.0\",\"211.0\"]},{\"hovertemplate\":\"State=Katsina<br>Number_of_Doctors=%{marker.size}<br>lat=%{lat}<br>long=%{lon}<extra></extra>\",\"lat\":[12.5630825],\"legendgroup\":\"Katsina\",\"lon\":[7.6207063],\"marker\":{\"color\":\"#636efa\",\"opacity\":1,\"size\":[345.0],\"sizemode\":\"area\",\"sizeref\":5.9925},\"mode\":\"lines+markers+text\",\"name\":\"Katsina\",\"showlegend\":false,\"subplot\":\"mapbox\",\"type\":\"scattermapbox\",\"textfont\":{\"color\":\"#fff\"},\"text\":[\"177.0\",\"402.0\",\"345.0\",\"628.0\",\"299.0\",\"241.0\",\"340.0\",\"474.0\",\"441.0\",\"1158.0\",\"1069.0\",\"285.0\",\"857.0\",\"748.0\",\"1474.0\",\"462.0\",\"488.0\",\"214.0\",\"957.0\",\"1506.0\",\"345.0\",\"265.0\",\"368.0\",\"1143.0\",\"2397.0\",\"325.0\",\"264.0\",\"391.0\",\"167.0\",\"938.0\",\"1089.0\",\"1188.0\",\"519.0\",\"71.0\",\"180.0\",\"199.0\",\"211.0\"]},{\"hovertemplate\":\"State=Kebbi<br>Number_of_Doctors=%{marker.size}<br>lat=%{lat}<br>long=%{lon}<extra></extra>\",\"lat\":[11.4167574],\"legendgroup\":\"Kebbi\",\"lon\":[4.1074545],\"marker\":{\"color\":\"#EF553B\",\"opacity\":1,\"size\":[265.0],\"sizemode\":\"area\",\"sizeref\":5.9925},\"mode\":\"lines+markers+text\",\"name\":\"Kebbi\",\"showlegend\":false,\"subplot\":\"mapbox\",\"type\":\"scattermapbox\",\"textfont\":{\"color\":\"#fff\"},\"text\":[\"177.0\",\"402.0\",\"345.0\",\"628.0\",\"299.0\",\"241.0\",\"340.0\",\"474.0\",\"441.0\",\"1158.0\",\"1069.0\",\"285.0\",\"857.0\",\"748.0\",\"1474.0\",\"462.0\",\"488.0\",\"214.0\",\"957.0\",\"1506.0\",\"345.0\",\"265.0\",\"368.0\",\"1143.0\",\"2397.0\",\"325.0\",\"264.0\",\"391.0\",\"167.0\",\"938.0\",\"1089.0\",\"1188.0\",\"519.0\",\"71.0\",\"180.0\",\"199.0\",\"211.0\"]},{\"hovertemplate\":\"State=Kogi<br>Number_of_Doctors=%{marker.size}<br>lat=%{lat}<br>long=%{lon}<extra></extra>\",\"lat\":[7.7949602],\"legendgroup\":\"Kogi\",\"lon\":[6.6868669],\"marker\":{\"color\":\"#00cc96\",\"opacity\":1,\"size\":[368.0],\"sizemode\":\"area\",\"sizeref\":5.9925},\"mode\":\"lines+markers+text\",\"name\":\"Kogi\",\"showlegend\":false,\"subplot\":\"mapbox\",\"type\":\"scattermapbox\",\"textfont\":{\"color\":\"#fff\"},\"text\":[\"177.0\",\"402.0\",\"345.0\",\"628.0\",\"299.0\",\"241.0\",\"340.0\",\"474.0\",\"441.0\",\"1158.0\",\"1069.0\",\"285.0\",\"857.0\",\"748.0\",\"1474.0\",\"462.0\",\"488.0\",\"214.0\",\"957.0\",\"1506.0\",\"345.0\",\"265.0\",\"368.0\",\"1143.0\",\"2397.0\",\"325.0\",\"264.0\",\"391.0\",\"167.0\",\"938.0\",\"1089.0\",\"1188.0\",\"519.0\",\"71.0\",\"180.0\",\"199.0\",\"211.0\"]},{\"hovertemplate\":\"State=Kwara<br>Number_of_Doctors=%{marker.size}<br>lat=%{lat}<br>long=%{lon}<extra></extra>\",\"lat\":[8.8367891],\"legendgroup\":\"Kwara\",\"lon\":[4.6688487],\"marker\":{\"color\":\"#ab63fa\",\"opacity\":1,\"size\":[1143.0],\"sizemode\":\"area\",\"sizeref\":5.9925},\"mode\":\"lines+markers+text\",\"name\":\"Kwara\",\"showlegend\":false,\"subplot\":\"mapbox\",\"type\":\"scattermapbox\",\"textfont\":{\"color\":\"#fff\"},\"text\":[\"177.0\",\"402.0\",\"345.0\",\"628.0\",\"299.0\",\"241.0\",\"340.0\",\"474.0\",\"441.0\",\"1158.0\",\"1069.0\",\"285.0\",\"857.0\",\"748.0\",\"1474.0\",\"462.0\",\"488.0\",\"214.0\",\"957.0\",\"1506.0\",\"345.0\",\"265.0\",\"368.0\",\"1143.0\",\"2397.0\",\"325.0\",\"264.0\",\"391.0\",\"167.0\",\"938.0\",\"1089.0\",\"1188.0\",\"519.0\",\"71.0\",\"180.0\",\"199.0\",\"211.0\"]},{\"hovertemplate\":\"State=Lagos<br>Number_of_Doctors=%{marker.size}<br>lat=%{lat}<br>long=%{lon}<extra></extra>\",\"lat\":[6.4550575],\"legendgroup\":\"Lagos\",\"lon\":[3.3941795],\"marker\":{\"color\":\"#FFA15A\",\"opacity\":1,\"size\":[2397.0],\"sizemode\":\"area\",\"sizeref\":5.9925},\"mode\":\"lines+markers+text\",\"name\":\"Lagos\",\"showlegend\":false,\"subplot\":\"mapbox\",\"type\":\"scattermapbox\",\"textfont\":{\"color\":\"#fff\"},\"text\":[\"177.0\",\"402.0\",\"345.0\",\"628.0\",\"299.0\",\"241.0\",\"340.0\",\"474.0\",\"441.0\",\"1158.0\",\"1069.0\",\"285.0\",\"857.0\",\"748.0\",\"1474.0\",\"462.0\",\"488.0\",\"214.0\",\"957.0\",\"1506.0\",\"345.0\",\"265.0\",\"368.0\",\"1143.0\",\"2397.0\",\"325.0\",\"264.0\",\"391.0\",\"167.0\",\"938.0\",\"1089.0\",\"1188.0\",\"519.0\",\"71.0\",\"180.0\",\"199.0\",\"211.0\"]},{\"hovertemplate\":\"State=Nasarawa<br>Number_of_Doctors=%{marker.size}<br>lat=%{lat}<br>long=%{lon}<extra></extra>\",\"lat\":[8.4387868],\"legendgroup\":\"Nasarawa\",\"lon\":[8.2382849],\"marker\":{\"color\":\"#19d3f3\",\"opacity\":1,\"size\":[325.0],\"sizemode\":\"area\",\"sizeref\":5.9925},\"mode\":\"lines+markers+text\",\"name\":\"Nasarawa\",\"showlegend\":false,\"subplot\":\"mapbox\",\"type\":\"scattermapbox\",\"textfont\":{\"color\":\"#fff\"},\"text\":[\"177.0\",\"402.0\",\"345.0\",\"628.0\",\"299.0\",\"241.0\",\"340.0\",\"474.0\",\"441.0\",\"1158.0\",\"1069.0\",\"285.0\",\"857.0\",\"748.0\",\"1474.0\",\"462.0\",\"488.0\",\"214.0\",\"957.0\",\"1506.0\",\"345.0\",\"265.0\",\"368.0\",\"1143.0\",\"2397.0\",\"325.0\",\"264.0\",\"391.0\",\"167.0\",\"938.0\",\"1089.0\",\"1188.0\",\"519.0\",\"71.0\",\"180.0\",\"199.0\",\"211.0\"]},{\"hovertemplate\":\"State=Niger<br>Number_of_Doctors=%{marker.size}<br>lat=%{lat}<br>long=%{lon}<extra></extra>\",\"lat\":[9.6187093],\"legendgroup\":\"Niger\",\"lon\":[6.5475752],\"marker\":{\"color\":\"#FF6692\",\"opacity\":1,\"size\":[264.0],\"sizemode\":\"area\",\"sizeref\":5.9925},\"mode\":\"lines+markers+text\",\"name\":\"Niger\",\"showlegend\":false,\"subplot\":\"mapbox\",\"type\":\"scattermapbox\",\"textfont\":{\"color\":\"#fff\"},\"text\":[\"177.0\",\"402.0\",\"345.0\",\"628.0\",\"299.0\",\"241.0\",\"340.0\",\"474.0\",\"441.0\",\"1158.0\",\"1069.0\",\"285.0\",\"857.0\",\"748.0\",\"1474.0\",\"462.0\",\"488.0\",\"214.0\",\"957.0\",\"1506.0\",\"345.0\",\"265.0\",\"368.0\",\"1143.0\",\"2397.0\",\"325.0\",\"264.0\",\"391.0\",\"167.0\",\"938.0\",\"1089.0\",\"1188.0\",\"519.0\",\"71.0\",\"180.0\",\"199.0\",\"211.0\"]},{\"hovertemplate\":\"State=Ogun<br>Number_of_Doctors=%{marker.size}<br>lat=%{lat}<br>long=%{lon}<extra></extra>\",\"lat\":[6.9788582],\"legendgroup\":\"Ogun\",\"lon\":[3.4389293],\"marker\":{\"color\":\"#B6E880\",\"opacity\":1,\"size\":[391.0],\"sizemode\":\"area\",\"sizeref\":5.9925},\"mode\":\"lines+markers+text\",\"name\":\"Ogun\",\"showlegend\":false,\"subplot\":\"mapbox\",\"type\":\"scattermapbox\",\"textfont\":{\"color\":\"#fff\"},\"text\":[\"177.0\",\"402.0\",\"345.0\",\"628.0\",\"299.0\",\"241.0\",\"340.0\",\"474.0\",\"441.0\",\"1158.0\",\"1069.0\",\"285.0\",\"857.0\",\"748.0\",\"1474.0\",\"462.0\",\"488.0\",\"214.0\",\"957.0\",\"1506.0\",\"345.0\",\"265.0\",\"368.0\",\"1143.0\",\"2397.0\",\"325.0\",\"264.0\",\"391.0\",\"167.0\",\"938.0\",\"1089.0\",\"1188.0\",\"519.0\",\"71.0\",\"180.0\",\"199.0\",\"211.0\"]},{\"hovertemplate\":\"State=Ondo<br>Number_of_Doctors=%{marker.size}<br>lat=%{lat}<br>long=%{lon}<extra></extra>\",\"lat\":[7.0209686],\"legendgroup\":\"Ondo\",\"lon\":[5.0567477],\"marker\":{\"color\":\"#FF97FF\",\"opacity\":1,\"size\":[167.0],\"sizemode\":\"area\",\"sizeref\":5.9925},\"mode\":\"lines+markers+text\",\"name\":\"Ondo\",\"showlegend\":false,\"subplot\":\"mapbox\",\"type\":\"scattermapbox\",\"textfont\":{\"color\":\"#fff\"},\"text\":[\"177.0\",\"402.0\",\"345.0\",\"628.0\",\"299.0\",\"241.0\",\"340.0\",\"474.0\",\"441.0\",\"1158.0\",\"1069.0\",\"285.0\",\"857.0\",\"748.0\",\"1474.0\",\"462.0\",\"488.0\",\"214.0\",\"957.0\",\"1506.0\",\"345.0\",\"265.0\",\"368.0\",\"1143.0\",\"2397.0\",\"325.0\",\"264.0\",\"391.0\",\"167.0\",\"938.0\",\"1089.0\",\"1188.0\",\"519.0\",\"71.0\",\"180.0\",\"199.0\",\"211.0\"]},{\"hovertemplate\":\"State=Osun<br>Number_of_Doctors=%{marker.size}<br>lat=%{lat}<br>long=%{lon}<extra></extra>\",\"lat\":[7.5484047],\"legendgroup\":\"Osun\",\"lon\":[4.4978307],\"marker\":{\"color\":\"#FECB52\",\"opacity\":1,\"size\":[938.0],\"sizemode\":\"area\",\"sizeref\":5.9925},\"mode\":\"lines+markers+text\",\"name\":\"Osun\",\"showlegend\":false,\"subplot\":\"mapbox\",\"type\":\"scattermapbox\",\"textfont\":{\"color\":\"#fff\"},\"text\":[\"177.0\",\"402.0\",\"345.0\",\"628.0\",\"299.0\",\"241.0\",\"340.0\",\"474.0\",\"441.0\",\"1158.0\",\"1069.0\",\"285.0\",\"857.0\",\"748.0\",\"1474.0\",\"462.0\",\"488.0\",\"214.0\",\"957.0\",\"1506.0\",\"345.0\",\"265.0\",\"368.0\",\"1143.0\",\"2397.0\",\"325.0\",\"264.0\",\"391.0\",\"167.0\",\"938.0\",\"1089.0\",\"1188.0\",\"519.0\",\"71.0\",\"180.0\",\"199.0\",\"211.0\"]},{\"hovertemplate\":\"State=Oyo<br>Number_of_Doctors=%{marker.size}<br>lat=%{lat}<br>long=%{lon}<extra></extra>\",\"lat\":[8.2151249],\"legendgroup\":\"Oyo\",\"lon\":[3.5642897],\"marker\":{\"color\":\"#636efa\",\"opacity\":1,\"size\":[1089.0],\"sizemode\":\"area\",\"sizeref\":5.9925},\"mode\":\"lines+markers+text\",\"name\":\"Oyo\",\"showlegend\":false,\"subplot\":\"mapbox\",\"type\":\"scattermapbox\",\"textfont\":{\"color\":\"#fff\"},\"text\":[\"177.0\",\"402.0\",\"345.0\",\"628.0\",\"299.0\",\"241.0\",\"340.0\",\"474.0\",\"441.0\",\"1158.0\",\"1069.0\",\"285.0\",\"857.0\",\"748.0\",\"1474.0\",\"462.0\",\"488.0\",\"214.0\",\"957.0\",\"1506.0\",\"345.0\",\"265.0\",\"368.0\",\"1143.0\",\"2397.0\",\"325.0\",\"264.0\",\"391.0\",\"167.0\",\"938.0\",\"1089.0\",\"1188.0\",\"519.0\",\"71.0\",\"180.0\",\"199.0\",\"211.0\"]},{\"hovertemplate\":\"State=Plateau<br>Number_of_Doctors=%{marker.size}<br>lat=%{lat}<br>long=%{lon}<extra></extra>\",\"lat\":[9.0583446],\"legendgroup\":\"Plateau\",\"lon\":[9.6826289],\"marker\":{\"color\":\"#EF553B\",\"opacity\":1,\"size\":[1188.0],\"sizemode\":\"area\",\"sizeref\":5.9925},\"mode\":\"lines+markers+text\",\"name\":\"Plateau\",\"showlegend\":false,\"subplot\":\"mapbox\",\"type\":\"scattermapbox\",\"textfont\":{\"color\":\"#fff\"},\"text\":[\"177.0\",\"402.0\",\"345.0\",\"628.0\",\"299.0\",\"241.0\",\"340.0\",\"474.0\",\"441.0\",\"1158.0\",\"1069.0\",\"285.0\",\"857.0\",\"748.0\",\"1474.0\",\"462.0\",\"488.0\",\"214.0\",\"957.0\",\"1506.0\",\"345.0\",\"265.0\",\"368.0\",\"1143.0\",\"2397.0\",\"325.0\",\"264.0\",\"391.0\",\"167.0\",\"938.0\",\"1089.0\",\"1188.0\",\"519.0\",\"71.0\",\"180.0\",\"199.0\",\"211.0\"]},{\"hovertemplate\":\"State=Rivers<br>Number_of_Doctors=%{marker.size}<br>lat=%{lat}<br>long=%{lon}<extra></extra>\",\"lat\":[4.8416028],\"legendgroup\":\"Rivers\",\"lon\":[6.8604088],\"marker\":{\"color\":\"#00cc96\",\"opacity\":1,\"size\":[519.0],\"sizemode\":\"area\",\"sizeref\":5.9925},\"mode\":\"lines+markers+text\",\"name\":\"Rivers\",\"showlegend\":false,\"subplot\":\"mapbox\",\"type\":\"scattermapbox\",\"textfont\":{\"color\":\"#fff\"},\"text\":[\"177.0\",\"402.0\",\"345.0\",\"628.0\",\"299.0\",\"241.0\",\"340.0\",\"474.0\",\"441.0\",\"1158.0\",\"1069.0\",\"285.0\",\"857.0\",\"748.0\",\"1474.0\",\"462.0\",\"488.0\",\"214.0\",\"957.0\",\"1506.0\",\"345.0\",\"265.0\",\"368.0\",\"1143.0\",\"2397.0\",\"325.0\",\"264.0\",\"391.0\",\"167.0\",\"938.0\",\"1089.0\",\"1188.0\",\"519.0\",\"71.0\",\"180.0\",\"199.0\",\"211.0\"]},{\"hovertemplate\":\"State=Sokoto<br>Number_of_Doctors=%{marker.size}<br>lat=%{lat}<br>long=%{lon}<extra></extra>\",\"lat\":[13.0611195],\"legendgroup\":\"Sokoto\",\"lon\":[5.3152203],\"marker\":{\"color\":\"#ab63fa\",\"opacity\":1,\"size\":[71.0],\"sizemode\":\"area\",\"sizeref\":5.9925},\"mode\":\"lines+markers+text\",\"name\":\"Sokoto\",\"showlegend\":false,\"subplot\":\"mapbox\",\"type\":\"scattermapbox\",\"textfont\":{\"color\":\"#fff\"},\"text\":[\"177.0\",\"402.0\",\"345.0\",\"628.0\",\"299.0\",\"241.0\",\"340.0\",\"474.0\",\"441.0\",\"1158.0\",\"1069.0\",\"285.0\",\"857.0\",\"748.0\",\"1474.0\",\"462.0\",\"488.0\",\"214.0\",\"957.0\",\"1506.0\",\"345.0\",\"265.0\",\"368.0\",\"1143.0\",\"2397.0\",\"325.0\",\"264.0\",\"391.0\",\"167.0\",\"938.0\",\"1089.0\",\"1188.0\",\"519.0\",\"71.0\",\"180.0\",\"199.0\",\"211.0\"]},{\"hovertemplate\":\"State=Taraba<br>Number_of_Doctors=%{marker.size}<br>lat=%{lat}<br>long=%{lon}<extra></extra>\",\"lat\":[8.0141334],\"legendgroup\":\"Taraba\",\"lon\":[10.7376336],\"marker\":{\"color\":\"#FFA15A\",\"opacity\":1,\"size\":[180.0],\"sizemode\":\"area\",\"sizeref\":5.9925},\"mode\":\"lines+markers+text\",\"name\":\"Taraba\",\"showlegend\":false,\"subplot\":\"mapbox\",\"type\":\"scattermapbox\",\"textfont\":{\"color\":\"#fff\"},\"text\":[\"177.0\",\"402.0\",\"345.0\",\"628.0\",\"299.0\",\"241.0\",\"340.0\",\"474.0\",\"441.0\",\"1158.0\",\"1069.0\",\"285.0\",\"857.0\",\"748.0\",\"1474.0\",\"462.0\",\"488.0\",\"214.0\",\"957.0\",\"1506.0\",\"345.0\",\"265.0\",\"368.0\",\"1143.0\",\"2397.0\",\"325.0\",\"264.0\",\"391.0\",\"167.0\",\"938.0\",\"1089.0\",\"1188.0\",\"519.0\",\"71.0\",\"180.0\",\"199.0\",\"211.0\"]},{\"hovertemplate\":\"State=Yobe<br>Number_of_Doctors=%{marker.size}<br>lat=%{lat}<br>long=%{lon}<extra></extra>\",\"lat\":[12.1233242],\"legendgroup\":\"Yobe\",\"lon\":[11.5065937],\"marker\":{\"color\":\"#19d3f3\",\"opacity\":1,\"size\":[199.0],\"sizemode\":\"area\",\"sizeref\":5.9925},\"mode\":\"lines+markers+text\",\"name\":\"Yobe\",\"showlegend\":false,\"subplot\":\"mapbox\",\"type\":\"scattermapbox\",\"textfont\":{\"color\":\"#fff\"},\"text\":[\"177.0\",\"402.0\",\"345.0\",\"628.0\",\"299.0\",\"241.0\",\"340.0\",\"474.0\",\"441.0\",\"1158.0\",\"1069.0\",\"285.0\",\"857.0\",\"748.0\",\"1474.0\",\"462.0\",\"488.0\",\"214.0\",\"957.0\",\"1506.0\",\"345.0\",\"265.0\",\"368.0\",\"1143.0\",\"2397.0\",\"325.0\",\"264.0\",\"391.0\",\"167.0\",\"938.0\",\"1089.0\",\"1188.0\",\"519.0\",\"71.0\",\"180.0\",\"199.0\",\"211.0\"]},{\"hovertemplate\":\"State=Zamfara<br>Number_of_Doctors=%{marker.size}<br>lat=%{lat}<br>long=%{lon}<extra></extra>\",\"lat\":[12.0078998],\"legendgroup\":\"Zamfara\",\"lon\":[6.4191432],\"marker\":{\"color\":\"#FF6692\",\"opacity\":1,\"size\":[211.0],\"sizemode\":\"area\",\"sizeref\":5.9925},\"mode\":\"lines+markers+text\",\"name\":\"Zamfara\",\"showlegend\":false,\"subplot\":\"mapbox\",\"type\":\"scattermapbox\",\"textfont\":{\"color\":\"#fff\"},\"text\":[\"177.0\",\"402.0\",\"345.0\",\"628.0\",\"299.0\",\"241.0\",\"340.0\",\"474.0\",\"441.0\",\"1158.0\",\"1069.0\",\"285.0\",\"857.0\",\"748.0\",\"1474.0\",\"462.0\",\"488.0\",\"214.0\",\"957.0\",\"1506.0\",\"345.0\",\"265.0\",\"368.0\",\"1143.0\",\"2397.0\",\"325.0\",\"264.0\",\"391.0\",\"167.0\",\"938.0\",\"1089.0\",\"1188.0\",\"519.0\",\"71.0\",\"180.0\",\"199.0\",\"211.0\"]}],                        {\"template\":{\"data\":{\"barpolar\":[{\"marker\":{\"line\":{\"color\":\"rgb(17,17,17)\",\"width\":0.5},\"pattern\":{\"fillmode\":\"overlay\",\"size\":10,\"solidity\":0.2}},\"type\":\"barpolar\"}],\"bar\":[{\"error_x\":{\"color\":\"#f2f5fa\"},\"error_y\":{\"color\":\"#f2f5fa\"},\"marker\":{\"line\":{\"color\":\"rgb(17,17,17)\",\"width\":0.5},\"pattern\":{\"fillmode\":\"overlay\",\"size\":10,\"solidity\":0.2}},\"type\":\"bar\"}],\"carpet\":[{\"aaxis\":{\"endlinecolor\":\"#A2B1C6\",\"gridcolor\":\"#506784\",\"linecolor\":\"#506784\",\"minorgridcolor\":\"#506784\",\"startlinecolor\":\"#A2B1C6\"},\"baxis\":{\"endlinecolor\":\"#A2B1C6\",\"gridcolor\":\"#506784\",\"linecolor\":\"#506784\",\"minorgridcolor\":\"#506784\",\"startlinecolor\":\"#A2B1C6\"},\"type\":\"carpet\"}],\"choropleth\":[{\"colorbar\":{\"outlinewidth\":0,\"ticks\":\"\"},\"type\":\"choropleth\"}],\"contourcarpet\":[{\"colorbar\":{\"outlinewidth\":0,\"ticks\":\"\"},\"type\":\"contourcarpet\"}],\"contour\":[{\"colorbar\":{\"outlinewidth\":0,\"ticks\":\"\"},\"colorscale\":[[0.0,\"#0d0887\"],[0.1111111111111111,\"#46039f\"],[0.2222222222222222,\"#7201a8\"],[0.3333333333333333,\"#9c179e\"],[0.4444444444444444,\"#bd3786\"],[0.5555555555555556,\"#d8576b\"],[0.6666666666666666,\"#ed7953\"],[0.7777777777777778,\"#fb9f3a\"],[0.8888888888888888,\"#fdca26\"],[1.0,\"#f0f921\"]],\"type\":\"contour\"}],\"heatmapgl\":[{\"colorbar\":{\"outlinewidth\":0,\"ticks\":\"\"},\"colorscale\":[[0.0,\"#0d0887\"],[0.1111111111111111,\"#46039f\"],[0.2222222222222222,\"#7201a8\"],[0.3333333333333333,\"#9c179e\"],[0.4444444444444444,\"#bd3786\"],[0.5555555555555556,\"#d8576b\"],[0.6666666666666666,\"#ed7953\"],[0.7777777777777778,\"#fb9f3a\"],[0.8888888888888888,\"#fdca26\"],[1.0,\"#f0f921\"]],\"type\":\"heatmapgl\"}],\"heatmap\":[{\"colorbar\":{\"outlinewidth\":0,\"ticks\":\"\"},\"colorscale\":[[0.0,\"#0d0887\"],[0.1111111111111111,\"#46039f\"],[0.2222222222222222,\"#7201a8\"],[0.3333333333333333,\"#9c179e\"],[0.4444444444444444,\"#bd3786\"],[0.5555555555555556,\"#d8576b\"],[0.6666666666666666,\"#ed7953\"],[0.7777777777777778,\"#fb9f3a\"],[0.8888888888888888,\"#fdca26\"],[1.0,\"#f0f921\"]],\"type\":\"heatmap\"}],\"histogram2dcontour\":[{\"colorbar\":{\"outlinewidth\":0,\"ticks\":\"\"},\"colorscale\":[[0.0,\"#0d0887\"],[0.1111111111111111,\"#46039f\"],[0.2222222222222222,\"#7201a8\"],[0.3333333333333333,\"#9c179e\"],[0.4444444444444444,\"#bd3786\"],[0.5555555555555556,\"#d8576b\"],[0.6666666666666666,\"#ed7953\"],[0.7777777777777778,\"#fb9f3a\"],[0.8888888888888888,\"#fdca26\"],[1.0,\"#f0f921\"]],\"type\":\"histogram2dcontour\"}],\"histogram2d\":[{\"colorbar\":{\"outlinewidth\":0,\"ticks\":\"\"},\"colorscale\":[[0.0,\"#0d0887\"],[0.1111111111111111,\"#46039f\"],[0.2222222222222222,\"#7201a8\"],[0.3333333333333333,\"#9c179e\"],[0.4444444444444444,\"#bd3786\"],[0.5555555555555556,\"#d8576b\"],[0.6666666666666666,\"#ed7953\"],[0.7777777777777778,\"#fb9f3a\"],[0.8888888888888888,\"#fdca26\"],[1.0,\"#f0f921\"]],\"type\":\"histogram2d\"}],\"histogram\":[{\"marker\":{\"pattern\":{\"fillmode\":\"overlay\",\"size\":10,\"solidity\":0.2}},\"type\":\"histogram\"}],\"mesh3d\":[{\"colorbar\":{\"outlinewidth\":0,\"ticks\":\"\"},\"type\":\"mesh3d\"}],\"parcoords\":[{\"line\":{\"colorbar\":{\"outlinewidth\":0,\"ticks\":\"\"}},\"type\":\"parcoords\"}],\"pie\":[{\"automargin\":true,\"type\":\"pie\"}],\"scatter3d\":[{\"line\":{\"colorbar\":{\"outlinewidth\":0,\"ticks\":\"\"}},\"marker\":{\"colorbar\":{\"outlinewidth\":0,\"ticks\":\"\"}},\"type\":\"scatter3d\"}],\"scattercarpet\":[{\"marker\":{\"colorbar\":{\"outlinewidth\":0,\"ticks\":\"\"}},\"type\":\"scattercarpet\"}],\"scattergeo\":[{\"marker\":{\"colorbar\":{\"outlinewidth\":0,\"ticks\":\"\"}},\"type\":\"scattergeo\"}],\"scattergl\":[{\"marker\":{\"line\":{\"color\":\"#283442\"}},\"type\":\"scattergl\"}],\"scattermapbox\":[{\"marker\":{\"colorbar\":{\"outlinewidth\":0,\"ticks\":\"\"}},\"type\":\"scattermapbox\"}],\"scatterpolargl\":[{\"marker\":{\"colorbar\":{\"outlinewidth\":0,\"ticks\":\"\"}},\"type\":\"scatterpolargl\"}],\"scatterpolar\":[{\"marker\":{\"colorbar\":{\"outlinewidth\":0,\"ticks\":\"\"}},\"type\":\"scatterpolar\"}],\"scatter\":[{\"marker\":{\"line\":{\"color\":\"#283442\"}},\"type\":\"scatter\"}],\"scatterternary\":[{\"marker\":{\"colorbar\":{\"outlinewidth\":0,\"ticks\":\"\"}},\"type\":\"scatterternary\"}],\"surface\":[{\"colorbar\":{\"outlinewidth\":0,\"ticks\":\"\"},\"colorscale\":[[0.0,\"#0d0887\"],[0.1111111111111111,\"#46039f\"],[0.2222222222222222,\"#7201a8\"],[0.3333333333333333,\"#9c179e\"],[0.4444444444444444,\"#bd3786\"],[0.5555555555555556,\"#d8576b\"],[0.6666666666666666,\"#ed7953\"],[0.7777777777777778,\"#fb9f3a\"],[0.8888888888888888,\"#fdca26\"],[1.0,\"#f0f921\"]],\"type\":\"surface\"}],\"table\":[{\"cells\":{\"fill\":{\"color\":\"#506784\"},\"line\":{\"color\":\"rgb(17,17,17)\"}},\"header\":{\"fill\":{\"color\":\"#2a3f5f\"},\"line\":{\"color\":\"rgb(17,17,17)\"}},\"type\":\"table\"}]},\"layout\":{\"annotationdefaults\":{\"arrowcolor\":\"#f2f5fa\",\"arrowhead\":0,\"arrowwidth\":1},\"autotypenumbers\":\"strict\",\"coloraxis\":{\"colorbar\":{\"outlinewidth\":0,\"ticks\":\"\"}},\"colorscale\":{\"diverging\":[[0,\"#8e0152\"],[0.1,\"#c51b7d\"],[0.2,\"#de77ae\"],[0.3,\"#f1b6da\"],[0.4,\"#fde0ef\"],[0.5,\"#f7f7f7\"],[0.6,\"#e6f5d0\"],[0.7,\"#b8e186\"],[0.8,\"#7fbc41\"],[0.9,\"#4d9221\"],[1,\"#276419\"]],\"sequential\":[[0.0,\"#0d0887\"],[0.1111111111111111,\"#46039f\"],[0.2222222222222222,\"#7201a8\"],[0.3333333333333333,\"#9c179e\"],[0.4444444444444444,\"#bd3786\"],[0.5555555555555556,\"#d8576b\"],[0.6666666666666666,\"#ed7953\"],[0.7777777777777778,\"#fb9f3a\"],[0.8888888888888888,\"#fdca26\"],[1.0,\"#f0f921\"]],\"sequentialminus\":[[0.0,\"#0d0887\"],[0.1111111111111111,\"#46039f\"],[0.2222222222222222,\"#7201a8\"],[0.3333333333333333,\"#9c179e\"],[0.4444444444444444,\"#bd3786\"],[0.5555555555555556,\"#d8576b\"],[0.6666666666666666,\"#ed7953\"],[0.7777777777777778,\"#fb9f3a\"],[0.8888888888888888,\"#fdca26\"],[1.0,\"#f0f921\"]]},\"colorway\":[\"#636efa\",\"#EF553B\",\"#00cc96\",\"#ab63fa\",\"#FFA15A\",\"#19d3f3\",\"#FF6692\",\"#B6E880\",\"#FF97FF\",\"#FECB52\"],\"font\":{\"color\":\"#f2f5fa\"},\"geo\":{\"bgcolor\":\"rgb(17,17,17)\",\"lakecolor\":\"rgb(17,17,17)\",\"landcolor\":\"rgb(17,17,17)\",\"showlakes\":true,\"showland\":true,\"subunitcolor\":\"#506784\"},\"hoverlabel\":{\"align\":\"left\"},\"hovermode\":\"closest\",\"mapbox\":{\"style\":\"dark\"},\"paper_bgcolor\":\"rgb(17,17,17)\",\"plot_bgcolor\":\"rgb(17,17,17)\",\"polar\":{\"angularaxis\":{\"gridcolor\":\"#506784\",\"linecolor\":\"#506784\",\"ticks\":\"\"},\"bgcolor\":\"rgb(17,17,17)\",\"radialaxis\":{\"gridcolor\":\"#506784\",\"linecolor\":\"#506784\",\"ticks\":\"\"}},\"scene\":{\"xaxis\":{\"backgroundcolor\":\"rgb(17,17,17)\",\"gridcolor\":\"#506784\",\"gridwidth\":2,\"linecolor\":\"#506784\",\"showbackground\":true,\"ticks\":\"\",\"zerolinecolor\":\"#C8D4E3\"},\"yaxis\":{\"backgroundcolor\":\"rgb(17,17,17)\",\"gridcolor\":\"#506784\",\"gridwidth\":2,\"linecolor\":\"#506784\",\"showbackground\":true,\"ticks\":\"\",\"zerolinecolor\":\"#C8D4E3\"},\"zaxis\":{\"backgroundcolor\":\"rgb(17,17,17)\",\"gridcolor\":\"#506784\",\"gridwidth\":2,\"linecolor\":\"#506784\",\"showbackground\":true,\"ticks\":\"\",\"zerolinecolor\":\"#C8D4E3\"}},\"shapedefaults\":{\"line\":{\"color\":\"#f2f5fa\"}},\"sliderdefaults\":{\"bgcolor\":\"#C8D4E3\",\"bordercolor\":\"rgb(17,17,17)\",\"borderwidth\":1,\"tickwidth\":0},\"ternary\":{\"aaxis\":{\"gridcolor\":\"#506784\",\"linecolor\":\"#506784\",\"ticks\":\"\"},\"baxis\":{\"gridcolor\":\"#506784\",\"linecolor\":\"#506784\",\"ticks\":\"\"},\"bgcolor\":\"rgb(17,17,17)\",\"caxis\":{\"gridcolor\":\"#506784\",\"linecolor\":\"#506784\",\"ticks\":\"\"}},\"title\":{\"x\":0.05},\"updatemenudefaults\":{\"bgcolor\":\"#506784\",\"borderwidth\":0},\"xaxis\":{\"automargin\":true,\"gridcolor\":\"#283442\",\"linecolor\":\"#506784\",\"ticks\":\"\",\"title\":{\"standoff\":15},\"zerolinecolor\":\"#283442\",\"zerolinewidth\":2},\"yaxis\":{\"automargin\":true,\"gridcolor\":\"#283442\",\"linecolor\":\"#506784\",\"ticks\":\"\",\"title\":{\"standoff\":15},\"zerolinecolor\":\"#283442\",\"zerolinewidth\":2}}},\"mapbox\":{\"domain\":{\"x\":[0.0,1.0],\"y\":[0.0,1.0]},\"center\":{\"lat\":9.082,\"lon\":8.6753},\"zoom\":5,\"style\":\"carto-darkmatter\"},\"legend\":{\"title\":{\"text\":\"State\"},\"tracegroupgap\":0,\"itemsizing\":\"constant\"},\"title\":{\"text\":\"Doctors by States\"},\"width\":900,\"margin\":{\"l\":0,\"r\":0,\"t\":0,\"b\":0}},                        {\"responsive\": true}                    ).then(function(){\n",
       "                            \n",
       "var gd = document.getElementById('9f218400-d5f9-4f59-9843-c40ba93f65ec');\n",
       "var x = new MutationObserver(function (mutations, observer) {{\n",
       "        var display = window.getComputedStyle(gd).display;\n",
       "        if (!display || display === 'none') {{\n",
       "            console.log([gd, 'removed!']);\n",
       "            Plotly.purge(gd);\n",
       "            observer.disconnect();\n",
       "        }}\n",
       "}});\n",
       "\n",
       "// Listen for the removal of the full notebook cells\n",
       "var notebookContainer = gd.closest('#notebook-container');\n",
       "if (notebookContainer) {{\n",
       "    x.observe(notebookContainer, {childList: true});\n",
       "}}\n",
       "\n",
       "// Listen for the clearing of the current output cell\n",
       "var outputEl = gd.closest('.output');\n",
       "if (outputEl) {{\n",
       "    x.observe(outputEl, {childList: true});\n",
       "}}\n",
       "\n",
       "                        })                };                });            </script>        </div>"
      ]
     },
     "metadata": {},
     "output_type": "display_data"
    }
   ],
   "source": [
    "df1=pd.read_csv('./Dataset/state.csv')\n",
    "map1=px.scatter_mapbox(\n",
    "    data_frame=df1,\n",
    "    lat='lat',\n",
    "    lon='long',\n",
    "    color='State',\n",
    "    size='Number_of_Doctors',\n",
    "    width=900,\n",
    "    template='plotly_dark',\n",
    "    opacity=1,\n",
    "    title='Doctors by States',\n",
    "    zoom=5,\n",
    "    center=dict(lat=9.0820,lon=8.6753)\n",
    ")\n",
    "map1.update_traces(showlegend=False, mode='lines+markers+text', text=list(df1['Number_of_Doctors']), textfont=dict(color='#fff'))\n",
    "map1.update_layout(\n",
    "    mapbox_style=\"carto-darkmatter\",margin=dict(l=0, r=0, t=0, b=0))"
   ]
  },
  {
   "cell_type": "markdown",
   "id": "3937b2db",
   "metadata": {},
   "source": [
    "<a name = \"conclusions\"></a>\n",
    "## 4. Conclusions"
   ]
  },
  {
   "cell_type": "markdown",
   "id": "f79959e5",
   "metadata": {},
   "source": [
    "- Healthcare in Nigeria is a concurrent responsibility of the three tiers of government in the country. Private providers of healthcare have a visible role to play in health care delivery.\n",
    "\n",
    "-  The country is greatly underserved in the health care sphere. Health facilities (health centers, personnel, and medical equipments) are inadequate in this country, especially in rural areas.\n",
    "\n",
    "- They are 69 tertiary health care facilitiies serving a population of over 220 million nigerian"
   ]
  },
  {
   "cell_type": "markdown",
   "id": "d30fe9e5",
   "metadata": {},
   "source": [
    "### 4.1 Index\n",
    "> - Scientific databases: the following databases were included in the search process—PubMed and African Journals Online.\n",
    "> - Internet searches were based on Google and Search Nigeria"
   ]
  },
  {
   "cell_type": "code",
   "execution_count": null,
   "id": "d8f05b2a",
   "metadata": {},
   "outputs": [],
   "source": []
  }
 ],
 "metadata": {
  "kernelspec": {
   "display_name": "Python 3 (ipykernel)",
   "language": "python",
   "name": "python3"
  },
  "language_info": {
   "codemirror_mode": {
    "name": "ipython",
    "version": 3
   },
   "file_extension": ".py",
   "mimetype": "text/x-python",
   "name": "python",
   "nbconvert_exporter": "python",
   "pygments_lexer": "ipython3",
   "version": "3.10.0"
  }
 },
 "nbformat": 4,
 "nbformat_minor": 5
}
